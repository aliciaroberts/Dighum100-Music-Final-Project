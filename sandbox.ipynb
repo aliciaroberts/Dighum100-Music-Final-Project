{
 "cells": [
  {
   "cell_type": "markdown",
   "id": "d5705f23-9b4c-4c54-9820-7996789af5c5",
   "metadata": {},
   "source": [
    "This will serve as the sandbox, so smash the castles you don't need anymore alicia"
   ]
  },
  {
   "cell_type": "code",
   "execution_count": 1,
   "id": "1e153806-d741-49de-8ded-f4b90727feef",
   "metadata": {},
   "outputs": [
    {
     "ename": "NameError",
     "evalue": "name 'get_artist' is not defined",
     "output_type": "error",
     "traceback": [
      "\u001b[1;31m---------------------------------------------------------------------------\u001b[0m",
      "\u001b[1;31mNameError\u001b[0m                                 Traceback (most recent call last)",
      "\u001b[1;32m~\\AppData\\Local\\Temp\\ipykernel_40548\\1701564703.py\u001b[0m in \u001b[0;36m<module>\u001b[1;34m\u001b[0m\n\u001b[0;32m      3\u001b[0m \u001b[1;32mimport\u001b[0m \u001b[0mpandas\u001b[0m \u001b[1;32mas\u001b[0m \u001b[0mpd\u001b[0m\u001b[1;33m\u001b[0m\u001b[1;33m\u001b[0m\u001b[0m\n\u001b[0;32m      4\u001b[0m \u001b[1;33m\u001b[0m\u001b[0m\n\u001b[1;32m----> 5\u001b[1;33m \u001b[1;32mfrom\u001b[0m \u001b[0mproject_functions\u001b[0m \u001b[1;32mimport\u001b[0m \u001b[1;33m*\u001b[0m\u001b[1;33m\u001b[0m\u001b[1;33m\u001b[0m\u001b[0m\n\u001b[0m\u001b[0;32m      6\u001b[0m \u001b[1;32mimport\u001b[0m \u001b[0mnumpy\u001b[0m \u001b[1;32mas\u001b[0m \u001b[0mnp\u001b[0m\u001b[1;33m\u001b[0m\u001b[1;33m\u001b[0m\u001b[0m\n",
      "\u001b[1;32m~\\Downloads\\dh_100\\Dighum100-Music-Final-Project\\project_functions.py\u001b[0m in \u001b[0;36m<module>\u001b[1;34m\u001b[0m\n\u001b[0;32m     54\u001b[0m \u001b[1;31m# functions time:\u001b[0m\u001b[1;33m\u001b[0m\u001b[1;33m\u001b[0m\u001b[0m\n\u001b[0;32m     55\u001b[0m \u001b[1;33m@\u001b[0m\u001b[0martist_cache\u001b[0m\u001b[1;33m\u001b[0m\u001b[1;33m\u001b[0m\u001b[0m\n\u001b[1;32m---> 56\u001b[1;33m \u001b[1;32mdef\u001b[0m \u001b[0mget_artist\u001b[0m\u001b[1;33m(\u001b[0m\u001b[0martist\u001b[0m\u001b[1;33m)\u001b[0m\u001b[1;33m:\u001b[0m\u001b[1;33m\u001b[0m\u001b[1;33m\u001b[0m\u001b[0m\n\u001b[0m\u001b[0;32m     57\u001b[0m     dic = (genius.search_artist(artist, \n\u001b[0;32m     58\u001b[0m                                     \u001b[0mmax_songs\u001b[0m \u001b[1;33m=\u001b[0m \u001b[1;36m0\u001b[0m\u001b[1;33m,\u001b[0m\u001b[1;33m\u001b[0m\u001b[1;33m\u001b[0m\u001b[0m\n",
      "\u001b[1;32m~\\Downloads\\dh_100\\Dighum100-Music-Final-Project\\project_functions.py\u001b[0m in \u001b[0;36martist_cache\u001b[1;34m(a)\u001b[0m\n\u001b[0;32m     38\u001b[0m         \u001b[1;32mreturn\u001b[0m \u001b[0martists\u001b[0m\u001b[1;33m[\u001b[0m\u001b[0ma\u001b[0m\u001b[1;33m]\u001b[0m\u001b[1;33m\u001b[0m\u001b[1;33m\u001b[0m\u001b[0m\n\u001b[0;32m     39\u001b[0m     \u001b[1;32melse\u001b[0m\u001b[1;33m:\u001b[0m\u001b[1;33m\u001b[0m\u001b[1;33m\u001b[0m\u001b[0m\n\u001b[1;32m---> 40\u001b[1;33m         \u001b[0martists\u001b[0m\u001b[1;33m[\u001b[0m\u001b[0ma\u001b[0m\u001b[1;33m]\u001b[0m \u001b[1;33m=\u001b[0m \u001b[0mget_artist\u001b[0m\u001b[1;33m(\u001b[0m\u001b[0ma\u001b[0m\u001b[1;33m)\u001b[0m\u001b[1;33m\u001b[0m\u001b[1;33m\u001b[0m\u001b[0m\n\u001b[0m\u001b[0;32m     41\u001b[0m         \u001b[1;32mreturn\u001b[0m \u001b[0martists\u001b[0m\u001b[1;33m[\u001b[0m\u001b[0ma\u001b[0m\u001b[1;33m]\u001b[0m\u001b[1;33m\u001b[0m\u001b[1;33m\u001b[0m\u001b[0m\n\u001b[0;32m     42\u001b[0m \u001b[1;33m\u001b[0m\u001b[0m\n",
      "\u001b[1;31mNameError\u001b[0m: name 'get_artist' is not defined"
     ]
    }
   ],
   "source": [
    "# let's create our final data set:\n",
    "\n",
    "import pandas as pd\n",
    "\n",
    "from project_functions import *\n",
    "import numpy as np"
   ]
  },
  {
   "cell_type": "code",
   "execution_count": null,
   "id": "e268cf2c-c826-46a2-b7bc-e55fb0527d48",
   "metadata": {},
   "outputs": [],
   "source": [
    "cities = pd.read_csv('uscities.csv')\n",
    "songs = pd.read_csv('music_dh100_group.csv').drop('Album', axis = 1)"
   ]
  },
  {
   "cell_type": "code",
   "execution_count": null,
   "id": "9e77804c-1f8c-4dd9-a2c7-3b45e321af5a",
   "metadata": {},
   "outputs": [],
   "source": [
    "songs.head()"
   ]
  },
  {
   "cell_type": "code",
   "execution_count": null,
   "id": "050cb2d4-1c08-484f-bcfc-c110ab0d2aea",
   "metadata": {},
   "outputs": [],
   "source": [
    "songs.sample()"
   ]
  },
  {
   "cell_type": "code",
   "execution_count": null,
   "id": "603aaf6c-3956-4b7e-875f-4181cbcb5606",
   "metadata": {},
   "outputs": [],
   "source": [
    "wave1 = songs[songs['Wave'] == 1]"
   ]
  },
  {
   "cell_type": "code",
   "execution_count": null,
   "id": "168db2f9-9d8d-4d7e-b679-abc720cbd3e8",
   "metadata": {},
   "outputs": [],
   "source": [
    "wave1_sample = wave1.sample(5)"
   ]
  },
  {
   "cell_type": "code",
   "execution_count": null,
   "id": "ef599199-e72b-43d2-93a7-5a854d21ed32",
   "metadata": {},
   "outputs": [],
   "source": [
    "def data_cleaning(df):\n",
    "    dictionaries = song_dictionary(df)\n",
    "    df['Lyrics'] = [s['lyrics'] if s else s for s in dictionaries]\n",
    "    df['Description'] = [get_description(s['artist_names'][0]) if s else s for s in dictionaries]\n",
    "    df['Year'] = [get_year(s) if s else s for s in dictionaries]"
   ]
  },
  {
   "cell_type": "code",
   "execution_count": null,
   "id": "606321d8-34f9-4b19-96a4-044162baea47",
   "metadata": {},
   "outputs": [],
   "source": [
    "data_cleaning(wave1_sample.sample())"
   ]
  },
  {
   "cell_type": "code",
   "execution_count": null,
   "id": "02fc5799-cf99-4af7-b5f9-b298df51ef65",
   "metadata": {},
   "outputs": [],
   "source": [
    "def clean_rows(df):\n",
    "    '''removes artists that don't exist in the data set'''\n",
    "    df['Artist ID'] = df['Artist'].apply(lambda s: get_artist_ID(s))\n",
    "    df = df[df['Artist_ID'] >= 0]"
   ]
  },
  {
   "cell_type": "code",
   "execution_count": null,
   "id": "9b0ec60e-f805-40c7-8481-71f2d1a593c7",
   "metadata": {},
   "outputs": [],
   "source": [
    "clean_rows(wave1_sample.sample())"
   ]
  },
  {
   "cell_type": "code",
   "execution_count": null,
   "id": "4f9a5e83-c190-4f13-bbab-ced3e06c87f1",
   "metadata": {},
   "outputs": [],
   "source": [
    "\n",
    "    "
   ]
  }
 ],
 "metadata": {
  "kernelspec": {
   "display_name": "Python 3 (ipykernel)",
   "language": "python",
   "name": "python3"
  },
  "language_info": {
   "codemirror_mode": {
    "name": "ipython",
    "version": 3
   },
   "file_extension": ".py",
   "mimetype": "text/x-python",
   "name": "python",
   "nbconvert_exporter": "python",
   "pygments_lexer": "ipython3",
   "version": "3.9.13"
  }
 },
 "nbformat": 4,
 "nbformat_minor": 5
}
