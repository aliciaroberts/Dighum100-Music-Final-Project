{
 "cells": [
  {
   "cell_type": "markdown",
   "id": "d5705f23-9b4c-4c54-9820-7996789af5c5",
   "metadata": {},
   "source": [
    "This will serve as the sandbox, so smash the castles you don't need anymore alicia"
   ]
  },
  {
   "cell_type": "code",
   "execution_count": 1,
   "id": "1e153806-d741-49de-8ded-f4b90727feef",
   "metadata": {},
   "outputs": [],
   "source": [
    "# let's create our final data set:\n",
    "\n",
    "import pandas as pd\n",
    "\n",
    "from project_functions import *\n",
    "import numpy as np"
   ]
  },
  {
   "cell_type": "code",
   "execution_count": 2,
   "id": "e268cf2c-c826-46a2-b7bc-e55fb0527d48",
   "metadata": {},
   "outputs": [],
   "source": [
    "cities = pd.read_csv('uscities.csv')\n",
    "songs = pd.read_csv('music_dh100_group.csv').drop('Album', axis = 1)"
   ]
  },
  {
   "cell_type": "code",
   "execution_count": 3,
   "id": "9e77804c-1f8c-4dd9-a2c7-3b45e321af5a",
   "metadata": {},
   "outputs": [
    {
     "data": {
      "text/html": [
       "<div>\n",
       "<style scoped>\n",
       "    .dataframe tbody tr th:only-of-type {\n",
       "        vertical-align: middle;\n",
       "    }\n",
       "\n",
       "    .dataframe tbody tr th {\n",
       "        vertical-align: top;\n",
       "    }\n",
       "\n",
       "    .dataframe thead th {\n",
       "        text-align: right;\n",
       "    }\n",
       "</style>\n",
       "<table border=\"1\" class=\"dataframe\">\n",
       "  <thead>\n",
       "    <tr style=\"text-align: right;\">\n",
       "      <th></th>\n",
       "      <th>Artist</th>\n",
       "      <th>Song</th>\n",
       "      <th>Wave</th>\n",
       "    </tr>\n",
       "  </thead>\n",
       "  <tbody>\n",
       "    <tr>\n",
       "      <th>0</th>\n",
       "      <td>Bikini Kill</td>\n",
       "      <td>Double Dare Ya</td>\n",
       "      <td>3</td>\n",
       "    </tr>\n",
       "    <tr>\n",
       "      <th>1</th>\n",
       "      <td>Gossip</td>\n",
       "      <td>Where the Girls Are</td>\n",
       "      <td>3</td>\n",
       "    </tr>\n",
       "    <tr>\n",
       "      <th>2</th>\n",
       "      <td>Bratmobile</td>\n",
       "      <td>Love Thing</td>\n",
       "      <td>3</td>\n",
       "    </tr>\n",
       "    <tr>\n",
       "      <th>3</th>\n",
       "      <td>Lunachicks</td>\n",
       "      <td>Bitterness Barbie</td>\n",
       "      <td>3</td>\n",
       "    </tr>\n",
       "    <tr>\n",
       "      <th>4</th>\n",
       "      <td>Cicely Hamilton</td>\n",
       "      <td>The March of the Women</td>\n",
       "      <td>1</td>\n",
       "    </tr>\n",
       "  </tbody>\n",
       "</table>\n",
       "</div>"
      ],
      "text/plain": [
       "            Artist                    Song  Wave\n",
       "0      Bikini Kill          Double Dare Ya     3\n",
       "1           Gossip     Where the Girls Are     3\n",
       "2       Bratmobile              Love Thing     3\n",
       "3       Lunachicks       Bitterness Barbie     3\n",
       "4  Cicely Hamilton  The March of the Women     1"
      ]
     },
     "execution_count": 3,
     "metadata": {},
     "output_type": "execute_result"
    }
   ],
   "source": [
    "songs.head()"
   ]
  },
  {
   "cell_type": "code",
   "execution_count": 4,
   "id": "050cb2d4-1c08-484f-bcfc-c110ab0d2aea",
   "metadata": {},
   "outputs": [
    {
     "data": {
      "text/html": [
       "<div>\n",
       "<style scoped>\n",
       "    .dataframe tbody tr th:only-of-type {\n",
       "        vertical-align: middle;\n",
       "    }\n",
       "\n",
       "    .dataframe tbody tr th {\n",
       "        vertical-align: top;\n",
       "    }\n",
       "\n",
       "    .dataframe thead th {\n",
       "        text-align: right;\n",
       "    }\n",
       "</style>\n",
       "<table border=\"1\" class=\"dataframe\">\n",
       "  <thead>\n",
       "    <tr style=\"text-align: right;\">\n",
       "      <th></th>\n",
       "      <th>Artist</th>\n",
       "      <th>Song</th>\n",
       "      <th>Wave</th>\n",
       "    </tr>\n",
       "  </thead>\n",
       "  <tbody>\n",
       "    <tr>\n",
       "      <th>5</th>\n",
       "      <td>C.C Harrah</td>\n",
       "      <td>The Equal-Rights Banner</td>\n",
       "      <td>1</td>\n",
       "    </tr>\n",
       "  </tbody>\n",
       "</table>\n",
       "</div>"
      ],
      "text/plain": [
       "       Artist                     Song  Wave\n",
       "5  C.C Harrah  The Equal-Rights Banner     1"
      ]
     },
     "execution_count": 4,
     "metadata": {},
     "output_type": "execute_result"
    }
   ],
   "source": [
    "songs.sample()"
   ]
  },
  {
   "cell_type": "code",
   "execution_count": 5,
   "id": "603aaf6c-3956-4b7e-875f-4181cbcb5606",
   "metadata": {},
   "outputs": [],
   "source": [
    "wave1 = songs[songs['Wave'] == 1]"
   ]
  },
  {
   "cell_type": "code",
   "execution_count": 6,
   "id": "168db2f9-9d8d-4d7e-b679-abc720cbd3e8",
   "metadata": {},
   "outputs": [],
   "source": [
    "wave1_sample = wave1.sample(5)"
   ]
  },
  {
   "cell_type": "code",
   "execution_count": 7,
   "id": "cf980575-187a-44c5-b66e-1ec0c6b69cc0",
   "metadata": {},
   "outputs": [],
   "source": [
    "wave1_artists = wave1_sample['Artist'].values\n",
    "wave1_songs = wave1_sample['Song'].values"
   ]
  },
  {
   "cell_type": "code",
   "execution_count": 8,
   "id": "75e18abf-7d78-4f17-9080-bf221ece96b2",
   "metadata": {},
   "outputs": [],
   "source": [
    "def song_dictionary(df):\n",
    "    '''given a data frame that contains artist name and song title (or optionally artist ID),\n",
    "    return a dictionary that contains information on that song\n",
    "    CURRENT ISSUE: sometimes returns the totally wrong song :(('''\n",
    "    dicts = [] # list of dictionaries that can be added to the data frame \n",
    "    for i in range(len(df)):\n",
    "        # so itterate through each row if done properly:\n",
    "        dictionary = genius.search_song(title = df['Song'].iloc[i],artist = df['Artist'].iloc[i])\n",
    "        if dictionary == None:\n",
    "            dicts.append(dictionary)\n",
    "        else:\n",
    "            dicts.append(dictionary.to_dict())\n",
    "    return dicts"
   ]
  },
  {
   "cell_type": "code",
   "execution_count": 9,
   "id": "63607507-203f-4d93-ba67-397dd6bc0398",
   "metadata": {},
   "outputs": [],
   "source": [
    " # genius.search_song(title = 'low', artist = 'florida')"
   ]
  },
  {
   "cell_type": "code",
   "execution_count": 10,
   "id": "0eeab65c-620a-4ddc-9d2c-78ac5a4cceec",
   "metadata": {},
   "outputs": [
    {
     "name": "stdout",
     "output_type": "stream",
     "text": [
      "Searching for \"Sam Jones Blues\" by Bessie Smith...\n",
      "Done.\n",
      "Searching for \"The Women's Marseillaise\" by Florence MacAulay...\n",
      "No results found for: 'The Women's Marseillaise Florence MacAulay'\n",
      "Searching for \"The March of the Women\" by Cicely Hamilton...\n",
      "Done.\n",
      "Searching for \"Keep Woman in Her Sphere\" by D. Estabrook...\n",
      "No results found for: 'Keep Woman in Her Sphere D. Estabrook'\n",
      "Searching for \"Just As Well as He\" by Adella Hunt Logan...\n",
      "Done.\n"
     ]
    }
   ],
   "source": [
    "sample_dictionaries = song_dictionary(wave1_sample)"
   ]
  },
  {
   "cell_type": "code",
   "execution_count": 11,
   "id": "b2a36782-3791-47ce-b88d-f14c94e2fcae",
   "metadata": {},
   "outputs": [
    {
     "data": {
      "text/plain": [
       "['Bessie Smith', None, 'John Foxe', None, 'James Joyce']"
      ]
     },
     "execution_count": 11,
     "metadata": {},
     "output_type": "execute_result"
    }
   ],
   "source": [
    "[s['artist_names'] if s != None else None for s in sample_dictionaries]"
   ]
  },
  {
   "cell_type": "code",
   "execution_count": 12,
   "id": "275c0467-100f-4438-9f8e-ae5aeeef82dd",
   "metadata": {},
   "outputs": [],
   "source": [
    "wave1_sample['Lyrics'] = [s['lyrics'] if s != None else None for s in sample_dictionaries]"
   ]
  },
  {
   "cell_type": "code",
   "execution_count": 13,
   "id": "a0c23737-3713-46ea-b08e-42863b7bcb11",
   "metadata": {},
   "outputs": [
    {
     "data": {
      "text/html": [
       "<div>\n",
       "<style scoped>\n",
       "    .dataframe tbody tr th:only-of-type {\n",
       "        vertical-align: middle;\n",
       "    }\n",
       "\n",
       "    .dataframe tbody tr th {\n",
       "        vertical-align: top;\n",
       "    }\n",
       "\n",
       "    .dataframe thead th {\n",
       "        text-align: right;\n",
       "    }\n",
       "</style>\n",
       "<table border=\"1\" class=\"dataframe\">\n",
       "  <thead>\n",
       "    <tr style=\"text-align: right;\">\n",
       "      <th></th>\n",
       "      <th>Artist</th>\n",
       "      <th>Song</th>\n",
       "      <th>Wave</th>\n",
       "      <th>Lyrics</th>\n",
       "    </tr>\n",
       "  </thead>\n",
       "  <tbody>\n",
       "    <tr>\n",
       "      <th>44</th>\n",
       "      <td>Bessie Smith</td>\n",
       "      <td>Sam Jones Blues</td>\n",
       "      <td>1</td>\n",
       "      <td>4 ContributorsSam Jones Blues Lyrics(Spoken: W...</td>\n",
       "    </tr>\n",
       "    <tr>\n",
       "      <th>9</th>\n",
       "      <td>Florence MacAulay</td>\n",
       "      <td>The Women's Marseillaise</td>\n",
       "      <td>1</td>\n",
       "      <td>None</td>\n",
       "    </tr>\n",
       "    <tr>\n",
       "      <th>4</th>\n",
       "      <td>Cicely Hamilton</td>\n",
       "      <td>The March of the Women</td>\n",
       "      <td>1</td>\n",
       "      <td>1 ContributorActes and Monuments (Foxe’s Book ...</td>\n",
       "    </tr>\n",
       "    <tr>\n",
       "      <th>70</th>\n",
       "      <td>D. Estabrook</td>\n",
       "      <td>Keep Woman in Her Sphere</td>\n",
       "      <td>1</td>\n",
       "      <td>None</td>\n",
       "    </tr>\n",
       "    <tr>\n",
       "      <th>56</th>\n",
       "      <td>Adella Hunt Logan</td>\n",
       "      <td>Just As Well as He</td>\n",
       "      <td>1</td>\n",
       "      <td>4 ContributorsFinnegan’s Wake (Chap. 3.3) Lyri...</td>\n",
       "    </tr>\n",
       "  </tbody>\n",
       "</table>\n",
       "</div>"
      ],
      "text/plain": [
       "               Artist                      Song  Wave  \\\n",
       "44       Bessie Smith           Sam Jones Blues     1   \n",
       "9   Florence MacAulay  The Women's Marseillaise     1   \n",
       "4     Cicely Hamilton    The March of the Women     1   \n",
       "70       D. Estabrook  Keep Woman in Her Sphere     1   \n",
       "56  Adella Hunt Logan        Just As Well as He     1   \n",
       "\n",
       "                                               Lyrics  \n",
       "44  4 ContributorsSam Jones Blues Lyrics(Spoken: W...  \n",
       "9                                                None  \n",
       "4   1 ContributorActes and Monuments (Foxe’s Book ...  \n",
       "70                                               None  \n",
       "56  4 ContributorsFinnegan’s Wake (Chap. 3.3) Lyri...  "
      ]
     },
     "execution_count": 13,
     "metadata": {},
     "output_type": "execute_result"
    }
   ],
   "source": [
    "wave1_sample"
   ]
  },
  {
   "cell_type": "code",
   "execution_count": 37,
   "id": "590b528f-86eb-492b-8ea1-17d1e0960efc",
   "metadata": {},
   "outputs": [],
   "source": [
    "def get_description(artist):\n",
    "    '''returns the description of an artist if applicable'''\n",
    "    dic = (genius.search_artist(artist, \n",
    "                                max_songs = 0, \n",
    "                                get_full_info = False, # should speed up the process \n",
    "                                allow_name_change = True)) # could find the right artist or the totally wrong one who knows. . .\n",
    "    if dic != None:\n",
    "        dic =  dic.to_dict()['description']['plain']\n",
    "    return dic"
   ]
  },
  {
   "cell_type": "code",
   "execution_count": 25,
   "id": "49722cda-1873-4aff-9977-178dca9f18d1",
   "metadata": {},
   "outputs": [
    {
     "name": "stdout",
     "output_type": "stream",
     "text": [
      "Searching for songs by Bessie Smith...\n",
      "\n",
      "Done. Found 0 songs.\n",
      "Searching for songs by Florence MacAulay...\n",
      "\n",
      "No results found for 'Florence MacAulay'.\n",
      "Searching for songs by Cicely Hamilton...\n",
      "\n",
      "No results found for 'Cicely Hamilton'.\n",
      "Searching for songs by D. Estabrook...\n",
      "\n",
      "No results found for 'D. Estabrook'.\n",
      "Searching for songs by Adella Hunt Logan...\n",
      "\n",
      "No results found for 'Adella Hunt Logan'.\n"
     ]
    }
   ],
   "source": [
    "descriptions = wave1_sample['Artist'].apply(lambda a: get_description(a))"
   ]
  },
  {
   "cell_type": "code",
   "execution_count": 26,
   "id": "a6de5638-c86d-4405-9bf2-25b212cbe735",
   "metadata": {},
   "outputs": [
    {
     "data": {
      "text/plain": [
       "44    Bessie Smith, 0 songs\n",
       "9                      None\n",
       "4                      None\n",
       "70                     None\n",
       "56                     None\n",
       "Name: Artist, dtype: object"
      ]
     },
     "execution_count": 26,
     "metadata": {},
     "output_type": "execute_result"
    }
   ],
   "source": [
    "descriptions"
   ]
  },
  {
   "cell_type": "code",
   "execution_count": 29,
   "id": "c34b8be9-4a3c-4d85-9256-74b27c240599",
   "metadata": {},
   "outputs": [
    {
     "data": {
      "text/plain": [
       "dict_keys(['_type', 'annotation_count', 'api_path', 'artist_names', 'full_title', 'header_image_thumbnail_url', 'header_image_url', 'id', 'instrumental', 'lyrics_owner_id', 'lyrics_state', 'lyrics_updated_at', 'path', 'pyongs_count', 'relationships_index_url', 'release_date_components', 'release_date_for_display', 'release_date_with_abbreviated_month_for_display', 'song_art_image_thumbnail_url', 'song_art_image_url', 'stats', 'title', 'title_with_featured', 'updated_by_human_at', 'url', 'featured_artists', 'primary_artist', 'primary_artists', 'artist', 'lyrics'])"
      ]
     },
     "execution_count": 29,
     "metadata": {},
     "output_type": "execute_result"
    }
   ],
   "source": [
    "sample_dictionaries[0].keys()"
   ]
  },
  {
   "cell_type": "code",
   "execution_count": 38,
   "id": "e883bfdd-facd-4fba-808d-8c10290e0f1d",
   "metadata": {},
   "outputs": [
    {
     "name": "stdout",
     "output_type": "stream",
     "text": [
      "Searching for songs by Bessie Smith...\n",
      "\n",
      "Done. Found 0 songs.\n"
     ]
    },
    {
     "data": {
      "text/plain": [
       "'Bessie Smith is regarded as “The Empress of Blues,” and considered one of the most influential vocalists of the 1900s. She was born in 1894 Chattanooga, Tennessee. Her recording contract in 1922 with Columbia Records was a landmark for Black musicians, and she became one of the highest-paid Black performers during that time.\\n\\nThroughout her life, she sang many blues songs. Her vocal style strongly influenced later jazz musicians. Known for her hugely-expressive growl, Smith continues to gain relevancy in current times. She was widely rumored to be bisexual, although no hard evidence exists. Later singers Billie Holiday, Aretha Franklin, and Janis Joplin considered her to to be a primary influential to their music. Smith died following complications in a car accident in 1937. Since then, many accounts of her life have been included in film, TV, and books.'"
      ]
     },
     "execution_count": 38,
     "metadata": {},
     "output_type": "execute_result"
    }
   ],
   "source": [
    "get_description(sample_dictionaries[0]['artist_names'])"
   ]
  },
  {
   "cell_type": "code",
   "execution_count": 39,
   "id": "7ac957f3-bb1c-4b43-aedf-bb40de2129cd",
   "metadata": {},
   "outputs": [],
   "source": [
    "# yay that looks good! now let's see if i can do this in bulk? "
   ]
  },
  {
   "cell_type": "code",
   "execution_count": null,
   "id": "6a2620aa-08c8-4eda-99de-07ff87ee4c4a",
   "metadata": {},
   "outputs": [],
   "source": []
  }
 ],
 "metadata": {
  "kernelspec": {
   "display_name": "Python 3 (ipykernel)",
   "language": "python",
   "name": "python3"
  },
  "language_info": {
   "codemirror_mode": {
    "name": "ipython",
    "version": 3
   },
   "file_extension": ".py",
   "mimetype": "text/x-python",
   "name": "python",
   "nbconvert_exporter": "python",
   "pygments_lexer": "ipython3",
   "version": "3.9.13"
  }
 },
 "nbformat": 4,
 "nbformat_minor": 5
}
