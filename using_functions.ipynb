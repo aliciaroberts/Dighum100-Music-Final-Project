{
 "cells": [
  {
   "cell_type": "code",
   "execution_count": 1,
   "id": "3793b0d7-8083-4e49-8cd6-f85caf088e84",
   "metadata": {},
   "outputs": [],
   "source": [
    "# let's use my python functions file: "
   ]
  },
  {
   "cell_type": "code",
   "execution_count": 2,
   "id": "2e61f47e-8b98-484c-a0e9-a0b0c41dd05e",
   "metadata": {},
   "outputs": [],
   "source": [
    "from project_functions import *\n",
    "import pandas as pd"
   ]
  },
  {
   "cell_type": "code",
   "execution_count": 3,
   "id": "1485bbea-2508-4a46-9393-2e1f9f729ff3",
   "metadata": {},
   "outputs": [],
   "source": [
    "data = pd.read_csv('music_dh100_group.csv')"
   ]
  },
  {
   "cell_type": "code",
   "execution_count": 4,
   "id": "bf7c49b1-b132-4546-9cc9-db7c1a996fb4",
   "metadata": {},
   "outputs": [
    {
     "data": {
      "text/html": [
       "<div>\n",
       "<style scoped>\n",
       "    .dataframe tbody tr th:only-of-type {\n",
       "        vertical-align: middle;\n",
       "    }\n",
       "\n",
       "    .dataframe tbody tr th {\n",
       "        vertical-align: top;\n",
       "    }\n",
       "\n",
       "    .dataframe thead th {\n",
       "        text-align: right;\n",
       "    }\n",
       "</style>\n",
       "<table border=\"1\" class=\"dataframe\">\n",
       "  <thead>\n",
       "    <tr style=\"text-align: right;\">\n",
       "      <th></th>\n",
       "      <th>Artist</th>\n",
       "      <th>Song</th>\n",
       "      <th>Wave</th>\n",
       "      <th>Album</th>\n",
       "    </tr>\n",
       "  </thead>\n",
       "  <tbody>\n",
       "    <tr>\n",
       "      <th>0</th>\n",
       "      <td>Bikini Kill</td>\n",
       "      <td>Double Dare Ya</td>\n",
       "      <td>3</td>\n",
       "      <td>The First Two Records</td>\n",
       "    </tr>\n",
       "    <tr>\n",
       "      <th>1</th>\n",
       "      <td>Gossip</td>\n",
       "      <td>Where the Girls Are</td>\n",
       "      <td>3</td>\n",
       "      <td>NaN</td>\n",
       "    </tr>\n",
       "    <tr>\n",
       "      <th>2</th>\n",
       "      <td>Bratmobile</td>\n",
       "      <td>Love Thing</td>\n",
       "      <td>3</td>\n",
       "      <td>NaN</td>\n",
       "    </tr>\n",
       "    <tr>\n",
       "      <th>3</th>\n",
       "      <td>Lunachicks</td>\n",
       "      <td>Bitterness Barbie</td>\n",
       "      <td>3</td>\n",
       "      <td>NaN</td>\n",
       "    </tr>\n",
       "    <tr>\n",
       "      <th>4</th>\n",
       "      <td>Cicely Hamilton</td>\n",
       "      <td>The March of the Women</td>\n",
       "      <td>1</td>\n",
       "      <td>NaN</td>\n",
       "    </tr>\n",
       "  </tbody>\n",
       "</table>\n",
       "</div>"
      ],
      "text/plain": [
       "            Artist                    Song  Wave                  Album\n",
       "0      Bikini Kill          Double Dare Ya     3  The First Two Records\n",
       "1           Gossip     Where the Girls Are     3                    NaN\n",
       "2       Bratmobile              Love Thing     3                    NaN\n",
       "3       Lunachicks       Bitterness Barbie     3                    NaN\n",
       "4  Cicely Hamilton  The March of the Women     1                    NaN"
      ]
     },
     "execution_count": 4,
     "metadata": {},
     "output_type": "execute_result"
    }
   ],
   "source": [
    "data.head()"
   ]
  },
  {
   "cell_type": "code",
   "execution_count": 5,
   "id": "f534122a-a59c-4f7a-afdf-df87e23eb16e",
   "metadata": {},
   "outputs": [
    {
     "name": "stdout",
     "output_type": "stream",
     "text": [
      "<class 'pandas.core.frame.DataFrame'>\n",
      "RangeIndex: 75 entries, 0 to 74\n",
      "Data columns (total 4 columns):\n",
      " #   Column  Non-Null Count  Dtype \n",
      "---  ------  --------------  ----- \n",
      " 0   Artist  75 non-null     object\n",
      " 1   Song    75 non-null     object\n",
      " 2   Wave    75 non-null     int64 \n",
      " 3   Album   1 non-null      object\n",
      "dtypes: int64(1), object(3)\n",
      "memory usage: 2.5+ KB\n"
     ]
    }
   ],
   "source": [
    "data.info()"
   ]
  },
  {
   "cell_type": "code",
   "execution_count": 6,
   "id": "e2e33e5b-bd58-461c-9348-00c0f37c92b3",
   "metadata": {},
   "outputs": [
    {
     "data": {
      "text/html": [
       "<div>\n",
       "<style scoped>\n",
       "    .dataframe tbody tr th:only-of-type {\n",
       "        vertical-align: middle;\n",
       "    }\n",
       "\n",
       "    .dataframe tbody tr th {\n",
       "        vertical-align: top;\n",
       "    }\n",
       "\n",
       "    .dataframe thead th {\n",
       "        text-align: right;\n",
       "    }\n",
       "</style>\n",
       "<table border=\"1\" class=\"dataframe\">\n",
       "  <thead>\n",
       "    <tr style=\"text-align: right;\">\n",
       "      <th></th>\n",
       "      <th>Artist</th>\n",
       "      <th>Song</th>\n",
       "      <th>Wave</th>\n",
       "    </tr>\n",
       "  </thead>\n",
       "  <tbody>\n",
       "    <tr>\n",
       "      <th>70</th>\n",
       "      <td>D. Estabrook</td>\n",
       "      <td>Keep Woman in Her Sphere</td>\n",
       "      <td>1</td>\n",
       "    </tr>\n",
       "    <tr>\n",
       "      <th>71</th>\n",
       "      <td>Billie Eilish</td>\n",
       "      <td>What Was I Made For?</td>\n",
       "      <td>3</td>\n",
       "    </tr>\n",
       "    <tr>\n",
       "      <th>72</th>\n",
       "      <td>Sophie Tucker</td>\n",
       "      <td>I Ain't Taking Orders from No One</td>\n",
       "      <td>1</td>\n",
       "    </tr>\n",
       "    <tr>\n",
       "      <th>73</th>\n",
       "      <td>Billie Holiday</td>\n",
       "      <td>You Ain't Gonna Bother Me No More</td>\n",
       "      <td>2</td>\n",
       "    </tr>\n",
       "    <tr>\n",
       "      <th>74</th>\n",
       "      <td>Pink</td>\n",
       "      <td>Stupid Girl</td>\n",
       "      <td>3</td>\n",
       "    </tr>\n",
       "  </tbody>\n",
       "</table>\n",
       "</div>"
      ],
      "text/plain": [
       "            Artist                               Song  Wave\n",
       "70    D. Estabrook           Keep Woman in Her Sphere     1\n",
       "71  Billie Eilish                What Was I Made For?     3\n",
       "72   Sophie Tucker  I Ain't Taking Orders from No One     1\n",
       "73  Billie Holiday  You Ain't Gonna Bother Me No More     2\n",
       "74            Pink                        Stupid Girl     3"
      ]
     },
     "execution_count": 6,
     "metadata": {},
     "output_type": "execute_result"
    }
   ],
   "source": [
    "# i'll drop the album column since there's only one entry:\n",
    "\n",
    "data = data.drop('Album', axis = 1)\n",
    "data.tail()"
   ]
  },
  {
   "cell_type": "code",
   "execution_count": 7,
   "id": "eebef7a4-9c26-4a5a-8f7d-538eee607e2b",
   "metadata": {},
   "outputs": [
    {
     "data": {
      "text/html": [
       "<div>\n",
       "<style scoped>\n",
       "    .dataframe tbody tr th:only-of-type {\n",
       "        vertical-align: middle;\n",
       "    }\n",
       "\n",
       "    .dataframe tbody tr th {\n",
       "        vertical-align: top;\n",
       "    }\n",
       "\n",
       "    .dataframe thead th {\n",
       "        text-align: right;\n",
       "    }\n",
       "</style>\n",
       "<table border=\"1\" class=\"dataframe\">\n",
       "  <thead>\n",
       "    <tr style=\"text-align: right;\">\n",
       "      <th></th>\n",
       "      <th>Song</th>\n",
       "    </tr>\n",
       "    <tr>\n",
       "      <th>Wave</th>\n",
       "      <th></th>\n",
       "    </tr>\n",
       "  </thead>\n",
       "  <tbody>\n",
       "    <tr>\n",
       "      <th>1</th>\n",
       "      <td>19</td>\n",
       "    </tr>\n",
       "    <tr>\n",
       "      <th>2</th>\n",
       "      <td>22</td>\n",
       "    </tr>\n",
       "    <tr>\n",
       "      <th>3</th>\n",
       "      <td>34</td>\n",
       "    </tr>\n",
       "  </tbody>\n",
       "</table>\n",
       "</div>"
      ],
      "text/plain": [
       "      Song\n",
       "Wave      \n",
       "1       19\n",
       "2       22\n",
       "3       34"
      ]
     },
     "execution_count": 7,
     "metadata": {},
     "output_type": "execute_result"
    }
   ],
   "source": [
    "# how many songs per wave do we have?\n",
    "\n",
    "data.groupby('Wave').count()[['Song']]"
   ]
  },
  {
   "cell_type": "code",
   "execution_count": 8,
   "id": "2868127a-cd10-4a17-bdec-7cfa903a3dc3",
   "metadata": {},
   "outputs": [
    {
     "data": {
      "text/plain": [
       "\"5 ContributorsWhere the Girls Are Lyrics[Intro]\\nThat's where I'll be\\nWhere the girls are\\nThat's where I'll be\\n\\n[Verse]\\nGirl, I'll even tell your sister\\nGirl, I love you like no other\\nI'll be your missus, be your mistress\\nGirl, I'll even tell your mother\\n\\n[Chorus]\\nWhen I'm right, I say I'm right\\nIf I'm wrong, please tell me I'm wrong\\nCome on home with me tonight\\nLet me love you all night long\\n\\n[Verse]\\nGirl, I'll even tell your sister\\nGirl, I love you like no other\\nI'll be your missus, be your mistress\\nGirl, I'll even tell your mother\\n\\n[Chorus]\\nWhen I'm right, I say I'm right\\nIf I'm wrong, please tell me I'm wrong\\nCome on home with me tonight\\nLet me love you all night long\\nYou might also like[Refrain]\\nGirl, I'll even tell your sister\\nGirl, I love you like no other\\nI'll be your missus, be your mistress\\n\\n[Chorus]\\nWhen I'm right, I say I'm right\\nIf I'm wrong, please tell me I'm wrong\\nCome on home with me tonight\\nLet me love you all night longEmbed\""
      ]
     },
     "execution_count": 8,
     "metadata": {},
     "output_type": "execute_result"
    }
   ],
   "source": [
    "# now let's do some adding of values:\n",
    "\n",
    "# test first!\n",
    "\n",
    "get_lyrics(data['Song'][1])"
   ]
  },
  {
   "cell_type": "code",
   "execution_count": 9,
   "id": "cc6a954e-5809-44e3-b373-bd34a34472d9",
   "metadata": {},
   "outputs": [],
   "source": [
    "# let's try a larger sample: \n",
    "\n",
    "data_sample = data.sample(10, replace = False)"
   ]
  },
  {
   "cell_type": "code",
   "execution_count": 10,
   "id": "7c33a154-7ae0-4849-8063-4d9af8d7a0cd",
   "metadata": {},
   "outputs": [],
   "source": [
    "# data_sample['Song'].apply(lambda s: get_lyrics(s))"
   ]
  },
  {
   "cell_type": "code",
   "execution_count": 11,
   "id": "e4369008-2e0a-48d2-9074-0bbd735962ae",
   "metadata": {},
   "outputs": [],
   "source": [
    "# let's see if the older songs are in here: \n",
    "\n",
    "data_1_songs = data[data['Wave'] == 1]"
   ]
  },
  {
   "cell_type": "code",
   "execution_count": 12,
   "id": "e3945819-7c0c-404a-af86-5a651770a718",
   "metadata": {},
   "outputs": [],
   "source": [
    "lyrics_wave_1_sample = data_1_songs['Song'].apply(lambda s: get_lyrics(s))"
   ]
  },
  {
   "cell_type": "code",
   "execution_count": 13,
   "id": "dd1f94fa-faab-447a-8f7c-6617d0ceb34f",
   "metadata": {},
   "outputs": [
    {
     "name": "stderr",
     "output_type": "stream",
     "text": [
      "C:\\Users\\alica\\AppData\\Local\\Temp\\ipykernel_40708\\2941895015.py:1: SettingWithCopyWarning: \n",
      "A value is trying to be set on a copy of a slice from a DataFrame.\n",
      "Try using .loc[row_indexer,col_indexer] = value instead\n",
      "\n",
      "See the caveats in the documentation: https://pandas.pydata.org/pandas-docs/stable/user_guide/indexing.html#returning-a-view-versus-a-copy\n",
      "  data_1_songs['Lyrics'] = lyrics_wave_1_sample\n"
     ]
    }
   ],
   "source": [
    "data_1_songs['Lyrics'] = lyrics_wave_1_sample"
   ]
  },
  {
   "cell_type": "code",
   "execution_count": 14,
   "id": "bc612daa-7cdc-4791-bae8-d6e9f6df560b",
   "metadata": {},
   "outputs": [
    {
     "data": {
      "text/html": [
       "<div>\n",
       "<style scoped>\n",
       "    .dataframe tbody tr th:only-of-type {\n",
       "        vertical-align: middle;\n",
       "    }\n",
       "\n",
       "    .dataframe tbody tr th {\n",
       "        vertical-align: top;\n",
       "    }\n",
       "\n",
       "    .dataframe thead th {\n",
       "        text-align: right;\n",
       "    }\n",
       "</style>\n",
       "<table border=\"1\" class=\"dataframe\">\n",
       "  <thead>\n",
       "    <tr style=\"text-align: right;\">\n",
       "      <th></th>\n",
       "      <th>Artist</th>\n",
       "      <th>Song</th>\n",
       "      <th>Wave</th>\n",
       "      <th>Lyrics</th>\n",
       "    </tr>\n",
       "  </thead>\n",
       "  <tbody>\n",
       "    <tr>\n",
       "      <th>4</th>\n",
       "      <td>Cicely Hamilton</td>\n",
       "      <td>The March of the Women</td>\n",
       "      <td>1</td>\n",
       "      <td>1 Contributor​after school special Lyrics[prod...</td>\n",
       "    </tr>\n",
       "    <tr>\n",
       "      <th>5</th>\n",
       "      <td>C.C Harrah</td>\n",
       "      <td>The Equal-Rights Banner</td>\n",
       "      <td>1</td>\n",
       "      <td>1 ContributorLeader Of The Soulless LyricsJeal...</td>\n",
       "    </tr>\n",
       "    <tr>\n",
       "      <th>6</th>\n",
       "      <td>Edward Christie</td>\n",
       "      <td>Daughters of Freedom</td>\n",
       "      <td>1</td>\n",
       "      <td>2 ContributorsSons and Daughters LyricsYoung m...</td>\n",
       "    </tr>\n",
       "    <tr>\n",
       "      <th>9</th>\n",
       "      <td>Florence MacAulay</td>\n",
       "      <td>The Women's Marseillaise</td>\n",
       "      <td>1</td>\n",
       "      <td>1 ContributorLost Face (Chap. 1) LyricsLost Fa...</td>\n",
       "    </tr>\n",
       "    <tr>\n",
       "      <th>16</th>\n",
       "      <td>Sophie Tucker</td>\n",
       "      <td>I Ain't Taking Orders From No One</td>\n",
       "      <td>1</td>\n",
       "      <td>4 ContributorsMo City Lyrics[Talking:]\\nDareo ...</td>\n",
       "    </tr>\n",
       "    <tr>\n",
       "      <th>26</th>\n",
       "      <td>Gertrude \"Ma\" Rainey</td>\n",
       "      <td>Cell Bound Blues</td>\n",
       "      <td>1</td>\n",
       "      <td>2 ContributorsCell Bound Blues Lyrics[Verse 1]...</td>\n",
       "    </tr>\n",
       "    <tr>\n",
       "      <th>44</th>\n",
       "      <td>Bessie Smith</td>\n",
       "      <td>Sam Jones Blues</td>\n",
       "      <td>1</td>\n",
       "      <td>4 ContributorsSam Jones Blues Lyrics(Spoken: W...</td>\n",
       "    </tr>\n",
       "    <tr>\n",
       "      <th>50</th>\n",
       "      <td>David Edelstadt</td>\n",
       "      <td>Arber Froyen</td>\n",
       "      <td>1</td>\n",
       "      <td>4 ContributorsHole Hearted Lyrics[Verse 1]\\nAm...</td>\n",
       "    </tr>\n",
       "    <tr>\n",
       "      <th>52</th>\n",
       "      <td>Charlotte Perkins Gilman(</td>\n",
       "      <td>Another Star</td>\n",
       "      <td>1</td>\n",
       "      <td>27 ContributorsAnother Star Lyrics[Intro]\\nLa-...</td>\n",
       "    </tr>\n",
       "    <tr>\n",
       "      <th>56</th>\n",
       "      <td>Adella Hunt Logan</td>\n",
       "      <td>Just As Well as He</td>\n",
       "      <td>1</td>\n",
       "      <td>4 ContributorsAshes Of San Miguel LyricsI spun...</td>\n",
       "    </tr>\n",
       "    <tr>\n",
       "      <th>58</th>\n",
       "      <td>Ruth Etting</td>\n",
       "      <td>Tomorrow, Who Cares? (A Woman's Choice)</td>\n",
       "      <td>1</td>\n",
       "      <td>5 ContributorsAll You Zombies Lyrics2217  Time...</td>\n",
       "    </tr>\n",
       "    <tr>\n",
       "      <th>63</th>\n",
       "      <td>Robert Burns</td>\n",
       "      <td>A Man's a Man for a That</td>\n",
       "      <td>1</td>\n",
       "      <td>2 ContributorsA Man’s A Man For A’ That Lyrics...</td>\n",
       "    </tr>\n",
       "    <tr>\n",
       "      <th>64</th>\n",
       "      <td>Edward Christie</td>\n",
       "      <td>Daughters of Freedom</td>\n",
       "      <td>1</td>\n",
       "      <td>2 ContributorsSons and Daughters LyricsYoung m...</td>\n",
       "    </tr>\n",
       "    <tr>\n",
       "      <th>65</th>\n",
       "      <td>Joseph Rumshinsky</td>\n",
       "      <td>Damen Rechte</td>\n",
       "      <td>1</td>\n",
       "      <td>8 ContributorsWoodstock 2008 Lyrics[Intro: Eso...</td>\n",
       "    </tr>\n",
       "    <tr>\n",
       "      <th>67</th>\n",
       "      <td>Marion Harris</td>\n",
       "      <td>There'll Be Some Changes Made</td>\n",
       "      <td>1</td>\n",
       "      <td>2 ContributorsThere’ll Be Some Changes Made Ly...</td>\n",
       "    </tr>\n",
       "    <tr>\n",
       "      <th>68</th>\n",
       "      <td>Maurice Burkhardt</td>\n",
       "      <td>Since My Margaret Became a Suffragette</td>\n",
       "      <td>1</td>\n",
       "      <td>2 ContributorsChapter 19: Surprises LyricsHele...</td>\n",
       "    </tr>\n",
       "    <tr>\n",
       "      <th>69</th>\n",
       "      <td>Billy Murray</td>\n",
       "      <td>Your Mother's Gone Away to Join the Army</td>\n",
       "      <td>1</td>\n",
       "      <td>2 ContributorsHalf of a Yellow Sun (Q&amp;A) Lyric...</td>\n",
       "    </tr>\n",
       "    <tr>\n",
       "      <th>70</th>\n",
       "      <td>D. Estabrook</td>\n",
       "      <td>Keep Woman in Her Sphere</td>\n",
       "      <td>1</td>\n",
       "      <td>1 ContributorLetters on the Equality of the Se...</td>\n",
       "    </tr>\n",
       "    <tr>\n",
       "      <th>72</th>\n",
       "      <td>Sophie Tucker</td>\n",
       "      <td>I Ain't Taking Orders from No One</td>\n",
       "      <td>1</td>\n",
       "      <td>4 ContributorsMo City Lyrics[Talking:]\\nDareo ...</td>\n",
       "    </tr>\n",
       "  </tbody>\n",
       "</table>\n",
       "</div>"
      ],
      "text/plain": [
       "                       Artist                                      Song  Wave  \\\n",
       "4             Cicely Hamilton                    The March of the Women     1   \n",
       "5                  C.C Harrah                   The Equal-Rights Banner     1   \n",
       "6             Edward Christie                      Daughters of Freedom     1   \n",
       "9           Florence MacAulay                  The Women's Marseillaise     1   \n",
       "16              Sophie Tucker         I Ain't Taking Orders From No One     1   \n",
       "26       Gertrude \"Ma\" Rainey                          Cell Bound Blues     1   \n",
       "44               Bessie Smith                           Sam Jones Blues     1   \n",
       "50            David Edelstadt                             Arber Froyen      1   \n",
       "52  Charlotte Perkins Gilman(                              Another Star     1   \n",
       "56          Adella Hunt Logan                        Just As Well as He     1   \n",
       "58                Ruth Etting   Tomorrow, Who Cares? (A Woman's Choice)     1   \n",
       "63               Robert Burns                  A Man's a Man for a That     1   \n",
       "64            Edward Christie                      Daughters of Freedom     1   \n",
       "65          Joseph Rumshinsky                              Damen Rechte     1   \n",
       "67              Marion Harris             There'll Be Some Changes Made     1   \n",
       "68          Maurice Burkhardt    Since My Margaret Became a Suffragette     1   \n",
       "69               Billy Murray  Your Mother's Gone Away to Join the Army     1   \n",
       "70               D. Estabrook                  Keep Woman in Her Sphere     1   \n",
       "72              Sophie Tucker         I Ain't Taking Orders from No One     1   \n",
       "\n",
       "                                               Lyrics  \n",
       "4   1 Contributor​after school special Lyrics[prod...  \n",
       "5   1 ContributorLeader Of The Soulless LyricsJeal...  \n",
       "6   2 ContributorsSons and Daughters LyricsYoung m...  \n",
       "9   1 ContributorLost Face (Chap. 1) LyricsLost Fa...  \n",
       "16  4 ContributorsMo City Lyrics[Talking:]\\nDareo ...  \n",
       "26  2 ContributorsCell Bound Blues Lyrics[Verse 1]...  \n",
       "44  4 ContributorsSam Jones Blues Lyrics(Spoken: W...  \n",
       "50  4 ContributorsHole Hearted Lyrics[Verse 1]\\nAm...  \n",
       "52  27 ContributorsAnother Star Lyrics[Intro]\\nLa-...  \n",
       "56  4 ContributorsAshes Of San Miguel LyricsI spun...  \n",
       "58  5 ContributorsAll You Zombies Lyrics2217  Time...  \n",
       "63  2 ContributorsA Man’s A Man For A’ That Lyrics...  \n",
       "64  2 ContributorsSons and Daughters LyricsYoung m...  \n",
       "65  8 ContributorsWoodstock 2008 Lyrics[Intro: Eso...  \n",
       "67  2 ContributorsThere’ll Be Some Changes Made Ly...  \n",
       "68  2 ContributorsChapter 19: Surprises LyricsHele...  \n",
       "69  2 ContributorsHalf of a Yellow Sun (Q&A) Lyric...  \n",
       "70  1 ContributorLetters on the Equality of the Se...  \n",
       "72  4 ContributorsMo City Lyrics[Talking:]\\nDareo ...  "
      ]
     },
     "execution_count": 14,
     "metadata": {},
     "output_type": "execute_result"
    }
   ],
   "source": [
    "data_1_songs"
   ]
  },
  {
   "cell_type": "markdown",
   "id": "e40409e1-4aba-4ea5-bb1d-4d6c30f75920",
   "metadata": {},
   "source": [
    "hmm these don't all look like just lyrics "
   ]
  },
  {
   "cell_type": "code",
   "execution_count": 15,
   "id": "a3df91cf-0b10-4de6-bd5a-9a8a23f2d052",
   "metadata": {},
   "outputs": [
    {
     "data": {
      "text/html": [
       "<div>\n",
       "<style scoped>\n",
       "    .dataframe tbody tr th:only-of-type {\n",
       "        vertical-align: middle;\n",
       "    }\n",
       "\n",
       "    .dataframe tbody tr th {\n",
       "        vertical-align: top;\n",
       "    }\n",
       "\n",
       "    .dataframe thead th {\n",
       "        text-align: right;\n",
       "    }\n",
       "</style>\n",
       "<table border=\"1\" class=\"dataframe\">\n",
       "  <thead>\n",
       "    <tr style=\"text-align: right;\">\n",
       "      <th></th>\n",
       "      <th>Artist</th>\n",
       "      <th>Song</th>\n",
       "      <th>Wave</th>\n",
       "    </tr>\n",
       "  </thead>\n",
       "  <tbody>\n",
       "    <tr>\n",
       "      <th>0</th>\n",
       "      <td>Bikini Kill</td>\n",
       "      <td>Double Dare Ya</td>\n",
       "      <td>3</td>\n",
       "    </tr>\n",
       "    <tr>\n",
       "      <th>1</th>\n",
       "      <td>Gossip</td>\n",
       "      <td>Where the Girls Are</td>\n",
       "      <td>3</td>\n",
       "    </tr>\n",
       "    <tr>\n",
       "      <th>2</th>\n",
       "      <td>Bratmobile</td>\n",
       "      <td>Love Thing</td>\n",
       "      <td>3</td>\n",
       "    </tr>\n",
       "    <tr>\n",
       "      <th>3</th>\n",
       "      <td>Lunachicks</td>\n",
       "      <td>Bitterness Barbie</td>\n",
       "      <td>3</td>\n",
       "    </tr>\n",
       "    <tr>\n",
       "      <th>4</th>\n",
       "      <td>Cicely Hamilton</td>\n",
       "      <td>The March of the Women</td>\n",
       "      <td>1</td>\n",
       "    </tr>\n",
       "  </tbody>\n",
       "</table>\n",
       "</div>"
      ],
      "text/plain": [
       "            Artist                    Song  Wave\n",
       "0      Bikini Kill          Double Dare Ya     3\n",
       "1           Gossip     Where the Girls Are     3\n",
       "2       Bratmobile              Love Thing     3\n",
       "3       Lunachicks       Bitterness Barbie     3\n",
       "4  Cicely Hamilton  The March of the Women     1"
      ]
     },
     "execution_count": 15,
     "metadata": {},
     "output_type": "execute_result"
    }
   ],
   "source": [
    "# let's see how old these songs are: \n",
    "\n",
    "data.head()\n"
   ]
  },
  {
   "cell_type": "code",
   "execution_count": 23,
   "id": "4fcfb22f-503a-4c87-b336-1682dae17714",
   "metadata": {},
   "outputs": [
    {
     "ename": "HTTPError",
     "evalue": "[Errno 429] 429 Client Error: Too Many Requests for url: https://genius.com/api/search/multi?q=Robert+Burns",
     "output_type": "error",
     "traceback": [
      "\u001b[1;31m---------------------------------------------------------------------------\u001b[0m",
      "\u001b[1;31mHTTPError\u001b[0m                                 Traceback (most recent call last)",
      "\u001b[1;32m~\\anaconda3\\lib\\site-packages\\lyricsgenius\\api\\base.py\u001b[0m in \u001b[0;36m_make_request\u001b[1;34m(self, path, method, params_, public_api, web, **kwargs)\u001b[0m\n\u001b[0;32m     79\u001b[0m                                                  **kwargs)\n\u001b[1;32m---> 80\u001b[1;33m                 \u001b[0mresponse\u001b[0m\u001b[1;33m.\u001b[0m\u001b[0mraise_for_status\u001b[0m\u001b[1;33m(\u001b[0m\u001b[1;33m)\u001b[0m\u001b[1;33m\u001b[0m\u001b[1;33m\u001b[0m\u001b[0m\n\u001b[0m\u001b[0;32m     81\u001b[0m             \u001b[1;32mexcept\u001b[0m \u001b[0mTimeout\u001b[0m \u001b[1;32mas\u001b[0m \u001b[0me\u001b[0m\u001b[1;33m:\u001b[0m\u001b[1;33m\u001b[0m\u001b[1;33m\u001b[0m\u001b[0m\n",
      "\u001b[1;32m~\\anaconda3\\lib\\site-packages\\requests\\models.py\u001b[0m in \u001b[0;36mraise_for_status\u001b[1;34m(self)\u001b[0m\n\u001b[0;32m   1020\u001b[0m         \u001b[1;32mif\u001b[0m \u001b[0mhttp_error_msg\u001b[0m\u001b[1;33m:\u001b[0m\u001b[1;33m\u001b[0m\u001b[1;33m\u001b[0m\u001b[0m\n\u001b[1;32m-> 1021\u001b[1;33m             \u001b[1;32mraise\u001b[0m \u001b[0mHTTPError\u001b[0m\u001b[1;33m(\u001b[0m\u001b[0mhttp_error_msg\u001b[0m\u001b[1;33m,\u001b[0m \u001b[0mresponse\u001b[0m\u001b[1;33m=\u001b[0m\u001b[0mself\u001b[0m\u001b[1;33m)\u001b[0m\u001b[1;33m\u001b[0m\u001b[1;33m\u001b[0m\u001b[0m\n\u001b[0m\u001b[0;32m   1022\u001b[0m \u001b[1;33m\u001b[0m\u001b[0m\n",
      "\u001b[1;31mHTTPError\u001b[0m: 429 Client Error: Too Many Requests for url: https://genius.com/api/search/multi?q=Robert+Burns",
      "\nDuring handling of the above exception, another exception occurred:\n",
      "\u001b[1;31mHTTPError\u001b[0m                                 Traceback (most recent call last)",
      "\u001b[1;32m~\\AppData\\Local\\Temp\\ipykernel_40708\\2502154039.py\u001b[0m in \u001b[0;36m<module>\u001b[1;34m\u001b[0m\n\u001b[0;32m      1\u001b[0m \u001b[1;31m# let's add artist ID:\u001b[0m\u001b[1;33m\u001b[0m\u001b[1;33m\u001b[0m\u001b[0m\n\u001b[0;32m      2\u001b[0m \u001b[1;33m\u001b[0m\u001b[0m\n\u001b[1;32m----> 3\u001b[1;33m \u001b[0mdata\u001b[0m\u001b[1;33m.\u001b[0m\u001b[0minsert\u001b[0m\u001b[1;33m(\u001b[0m\u001b[0mloc\u001b[0m \u001b[1;33m=\u001b[0m \u001b[1;36m1\u001b[0m\u001b[1;33m,\u001b[0m \u001b[0mcolumn\u001b[0m \u001b[1;33m=\u001b[0m \u001b[1;34m'Artist ID'\u001b[0m\u001b[1;33m,\u001b[0m \u001b[0mvalue\u001b[0m \u001b[1;33m=\u001b[0m \u001b[0mdata\u001b[0m\u001b[1;33m[\u001b[0m\u001b[1;34m'Artist'\u001b[0m\u001b[1;33m]\u001b[0m\u001b[1;33m.\u001b[0m\u001b[0mapply\u001b[0m\u001b[1;33m(\u001b[0m\u001b[1;32mlambda\u001b[0m \u001b[0ma\u001b[0m\u001b[1;33m:\u001b[0m \u001b[0mget_artist_ID\u001b[0m\u001b[1;33m(\u001b[0m\u001b[0ma\u001b[0m\u001b[1;33m)\u001b[0m\u001b[1;33m)\u001b[0m\u001b[1;33m)\u001b[0m\u001b[1;33m\u001b[0m\u001b[1;33m\u001b[0m\u001b[0m\n\u001b[0m",
      "\u001b[1;32m~\\anaconda3\\lib\\site-packages\\pandas\\core\\series.py\u001b[0m in \u001b[0;36mapply\u001b[1;34m(self, func, convert_dtype, args, **kwargs)\u001b[0m\n\u001b[0;32m   4431\u001b[0m         \u001b[0mdtype\u001b[0m\u001b[1;33m:\u001b[0m \u001b[0mfloat64\u001b[0m\u001b[1;33m\u001b[0m\u001b[1;33m\u001b[0m\u001b[0m\n\u001b[0;32m   4432\u001b[0m         \"\"\"\n\u001b[1;32m-> 4433\u001b[1;33m         \u001b[1;32mreturn\u001b[0m \u001b[0mSeriesApply\u001b[0m\u001b[1;33m(\u001b[0m\u001b[0mself\u001b[0m\u001b[1;33m,\u001b[0m \u001b[0mfunc\u001b[0m\u001b[1;33m,\u001b[0m \u001b[0mconvert_dtype\u001b[0m\u001b[1;33m,\u001b[0m \u001b[0margs\u001b[0m\u001b[1;33m,\u001b[0m \u001b[0mkwargs\u001b[0m\u001b[1;33m)\u001b[0m\u001b[1;33m.\u001b[0m\u001b[0mapply\u001b[0m\u001b[1;33m(\u001b[0m\u001b[1;33m)\u001b[0m\u001b[1;33m\u001b[0m\u001b[1;33m\u001b[0m\u001b[0m\n\u001b[0m\u001b[0;32m   4434\u001b[0m \u001b[1;33m\u001b[0m\u001b[0m\n\u001b[0;32m   4435\u001b[0m     def _reduce(\n",
      "\u001b[1;32m~\\anaconda3\\lib\\site-packages\\pandas\\core\\apply.py\u001b[0m in \u001b[0;36mapply\u001b[1;34m(self)\u001b[0m\n\u001b[0;32m   1086\u001b[0m             \u001b[1;32mreturn\u001b[0m \u001b[0mself\u001b[0m\u001b[1;33m.\u001b[0m\u001b[0mapply_str\u001b[0m\u001b[1;33m(\u001b[0m\u001b[1;33m)\u001b[0m\u001b[1;33m\u001b[0m\u001b[1;33m\u001b[0m\u001b[0m\n\u001b[0;32m   1087\u001b[0m \u001b[1;33m\u001b[0m\u001b[0m\n\u001b[1;32m-> 1088\u001b[1;33m         \u001b[1;32mreturn\u001b[0m \u001b[0mself\u001b[0m\u001b[1;33m.\u001b[0m\u001b[0mapply_standard\u001b[0m\u001b[1;33m(\u001b[0m\u001b[1;33m)\u001b[0m\u001b[1;33m\u001b[0m\u001b[1;33m\u001b[0m\u001b[0m\n\u001b[0m\u001b[0;32m   1089\u001b[0m \u001b[1;33m\u001b[0m\u001b[0m\n\u001b[0;32m   1090\u001b[0m     \u001b[1;32mdef\u001b[0m \u001b[0magg\u001b[0m\u001b[1;33m(\u001b[0m\u001b[0mself\u001b[0m\u001b[1;33m)\u001b[0m\u001b[1;33m:\u001b[0m\u001b[1;33m\u001b[0m\u001b[1;33m\u001b[0m\u001b[0m\n",
      "\u001b[1;32m~\\anaconda3\\lib\\site-packages\\pandas\\core\\apply.py\u001b[0m in \u001b[0;36mapply_standard\u001b[1;34m(self)\u001b[0m\n\u001b[0;32m   1141\u001b[0m                 \u001b[1;31m# List[Union[Callable[..., Any], str]]]]]\"; expected\u001b[0m\u001b[1;33m\u001b[0m\u001b[1;33m\u001b[0m\u001b[0m\n\u001b[0;32m   1142\u001b[0m                 \u001b[1;31m# \"Callable[[Any], Any]\"\u001b[0m\u001b[1;33m\u001b[0m\u001b[1;33m\u001b[0m\u001b[0m\n\u001b[1;32m-> 1143\u001b[1;33m                 mapped = lib.map_infer(\n\u001b[0m\u001b[0;32m   1144\u001b[0m                     \u001b[0mvalues\u001b[0m\u001b[1;33m,\u001b[0m\u001b[1;33m\u001b[0m\u001b[1;33m\u001b[0m\u001b[0m\n\u001b[0;32m   1145\u001b[0m                     \u001b[0mf\u001b[0m\u001b[1;33m,\u001b[0m  \u001b[1;31m# type: ignore[arg-type]\u001b[0m\u001b[1;33m\u001b[0m\u001b[1;33m\u001b[0m\u001b[0m\n",
      "\u001b[1;32m~\\anaconda3\\lib\\site-packages\\pandas\\_libs\\lib.pyx\u001b[0m in \u001b[0;36mpandas._libs.lib.map_infer\u001b[1;34m()\u001b[0m\n",
      "\u001b[1;32m~\\AppData\\Local\\Temp\\ipykernel_40708\\2502154039.py\u001b[0m in \u001b[0;36m<lambda>\u001b[1;34m(a)\u001b[0m\n\u001b[0;32m      1\u001b[0m \u001b[1;31m# let's add artist ID:\u001b[0m\u001b[1;33m\u001b[0m\u001b[1;33m\u001b[0m\u001b[0m\n\u001b[0;32m      2\u001b[0m \u001b[1;33m\u001b[0m\u001b[0m\n\u001b[1;32m----> 3\u001b[1;33m \u001b[0mdata\u001b[0m\u001b[1;33m.\u001b[0m\u001b[0minsert\u001b[0m\u001b[1;33m(\u001b[0m\u001b[0mloc\u001b[0m \u001b[1;33m=\u001b[0m \u001b[1;36m1\u001b[0m\u001b[1;33m,\u001b[0m \u001b[0mcolumn\u001b[0m \u001b[1;33m=\u001b[0m \u001b[1;34m'Artist ID'\u001b[0m\u001b[1;33m,\u001b[0m \u001b[0mvalue\u001b[0m \u001b[1;33m=\u001b[0m \u001b[0mdata\u001b[0m\u001b[1;33m[\u001b[0m\u001b[1;34m'Artist'\u001b[0m\u001b[1;33m]\u001b[0m\u001b[1;33m.\u001b[0m\u001b[0mapply\u001b[0m\u001b[1;33m(\u001b[0m\u001b[1;32mlambda\u001b[0m \u001b[0ma\u001b[0m\u001b[1;33m:\u001b[0m \u001b[0mget_artist_ID\u001b[0m\u001b[1;33m(\u001b[0m\u001b[0ma\u001b[0m\u001b[1;33m)\u001b[0m\u001b[1;33m)\u001b[0m\u001b[1;33m)\u001b[0m\u001b[1;33m\u001b[0m\u001b[1;33m\u001b[0m\u001b[0m\n\u001b[0m",
      "\u001b[1;32m~\\Downloads\\dh_100\\Dighum100-Music-Final-Project\\project_functions.py\u001b[0m in \u001b[0;36mget_artist_ID\u001b[1;34m(artist)\u001b[0m\n\u001b[0;32m     82\u001b[0m     '''given an artist, reaturn their artist ID \n\u001b[0;32m     83\u001b[0m     OUTPUT: INT'''\n\u001b[1;32m---> 84\u001b[1;33m     \u001b[0martist_info\u001b[0m \u001b[1;33m=\u001b[0m \u001b[0mgenius\u001b[0m\u001b[1;33m.\u001b[0m\u001b[0msearch_artist\u001b[0m\u001b[1;33m(\u001b[0m\u001b[0martist\u001b[0m\u001b[1;33m,\u001b[0m \u001b[0mmax_songs\u001b[0m \u001b[1;33m=\u001b[0m \u001b[1;36m0\u001b[0m\u001b[1;33m)\u001b[0m\u001b[1;33m\u001b[0m\u001b[1;33m\u001b[0m\u001b[0m\n\u001b[0m\u001b[0;32m     85\u001b[0m     \u001b[1;32mif\u001b[0m \u001b[0martist_info\u001b[0m \u001b[1;33m==\u001b[0m \u001b[1;32mNone\u001b[0m\u001b[1;33m:\u001b[0m\u001b[1;33m\u001b[0m\u001b[1;33m\u001b[0m\u001b[0m\n\u001b[0;32m     86\u001b[0m         \u001b[1;32mreturn\u001b[0m \u001b[1;33m-\u001b[0m\u001b[1;36m1\u001b[0m\u001b[1;33m\u001b[0m\u001b[1;33m\u001b[0m\u001b[0m\n",
      "\u001b[1;32m~\\anaconda3\\lib\\site-packages\\lyricsgenius\\genius.py\u001b[0m in \u001b[0;36msearch_artist\u001b[1;34m(self, artist_name, max_songs, sort, per_page, get_full_info, allow_name_change, artist_id, include_features)\u001b[0m\n\u001b[0;32m    520\u001b[0m \u001b[1;33m\u001b[0m\u001b[0m\n\u001b[0;32m    521\u001b[0m         \u001b[1;31m# Get the artist ID (or use the one supplied)\u001b[0m\u001b[1;33m\u001b[0m\u001b[1;33m\u001b[0m\u001b[0m\n\u001b[1;32m--> 522\u001b[1;33m         \u001b[0martist_id\u001b[0m \u001b[1;33m=\u001b[0m \u001b[0martist_id\u001b[0m \u001b[1;32mif\u001b[0m \u001b[0martist_id\u001b[0m \u001b[1;32melse\u001b[0m \u001b[0mfind_artist_id\u001b[0m\u001b[1;33m(\u001b[0m\u001b[0martist_name\u001b[0m\u001b[1;33m)\u001b[0m\u001b[1;33m\u001b[0m\u001b[1;33m\u001b[0m\u001b[0m\n\u001b[0m\u001b[0;32m    523\u001b[0m         \u001b[1;32mif\u001b[0m \u001b[1;32mnot\u001b[0m \u001b[0martist_id\u001b[0m\u001b[1;33m:\u001b[0m\u001b[1;33m\u001b[0m\u001b[1;33m\u001b[0m\u001b[0m\n\u001b[0;32m    524\u001b[0m             \u001b[1;32mreturn\u001b[0m \u001b[1;32mNone\u001b[0m\u001b[1;33m\u001b[0m\u001b[1;33m\u001b[0m\u001b[0m\n",
      "\u001b[1;32m~\\anaconda3\\lib\\site-packages\\lyricsgenius\\genius.py\u001b[0m in \u001b[0;36mfind_artist_id\u001b[1;34m(search_term)\u001b[0m\n\u001b[0;32m    505\u001b[0m             \u001b[1;31m# Perform a Genius API search for the artist\u001b[0m\u001b[1;33m\u001b[0m\u001b[1;33m\u001b[0m\u001b[0m\n\u001b[0;32m    506\u001b[0m             \u001b[0mfound_artist\u001b[0m \u001b[1;33m=\u001b[0m \u001b[1;32mNone\u001b[0m\u001b[1;33m\u001b[0m\u001b[1;33m\u001b[0m\u001b[0m\n\u001b[1;32m--> 507\u001b[1;33m             \u001b[0mresponse\u001b[0m \u001b[1;33m=\u001b[0m \u001b[0mself\u001b[0m\u001b[1;33m.\u001b[0m\u001b[0msearch_all\u001b[0m\u001b[1;33m(\u001b[0m\u001b[0msearch_term\u001b[0m\u001b[1;33m)\u001b[0m\u001b[1;33m\u001b[0m\u001b[1;33m\u001b[0m\u001b[0m\n\u001b[0m\u001b[0;32m    508\u001b[0m             found_artist = self._get_item_from_search_response(response,\n\u001b[0;32m    509\u001b[0m                                                                \u001b[0msearch_term\u001b[0m\u001b[1;33m,\u001b[0m\u001b[1;33m\u001b[0m\u001b[1;33m\u001b[0m\u001b[0m\n",
      "\u001b[1;32m~\\anaconda3\\lib\\site-packages\\lyricsgenius\\api\\public_methods\\search.py\u001b[0m in \u001b[0;36msearch_all\u001b[1;34m(self, search_term, per_page, page)\u001b[0m\n\u001b[0;32m    208\u001b[0m         \"\"\"\n\u001b[0;32m    209\u001b[0m         \u001b[0mendpoint\u001b[0m \u001b[1;33m=\u001b[0m \u001b[1;34m'multi'\u001b[0m\u001b[1;33m\u001b[0m\u001b[1;33m\u001b[0m\u001b[0m\n\u001b[1;32m--> 210\u001b[1;33m         \u001b[1;32mreturn\u001b[0m \u001b[0mself\u001b[0m\u001b[1;33m.\u001b[0m\u001b[0msearch\u001b[0m\u001b[1;33m(\u001b[0m\u001b[0msearch_term\u001b[0m\u001b[1;33m,\u001b[0m \u001b[0mper_page\u001b[0m\u001b[1;33m,\u001b[0m \u001b[0mpage\u001b[0m\u001b[1;33m,\u001b[0m \u001b[0mendpoint\u001b[0m\u001b[1;33m)\u001b[0m\u001b[1;33m\u001b[0m\u001b[1;33m\u001b[0m\u001b[0m\n\u001b[0m",
      "\u001b[1;32m~\\anaconda3\\lib\\site-packages\\lyricsgenius\\api\\public_methods\\search.py\u001b[0m in \u001b[0;36msearch\u001b[1;34m(self, search_term, per_page, page, type_)\u001b[0m\n\u001b[0;32m     43\u001b[0m                   \u001b[1;34m'per_page'\u001b[0m\u001b[1;33m:\u001b[0m \u001b[0mper_page\u001b[0m\u001b[1;33m,\u001b[0m\u001b[1;33m\u001b[0m\u001b[1;33m\u001b[0m\u001b[0m\n\u001b[0;32m     44\u001b[0m                   'page': page}\n\u001b[1;32m---> 45\u001b[1;33m         \u001b[1;32mreturn\u001b[0m \u001b[0mself\u001b[0m\u001b[1;33m.\u001b[0m\u001b[0m_make_request\u001b[0m\u001b[1;33m(\u001b[0m\u001b[0mpath\u001b[0m\u001b[1;33m,\u001b[0m \u001b[0mparams_\u001b[0m\u001b[1;33m=\u001b[0m\u001b[0mparams\u001b[0m\u001b[1;33m,\u001b[0m \u001b[0mpublic_api\u001b[0m\u001b[1;33m=\u001b[0m\u001b[1;32mTrue\u001b[0m\u001b[1;33m)\u001b[0m\u001b[1;33m\u001b[0m\u001b[1;33m\u001b[0m\u001b[0m\n\u001b[0m\u001b[0;32m     46\u001b[0m \u001b[1;33m\u001b[0m\u001b[0m\n\u001b[0;32m     47\u001b[0m     \u001b[1;32mdef\u001b[0m \u001b[0msearch_albums\u001b[0m\u001b[1;33m(\u001b[0m\u001b[0mself\u001b[0m\u001b[1;33m,\u001b[0m \u001b[0msearch_term\u001b[0m\u001b[1;33m,\u001b[0m \u001b[0mper_page\u001b[0m\u001b[1;33m=\u001b[0m\u001b[1;32mNone\u001b[0m\u001b[1;33m,\u001b[0m \u001b[0mpage\u001b[0m\u001b[1;33m=\u001b[0m\u001b[1;32mNone\u001b[0m\u001b[1;33m)\u001b[0m\u001b[1;33m:\u001b[0m\u001b[1;33m\u001b[0m\u001b[1;33m\u001b[0m\u001b[0m\n",
      "\u001b[1;32m~\\anaconda3\\lib\\site-packages\\lyricsgenius\\api\\base.py\u001b[0m in \u001b[0;36m_make_request\u001b[1;34m(self, path, method, params_, public_api, web, **kwargs)\u001b[0m\n\u001b[0;32m     86\u001b[0m                 \u001b[0merror\u001b[0m \u001b[1;33m=\u001b[0m \u001b[0mget_description\u001b[0m\u001b[1;33m(\u001b[0m\u001b[0me\u001b[0m\u001b[1;33m)\u001b[0m\u001b[1;33m\u001b[0m\u001b[1;33m\u001b[0m\u001b[0m\n\u001b[0;32m     87\u001b[0m                 \u001b[1;32mif\u001b[0m \u001b[0mresponse\u001b[0m\u001b[1;33m.\u001b[0m\u001b[0mstatus_code\u001b[0m \u001b[1;33m<\u001b[0m \u001b[1;36m500\u001b[0m \u001b[1;32mor\u001b[0m \u001b[0mtries\u001b[0m \u001b[1;33m>\u001b[0m \u001b[0mself\u001b[0m\u001b[1;33m.\u001b[0m\u001b[0mretries\u001b[0m\u001b[1;33m:\u001b[0m\u001b[1;33m\u001b[0m\u001b[1;33m\u001b[0m\u001b[0m\n\u001b[1;32m---> 88\u001b[1;33m                     \u001b[1;32mraise\u001b[0m \u001b[0mHTTPError\u001b[0m\u001b[1;33m(\u001b[0m\u001b[0mresponse\u001b[0m\u001b[1;33m.\u001b[0m\u001b[0mstatus_code\u001b[0m\u001b[1;33m,\u001b[0m \u001b[0merror\u001b[0m\u001b[1;33m)\u001b[0m\u001b[1;33m\u001b[0m\u001b[1;33m\u001b[0m\u001b[0m\n\u001b[0m\u001b[0;32m     89\u001b[0m \u001b[1;33m\u001b[0m\u001b[0m\n\u001b[0;32m     90\u001b[0m             \u001b[1;31m# Enforce rate limiting\u001b[0m\u001b[1;33m\u001b[0m\u001b[1;33m\u001b[0m\u001b[0m\n",
      "\u001b[1;31mHTTPError\u001b[0m: [Errno 429] 429 Client Error: Too Many Requests for url: https://genius.com/api/search/multi?q=Robert+Burns"
     ]
    }
   ],
   "source": [
    "# let's add artist ID: \n",
    "\n",
    "data.insert(loc = 1, column = 'Artist ID', value = data['Artist'].apply(lambda a: get_artist_ID(a)))"
   ]
  },
  {
   "cell_type": "code",
   "execution_count": 24,
   "id": "07835070-6952-4d64-bdee-e3005eb7ae84",
   "metadata": {},
   "outputs": [
    {
     "data": {
      "text/html": [
       "<div>\n",
       "<style scoped>\n",
       "    .dataframe tbody tr th:only-of-type {\n",
       "        vertical-align: middle;\n",
       "    }\n",
       "\n",
       "    .dataframe tbody tr th {\n",
       "        vertical-align: top;\n",
       "    }\n",
       "\n",
       "    .dataframe thead th {\n",
       "        text-align: right;\n",
       "    }\n",
       "</style>\n",
       "<table border=\"1\" class=\"dataframe\">\n",
       "  <thead>\n",
       "    <tr style=\"text-align: right;\">\n",
       "      <th></th>\n",
       "      <th>Artist</th>\n",
       "      <th>Song</th>\n",
       "      <th>Wave</th>\n",
       "    </tr>\n",
       "  </thead>\n",
       "  <tbody>\n",
       "    <tr>\n",
       "      <th>0</th>\n",
       "      <td>Bikini Kill</td>\n",
       "      <td>Double Dare Ya</td>\n",
       "      <td>3</td>\n",
       "    </tr>\n",
       "    <tr>\n",
       "      <th>1</th>\n",
       "      <td>Gossip</td>\n",
       "      <td>Where the Girls Are</td>\n",
       "      <td>3</td>\n",
       "    </tr>\n",
       "    <tr>\n",
       "      <th>2</th>\n",
       "      <td>Bratmobile</td>\n",
       "      <td>Love Thing</td>\n",
       "      <td>3</td>\n",
       "    </tr>\n",
       "    <tr>\n",
       "      <th>3</th>\n",
       "      <td>Lunachicks</td>\n",
       "      <td>Bitterness Barbie</td>\n",
       "      <td>3</td>\n",
       "    </tr>\n",
       "    <tr>\n",
       "      <th>4</th>\n",
       "      <td>Cicely Hamilton</td>\n",
       "      <td>The March of the Women</td>\n",
       "      <td>1</td>\n",
       "    </tr>\n",
       "  </tbody>\n",
       "</table>\n",
       "</div>"
      ],
      "text/plain": [
       "            Artist                    Song  Wave\n",
       "0      Bikini Kill          Double Dare Ya     3\n",
       "1           Gossip     Where the Girls Are     3\n",
       "2       Bratmobile              Love Thing     3\n",
       "3       Lunachicks       Bitterness Barbie     3\n",
       "4  Cicely Hamilton  The March of the Women     1"
      ]
     },
     "execution_count": 24,
     "metadata": {},
     "output_type": "execute_result"
    }
   ],
   "source": [
    "data.head()"
   ]
  },
  {
   "cell_type": "code",
   "execution_count": 20,
   "id": "d2361410-8548-4aa5-b807-95c6dcded7ce",
   "metadata": {},
   "outputs": [],
   "source": [
    "# so did some research and ethyl smith is the composer not Cecyl or whoever so imma see if changing that does something:"
   ]
  },
  {
   "cell_type": "code",
   "execution_count": 28,
   "id": "fd5834fa-b660-47e7-a5b8-84c3dc27dfd5",
   "metadata": {},
   "outputs": [
    {
     "ename": "NameError",
     "evalue": "name 'response' is not defined",
     "output_type": "error",
     "traceback": [
      "\u001b[1;31m---------------------------------------------------------------------------\u001b[0m",
      "\u001b[1;31mNameError\u001b[0m                                 Traceback (most recent call last)",
      "\u001b[1;32m~\\AppData\\Local\\Temp\\ipykernel_40708\\4219371653.py\u001b[0m in \u001b[0;36m<module>\u001b[1;34m\u001b[0m\n\u001b[1;32m----> 1\u001b[1;33m \u001b[0mresponse\u001b[0m\u001b[1;33m.\u001b[0m\u001b[0mstatus_code\u001b[0m\u001b[1;33m(\u001b[0m\u001b[1;33m)\u001b[0m\u001b[1;33m\u001b[0m\u001b[1;33m\u001b[0m\u001b[0m\n\u001b[0m",
      "\u001b[1;31mNameError\u001b[0m: name 'response' is not defined"
     ]
    }
   ],
   "source": []
  },
  {
   "cell_type": "code",
   "execution_count": null,
   "id": "f4bd8aac-96cf-4858-9b2a-975edd6d0b85",
   "metadata": {},
   "outputs": [],
   "source": []
  }
 ],
 "metadata": {
  "kernelspec": {
   "display_name": "Python 3 (ipykernel)",
   "language": "python",
   "name": "python3"
  },
  "language_info": {
   "codemirror_mode": {
    "name": "ipython",
    "version": 3
   },
   "file_extension": ".py",
   "mimetype": "text/x-python",
   "name": "python",
   "nbconvert_exporter": "python",
   "pygments_lexer": "ipython3",
   "version": "3.9.13"
  }
 },
 "nbformat": 4,
 "nbformat_minor": 5
}
