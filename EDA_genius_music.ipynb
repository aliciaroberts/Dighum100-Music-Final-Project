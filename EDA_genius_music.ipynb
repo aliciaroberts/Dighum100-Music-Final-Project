{
 "cells": [
  {
   "cell_type": "markdown",
   "id": "a80805f0-c0ab-4b90-a95e-a457f86a55c9",
   "metadata": {},
   "source": [
    "# Lysicsgenius Python Library EDA"
   ]
  },
  {
   "cell_type": "markdown",
   "id": "3f20228b-0ea9-4dae-b20a-ff862628e438",
   "metadata": {},
   "source": [
    "## things I've learned:\n",
    "\n",
    "1. you need to have an API client created through genius. im not entirely sure what that is, but i linked it to our final project website and it worked. \n",
    "> can find info through this website: https://github.com/johnwmillr/LyricsGenius/tree/master\n",
    "\n",
    "\n",
    "## current bugs: \n",
    "> trying to read in the artist description"
   ]
  },
  {
   "cell_type": "code",
   "execution_count": 19,
   "id": "f5b7789b-b53a-455b-801c-9c471a3bc6fd",
   "metadata": {},
   "outputs": [
    {
     "name": "stdout",
     "output_type": "stream",
     "text": [
      "Requirement already satisfied: lyricsgenius in c:\\users\\alica\\anaconda3\\lib\\site-packages (3.0.1)\n",
      "Requirement already satisfied: beautifulsoup4>=4.6.0 in c:\\users\\alica\\anaconda3\\lib\\site-packages (from lyricsgenius) (4.11.1)\n",
      "Requirement already satisfied: requests>=2.20.0 in c:\\users\\alica\\anaconda3\\lib\\site-packages (from lyricsgenius) (2.28.1)\n",
      "Requirement already satisfied: soupsieve>1.2 in c:\\users\\alica\\anaconda3\\lib\\site-packages (from beautifulsoup4>=4.6.0->lyricsgenius) (2.3.1)\n",
      "Requirement already satisfied: charset-normalizer<3,>=2 in c:\\users\\alica\\anaconda3\\lib\\site-packages (from requests>=2.20.0->lyricsgenius) (2.0.4)\n",
      "Requirement already satisfied: idna<4,>=2.5 in c:\\users\\alica\\anaconda3\\lib\\site-packages (from requests>=2.20.0->lyricsgenius) (3.3)\n",
      "Requirement already satisfied: urllib3<1.27,>=1.21.1 in c:\\users\\alica\\anaconda3\\lib\\site-packages (from requests>=2.20.0->lyricsgenius) (1.26.11)\n",
      "Requirement already satisfied: certifi>=2017.4.17 in c:\\users\\alica\\anaconda3\\lib\\site-packages (from requests>=2.20.0->lyricsgenius) (2022.9.14)\n"
     ]
    }
   ],
   "source": [
    "# installing \n",
    "\n",
    "!pip install lyricsgenius"
   ]
  },
  {
   "cell_type": "code",
   "execution_count": 1,
   "id": "d853e19c-e188-42d1-9362-32608063537b",
   "metadata": {},
   "outputs": [],
   "source": [
    "# importing libraries\n",
    "\n",
    "import lyricsgenius\n",
    "\n",
    "# visualizations\n",
    "import matplotlib.pyplot as plt\n",
    "import seaborn as sns\n",
    "import plotly.express as px"
   ]
  },
  {
   "cell_type": "code",
   "execution_count": 2,
   "id": "b2cceeb9-192d-4b69-a2ab-83f72a69bcc3",
   "metadata": {},
   "outputs": [],
   "source": [
    "# now we need to pick our token\n",
    "token = 'HLRORyLWz4776M-RCyF_dAOMBQe9q84xenZadvnQgSO-nO9XOhlqkz5Bc-LH5PlY'\n",
    "genius = lyricsgenius.Genius(token) \n",
    "# this is just the default they listed on the documentation\n",
    "# i have yet to find what tokens are valid ??"
   ]
  },
  {
   "cell_type": "code",
   "execution_count": 3,
   "id": "252b217b-fa28-4d76-9bfe-e6a5420f1189",
   "metadata": {},
   "outputs": [
    {
     "name": "stdout",
     "output_type": "stream",
     "text": [
      "Searching for songs by Chappell Roan...\n",
      "\n",
      "Song 1: \"17\"\n",
      "Song 2: \"After Midnight\"\n",
      "Song 3: \"Bad For You\"\n",
      "\n",
      "Reached user-specified song limit (3).\n",
      "Done. Found 3 songs.\n"
     ]
    }
   ],
   "source": [
    "# let's pick an artist to look at: I like Chappell Roan rn so let's see what they got\n",
    "\n",
    "artist_name = 'Chappell Roan'\n",
    "\n",
    "artist = genius.search_artist(artist_name, max_songs = 3, sort = 'title')"
   ]
  },
  {
   "cell_type": "markdown",
   "id": "97cf6d64-36b0-4790-8412-6f4b5d4684a8",
   "metadata": {},
   "source": [
    "yay! that looks good, those are valid songs so it's great! Let's see how information differs for different artists, do we ge the same level of information?"
   ]
  },
  {
   "cell_type": "code",
   "execution_count": 24,
   "id": "781468c2-2909-472c-8b4a-2f947ab1b63d",
   "metadata": {},
   "outputs": [
    {
     "name": "stdout",
     "output_type": "stream",
     "text": [
      "Searching for songs by Taylor Swift...\n",
      "\n",
      "Song 1: \".\"\n",
      "Song 2: \"10 Dollars and a 6 Pack\"\n",
      "\"1989 Interview with Paul McGuire\" is not valid. Skipping.\n",
      "\"1989 [Liner Notes]\" is not valid. Skipping.\n",
      "Song 3: \"1989 (Taylor’s Version) [Prologue]\"\n",
      "\n",
      "Reached user-specified song limit (3).\n",
      "Done. Found 3 songs.\n",
      "Searching for songs by Still Woozy...\n",
      "\n",
      "Song 1: \"Again\"\n",
      "Song 2: \"All Along\"\n",
      "Song 3: \"All Your Life\"\n",
      "\n",
      "Reached user-specified song limit (3).\n",
      "Done. Found 3 songs.\n",
      "Searching for songs by Snoop Dogg...\n",
      "\n",
      "Song 1: \"10 Lil’ Crips\"\n",
      "Song 2: \"1800\"\n",
      "Song 3: \"187 (It’s On)\"\n",
      "\n",
      "Reached user-specified song limit (3).\n",
      "Done. Found 3 songs.\n"
     ]
    }
   ],
   "source": [
    "artists = ['Taylor Swift','Still Woozy','Snoop Dogg']\n",
    "\n",
    "for a in artists:\n",
    "    genius.search_artist(a, max_songs = 3, sort = 'title')"
   ]
  },
  {
   "cell_type": "code",
   "execution_count": 26,
   "id": "56860bc0-b7a0-4acc-988e-23e5f25be64c",
   "metadata": {},
   "outputs": [
    {
     "name": "stdout",
     "output_type": "stream",
     "text": [
      "Searching for \"HOT TO GO!\" by Chappell Roan...\n",
      "Done.\n"
     ]
    }
   ],
   "source": [
    "# let's try to collect song lyrics: \n",
    "\n",
    "hot_to_go = artist.song('HOT TO GO!')"
   ]
  },
  {
   "cell_type": "code",
   "execution_count": 28,
   "id": "5c9b9d82-e1de-44b5-bf8f-6267f66b4a2a",
   "metadata": {},
   "outputs": [
    {
     "name": "stdout",
     "output_type": "stream",
     "text": [
      "Wrote Lyrics_ChappellRoan.json.\n"
     ]
    }
   ],
   "source": [
    "artist.save_lyrics()"
   ]
  },
  {
   "cell_type": "code",
   "execution_count": 29,
   "id": "3f883f90-d5a2-4674-998b-dfa45beae766",
   "metadata": {},
   "outputs": [],
   "source": [
    "import pandas as pd\n"
   ]
  },
  {
   "cell_type": "code",
   "execution_count": 45,
   "id": "6afa8a63-8cc8-4cde-b571-d397ac8fad62",
   "metadata": {},
   "outputs": [],
   "source": [
    "# df = pd.read_json('Lyrics_ChappellRoan.json') # okay so this doesnt work. . . "
   ]
  },
  {
   "cell_type": "code",
   "execution_count": 36,
   "id": "90268a50-bba1-4fef-ac5d-8f297c7d10cb",
   "metadata": {},
   "outputs": [],
   "source": [
    "# lets try this \n",
    "# found on this website: https://stackoverflow.com/questions/59221626/pandas-and-json-valueerror-arrays-must-all-be-same-length\n",
    "\n",
    "import json\n",
    "\n",
    "with open('Lyrics_ChappellRoan.json') as json_data: # be sure to examine the structure of the json file to know the succession! \n",
    "    data = json.load(json_data)\n",
    "    df = pd.DataFrame(data['songs'])\n",
    "    df['lyrics']"
   ]
  },
  {
   "cell_type": "code",
   "execution_count": 37,
   "id": "33aae357-94d0-4182-a6ee-1da965278408",
   "metadata": {},
   "outputs": [
    {
     "data": {
      "text/plain": [
       "0    1 Contributor17 Lyrics[Verse 1]\\nDon't think a...\n",
       "1    19 ContributorsTranslationsDeutschPortuguêsFra...\n",
       "2    8 ContributorsBad For You Lyrics[Verse 1]\\nYou...\n",
       "Name: lyrics, dtype: object"
      ]
     },
     "execution_count": 37,
     "metadata": {},
     "output_type": "execute_result"
    }
   ],
   "source": [
    "df['lyrics']"
   ]
  },
  {
   "cell_type": "code",
   "execution_count": 38,
   "id": "ea04d50b-10ab-4858-9cdc-0ecd501a8c07",
   "metadata": {},
   "outputs": [],
   "source": [
    "# yayay! "
   ]
  },
  {
   "cell_type": "code",
   "execution_count": 39,
   "id": "1cb82727-cef4-4485-ab11-093915c87fe7",
   "metadata": {},
   "outputs": [
    {
     "name": "stdout",
     "output_type": "stream",
     "text": [
      "1 Contributor17 Lyrics[Verse 1]\n",
      "Don't think about it\n",
      "It's like my hands, deep in your pocket\n",
      "I know that you think about it\n",
      "Why you novice? You're staring at the carpet\n",
      "You're the only one who will drink me even though I'm poison\n",
      "\n",
      "[Verse 2]\n",
      "Don't care about it\n",
      "Walk slow with me, like when in a crosswalk\n",
      "You don't have to care about it\n",
      "Write my name big with your sidewalk chalk\n",
      "Base down smooth in the back of your car\n",
      "Lay, vibrate\n",
      "\n",
      "[Pre-Chorus]\n",
      "I didn't want to say it, but I will if I have to\n",
      "I'm not tired at two in the morning\n",
      "Eyes grow wide as a boy and lighter\n",
      "Blink a few times, you can tell that I'm new at this\n",
      "I'm new at this\n",
      "Yeah\n",
      "Yeah\n",
      "\n",
      "[Chorus]\n",
      "Make sure you have ahold of me\n",
      "Keep me grounded, I'm getting too high\n",
      "No, we're only seventeen\n",
      "Coca Cola and American Pie\n",
      "Won't you stay awake with me?\n",
      "We are too young to sleep this early\n",
      "God, we're only seventeen\n",
      "Only seventeen\n",
      "See Chappell Roan LiveGet tickets as low as $225You might also like[Verse 3]\n",
      "Say something 'bout me\n",
      "Video game party 'cause we're too cool\n",
      "Say something sweet about me\n",
      "I was never made for the high school\n",
      "Burn pictures of people we hate in the yearbook\n",
      "\n",
      "[Pre-Chorus]\n",
      "I didn't want to say it, but I will if I have to\n",
      "I'm not tired at two in the morning\n",
      "Eyes grow wide as a boy and lighter\n",
      "Blink a few times, you can tell that I'm new at this\n",
      "I'm new at this\n",
      "Yeah\n",
      "Yeah\n",
      "\n",
      "[Chorus]\n",
      "Make sure you have ahold of me\n",
      "Keep me grounded, I'm getting too high\n",
      "No, we're only seventeen\n",
      "Coca Cola and American Pie\n",
      "Won't you stay awake with me?\n",
      "We are too young to sleep this early\n",
      "God, we're only seventeen\n",
      "Only seventeen\n",
      "[Bridge]\n",
      "You won't stop playing\n",
      "Your old cassette tapes\n",
      "And we're on your couch, playing all your board games\n",
      "And I wish we were at a drive-in movie\n",
      "But it's cold outside, I don't have patience\n",
      "And I like it like that\n",
      "It's not serious, I like it like that\n",
      "It's not serious, this isn't serious\n",
      "Right?\n",
      "This isn't serious\n",
      "Right?\n",
      "Right?\n",
      "\n",
      "[Chorus]\n",
      "Make sure you have ahold of me\n",
      "Keep me grounded, I'm getting too high\n",
      "No, we're only seventeen\n",
      "Coca Cola and American Pie\n",
      "Won't you stay awake with me?\n",
      "We are too young to sleep this early\n",
      "God, we're only seventeen\n",
      "Only seventeenEmbed\n"
     ]
    }
   ],
   "source": [
    "# let's see what we can do with this: \n",
    "\n",
    "print(df['lyrics'][0])"
   ]
  },
  {
   "cell_type": "code",
   "execution_count": 49,
   "id": "139f6894-b178-473d-ba4c-359c54b1a0d8",
   "metadata": {},
   "outputs": [],
   "source": [
    "# let's see if we can extract some information on her location: \n",
    "\n",
    "desc_chappell = pd.DataFrame(data['description'], index = [0]) "
   ]
  },
  {
   "cell_type": "markdown",
   "id": "af3ce002-177f-455c-b44a-7486bd5fda8a",
   "metadata": {},
   "source": [
    "yay! so for this case, this branch of the tree had ascalar index labels, so I had to redefine the index as a list. \n",
    "i should turn this into a function get_description() for future use??\n",
    "\n",
    "let's see if I can extract her location (birth place) using regex. . .  "
   ]
  },
  {
   "cell_type": "code",
   "execution_count": 64,
   "id": "7b892e88-2edc-42eb-982b-238096a5aed5",
   "metadata": {},
   "outputs": [
    {
     "data": {
      "text/plain": [
       "'Chappell Roan (born Kayleigh Rose Amstutz in Willard, Missouri) is an American singer and songwriter signed to Atlantic Records. When she was 17 years old and in eleventh grade, Roan uploaded a song titled “Die Young” to YouTube, leading Atlantic to sign her to the label. In summer 2020, she released “Pink Pony Club”, which was later described as “the Song of Summer 2021” in Vulture.'"
      ]
     },
     "execution_count": 64,
     "metadata": {},
     "output_type": "execute_result"
    }
   ],
   "source": [
    "desc = desc_chappell['plain']\n",
    "\n",
    "desc[0]"
   ]
  },
  {
   "cell_type": "code",
   "execution_count": 66,
   "id": "041735c1-d8eb-4e25-88c1-1de09e3ad20c",
   "metadata": {},
   "outputs": [
    {
     "data": {
      "text/html": [
       "<div>\n",
       "<style scoped>\n",
       "    .dataframe tbody tr th:only-of-type {\n",
       "        vertical-align: middle;\n",
       "    }\n",
       "\n",
       "    .dataframe tbody tr th {\n",
       "        vertical-align: top;\n",
       "    }\n",
       "\n",
       "    .dataframe thead th {\n",
       "        text-align: right;\n",
       "    }\n",
       "</style>\n",
       "<table border=\"1\" class=\"dataframe\">\n",
       "  <thead>\n",
       "    <tr style=\"text-align: right;\">\n",
       "      <th></th>\n",
       "      <th>0</th>\n",
       "    </tr>\n",
       "  </thead>\n",
       "  <tbody>\n",
       "    <tr>\n",
       "      <th>0</th>\n",
       "      <td>Willard, Missouri</td>\n",
       "    </tr>\n",
       "  </tbody>\n",
       "</table>\n",
       "</div>"
      ],
      "text/plain": [
       "                   0\n",
       "0  Willard, Missouri"
      ]
     },
     "execution_count": 66,
     "metadata": {},
     "output_type": "execute_result"
    }
   ],
   "source": [
    "desc.str.extract('(\\w*, \\w*)')"
   ]
  },
  {
   "cell_type": "code",
   "execution_count": 67,
   "id": "0e0080cc-53c1-4cd2-a1dd-d194507162dd",
   "metadata": {},
   "outputs": [],
   "source": [
    "# so if this is what the data look like in the geo table we can pin point locations using genius lyrics !"
   ]
  },
  {
   "cell_type": "code",
   "execution_count": 68,
   "id": "7c5e22ef-240a-4a15-8e7a-8f51985930eb",
   "metadata": {},
   "outputs": [],
   "source": [
    "cities = pd.read_csv('uscities.csv')"
   ]
  },
  {
   "cell_type": "code",
   "execution_count": 69,
   "id": "98415d3d-6c4e-430a-a586-8c7fbafdf860",
   "metadata": {},
   "outputs": [
    {
     "name": "stdout",
     "output_type": "stream",
     "text": [
      "<class 'pandas.core.frame.DataFrame'>\n",
      "RangeIndex: 28338 entries, 0 to 28337\n",
      "Data columns (total 17 columns):\n",
      " #   Column        Non-Null Count  Dtype  \n",
      "---  ------        --------------  -----  \n",
      " 0   city          28338 non-null  object \n",
      " 1   city_ascii    28338 non-null  object \n",
      " 2   state_id      28338 non-null  object \n",
      " 3   state_name    28338 non-null  object \n",
      " 4   county_fips   28338 non-null  int64  \n",
      " 5   county_name   28338 non-null  object \n",
      " 6   lat           28338 non-null  float64\n",
      " 7   lng           28338 non-null  float64\n",
      " 8   population    28338 non-null  int64  \n",
      " 9   density       28338 non-null  int64  \n",
      " 10  source        28338 non-null  object \n",
      " 11  military      28338 non-null  bool   \n",
      " 12  incorporated  28338 non-null  bool   \n",
      " 13  timezone      28338 non-null  object \n",
      " 14  ranking       28338 non-null  int64  \n",
      " 15  zips          28337 non-null  object \n",
      " 16  id            28338 non-null  int64  \n",
      "dtypes: bool(2), float64(2), int64(5), object(8)\n",
      "memory usage: 3.3+ MB\n"
     ]
    }
   ],
   "source": [
    "cities.info()"
   ]
  },
  {
   "cell_type": "code",
   "execution_count": 79,
   "id": "6715bb38-fa7e-44d4-8804-9fbe81159e56",
   "metadata": {},
   "outputs": [
    {
     "data": {
      "text/html": [
       "<div>\n",
       "<style scoped>\n",
       "    .dataframe tbody tr th:only-of-type {\n",
       "        vertical-align: middle;\n",
       "    }\n",
       "\n",
       "    .dataframe tbody tr th {\n",
       "        vertical-align: top;\n",
       "    }\n",
       "\n",
       "    .dataframe thead th {\n",
       "        text-align: right;\n",
       "    }\n",
       "</style>\n",
       "<table border=\"1\" class=\"dataframe\">\n",
       "  <thead>\n",
       "    <tr style=\"text-align: right;\">\n",
       "      <th></th>\n",
       "      <th>city</th>\n",
       "      <th>city_ascii</th>\n",
       "      <th>state_id</th>\n",
       "      <th>state_name</th>\n",
       "      <th>county_fips</th>\n",
       "      <th>county_name</th>\n",
       "      <th>lat</th>\n",
       "      <th>lng</th>\n",
       "      <th>population</th>\n",
       "      <th>density</th>\n",
       "      <th>source</th>\n",
       "      <th>military</th>\n",
       "      <th>incorporated</th>\n",
       "      <th>timezone</th>\n",
       "      <th>ranking</th>\n",
       "      <th>zips</th>\n",
       "      <th>id</th>\n",
       "    </tr>\n",
       "  </thead>\n",
       "  <tbody>\n",
       "    <tr>\n",
       "      <th>6008</th>\n",
       "      <td>Willard</td>\n",
       "      <td>Willard</td>\n",
       "      <td>MO</td>\n",
       "      <td>Missouri</td>\n",
       "      <td>29077</td>\n",
       "      <td>Greene</td>\n",
       "      <td>37.2929</td>\n",
       "      <td>-93.4171</td>\n",
       "      <td>5891</td>\n",
       "      <td>359</td>\n",
       "      <td>polygon</td>\n",
       "      <td>False</td>\n",
       "      <td>True</td>\n",
       "      <td>America/Chicago</td>\n",
       "      <td>3</td>\n",
       "      <td>65781 65803</td>\n",
       "      <td>1840010870</td>\n",
       "    </tr>\n",
       "  </tbody>\n",
       "</table>\n",
       "</div>"
      ],
      "text/plain": [
       "         city city_ascii state_id state_name  county_fips county_name  \\\n",
       "6008  Willard    Willard       MO   Missouri        29077      Greene   \n",
       "\n",
       "          lat      lng  population  density   source  military  incorporated  \\\n",
       "6008  37.2929 -93.4171        5891      359  polygon     False          True   \n",
       "\n",
       "             timezone  ranking         zips          id  \n",
       "6008  America/Chicago        3  65781 65803  1840010870  "
      ]
     },
     "execution_count": 79,
     "metadata": {},
     "output_type": "execute_result"
    }
   ],
   "source": [
    "cities[(cities['state_name'] == 'Missouri') & (cities['city'] == 'Willard')]"
   ]
  },
  {
   "cell_type": "code",
   "execution_count": 80,
   "id": "c2e0dfbd-f0f1-4136-a35c-56c6bba7862e",
   "metadata": {},
   "outputs": [],
   "source": [
    "# awesome it exists! so we can plot Chappell Roan on a map woot. this is a good starting point"
   ]
  },
  {
   "cell_type": "markdown",
   "id": "ab9ebb0e-fc11-4351-83ce-e6e33dd7188e",
   "metadata": {},
   "source": [
    "## Next step: Generalization Checks\n",
    "\n",
    "Now that we know we are able to map artist to lyrics and also artist to birth place when trying on one artists, let's see if the descriptions are uniform across artists and see if we can get around having to download json files and can just use Genius() methods instead:\n"
   ]
  },
  {
   "cell_type": "code",
   "execution_count": null,
   "id": "39422db7-186d-4ee1-ba35-cdc710821ad4",
   "metadata": {},
   "outputs": [],
   "source": [
    "names = ['Chappell Roan','Taylor Swift','Beastie Boys']"
   ]
  },
  {
   "cell_type": "code",
   "execution_count": 91,
   "id": "5b5f40e9-d1fd-4d48-b339-620a5d79c623",
   "metadata": {},
   "outputs": [
    {
     "name": "stdout",
     "output_type": "stream",
     "text": [
      "Searching for songs by Taylor Swift...\n",
      "\n",
      "Song 1: \"All Too Well (10 Minute Version) (Taylor’s Version) [From The Vault]\"\n",
      "\n",
      "Reached user-specified song limit (1).\n",
      "Done. Found 1 songs.\n"
     ]
    }
   ],
   "source": [
    "query1 = genius.search_artist('Taylor Swift', max_songs = 1)"
   ]
  },
  {
   "cell_type": "code",
   "execution_count": 92,
   "id": "10d578c1-7079-4498-825f-94a49ca8756b",
   "metadata": {},
   "outputs": [
    {
     "data": {
      "text/plain": [
       "lyricsgenius.types.artist.Artist"
      ]
     },
     "execution_count": 92,
     "metadata": {},
     "output_type": "execute_result"
    }
   ],
   "source": [
    "type(query1)"
   ]
  },
  {
   "cell_type": "code",
   "execution_count": 101,
   "id": "cceba9c4-a14c-436b-8008-a124b06ae5cf",
   "metadata": {},
   "outputs": [
    {
     "name": "stdout",
     "output_type": "stream",
     "text": [
      "[Verse 1]\n",
      "I walked through the door with you, the air was cold\n",
      "But somethin' 'bout it felt like home somehow\n",
      "And I left my scarf there at your sister's house\n",
      "And you've still got it in your drawer, even now\n",
      "\n",
      "[Verse 2]\n",
      "Oh, your sweet disposition and my wide-eyed gaze\n",
      "We're singin' in the car, getting lost upstate\n",
      "Autumn leaves fallin' down like pieces into place\n",
      "And I can picture it after all these days\n",
      "\n",
      "[Pre-Chorus]\n",
      "And I know it's long gone and\n",
      "That magic's not here no more\n",
      "And I might be okay, but I'm not fine at all\n",
      "Oh, oh, oh\n",
      "\n",
      "[Chorus]\n",
      "'Causе there we arе again on that little town street\n",
      "You almost ran the red 'cause you were lookin' over at me\n",
      "Wind in my hair, I was there\n",
      "I remember it all too well\n",
      "\n",
      "[Verse 3]\n",
      "Photo album on the counter, your cheeks were turnin' red\n",
      "You used to be a little kid with glasses in a twin-sized bed\n",
      "And your mother's tellin' stories 'bout you on the tee-ball team\n",
      "You taught me 'bout your past, thinkin' your future was me\n",
      "And you were tossing me the car keys, \"Fuck the patriarchy\"\n",
      "Keychain on the ground, we were always skippin' town\n",
      "And I was thinkin' on the drive down, \"Any time now\n",
      "He's gonna say it's love,\" you never called it what it was\n",
      "'Til we were dead and gone and buried\n",
      "Check the pulse and come back swearin' it's the same\n",
      "After three months in the grave\n",
      "And then you wondered where it went to as I reached for you\n",
      "But all I felt was shame and you held my lifeless frame\n",
      "See Taylor Swift LiveGet tickets as low as $338You might also like[Pre-Chorus]\n",
      "And I know it's long gone and\n",
      "There was nothing else I could do\n",
      "And I forget about you long enough\n",
      "To forget why I needed to\n",
      "\n",
      "[Chorus]\n",
      "'Cause there we are again in the middle of the night\n",
      "We're dancin' 'round the kitchen in the refrigerator light\n",
      "Down the stairs, I was there\n",
      "I remember it all too well\n",
      "And there we are again when nobody had to know\n",
      "You kept me like a secret, but I kept you like an oath\n",
      "Sacred prayer and we'd swear\n",
      "To remember it all too well, yeah\n",
      "\n",
      "[Bridge]\n",
      "Well, maybe we got lost in translation, maybe I asked for too much\n",
      "But maybe this thing was a masterpiece 'til you tore it all up\n",
      "Runnin' scared, I was there\n",
      "I remember it all too well\n",
      "And you call me up again just to break me like a promise\n",
      "So casually cruel in the name of bein' honest\n",
      "I'm a crumpled-up piece of paper lyin' here\n",
      "'Cause I remember it all, all, all\n",
      "[Verse 4]\n",
      "They say all's well that ends well, but I'm in a new hell\n",
      "Every time you double-cross my mind\n",
      "You said if we had been closer in age, maybe it would've been fine\n",
      "And that made me want to die\n",
      "The idea you had of me, who was she?\n",
      "A never-needy, ever-lovely jewel whose shine reflects on you\n",
      "Not weepin' in a party bathroom\n",
      "Some actress askin' me what happened, you\n",
      "That's what happened, you\n",
      "You who charmed my dad with self-effacing jokes\n",
      "Sippin' coffee like you're on a late-night show\n",
      "But then he watched me watch the front door all night, willin' you to come\n",
      "And he said, \"It's supposed to be fun turning twenty-one\"\n",
      "\n",
      "[Verse 5]\n",
      "Time won't fly, it's like I'm paralyzed by it\n",
      "I'd like to be my old self again, but I'm still tryin' to find it\n",
      "After plaid shirt days and nights when you made me your own\n",
      "Now you mail back my things and I walk home alone\n",
      "But you keep my old scarf from that very first week\n",
      "'Cause it reminds you of innocence and it smells like me\n",
      "You can't get rid of it\n",
      "'Cause you remember it all too well, yeah\n",
      "\n",
      "[Chorus]\n",
      "'Cause there we are again when I loved you so\n",
      "Back before you lost the one real thing you've ever known\n",
      "It was rare, I was there\n",
      "I remember it all too well\n",
      "Wind in my hair, you were there\n",
      "You remember it all\n",
      "Down the stairs, you were there\n",
      "You remember it all\n",
      "It was rare, I was there\n",
      "I remember it all too well\n",
      "[Verse 6]\n",
      "And I was never good at tellin' jokes, but the punch line goes\n",
      "\"I'll get older, but your lovers stay my age\"\n",
      "From when your Brooklyn broke my skin and bones\n",
      "I'm a soldier who's returning half her weight\n",
      "And did the twin flame bruise paint you blue?\n",
      "Just between us, did the love affair maim you too?\n",
      "'Cause in this city's barren cold\n",
      "I still remember the first fall of snow\n",
      "And how it glistened as it fell\n",
      "I remember it all too well\n",
      "\n",
      "[Outro]\n",
      "Just between us, did the love affair maim you all too well?\n",
      "Just between us, do you remember it all too well?\n",
      "Just between us, I remember it (Just between us) all too well\n",
      "Wind in my hair, I was there, I was there (I was there)\n",
      "Down the stairs, I was there, I was there\n",
      "Sacred prayer, I was there, I was there\n",
      "It was rare, you remember it all too well\n",
      "Wind in my hair, I was there, I was there (Oh)\n",
      "Down the stairs, I was there, I was there (I was there)\n",
      "Sacred prayer, I was there, I was there\n",
      "It was rare, you remember it (All too well)\n",
      "Wind in my hair, I was there, I was there\n",
      "Down the stairs, I was there, I was there\n",
      "Sacred prayer, I was there, I was there\n",
      "It was rare, you remember it\n",
      "Wind in my hair, I was there, I was there\n",
      "Down the stairs, I was there, I was there\n",
      "Sacred prayer, I was there, I was there\n",
      "It was rare, you remember it223Embed\n"
     ]
    }
   ],
   "source": [
    "print(query1.to_text().split('Lyrics', maxsplit = 1)[1]) # did split to get rid of that pre-text"
   ]
  },
  {
   "cell_type": "code",
   "execution_count": null,
   "id": "be3845f5-584e-405e-8619-b698a2f31d4b",
   "metadata": {},
   "outputs": [],
   "source": []
  }
 ],
 "metadata": {
  "kernelspec": {
   "display_name": "Python 3 (ipykernel)",
   "language": "python",
   "name": "python3"
  },
  "language_info": {
   "codemirror_mode": {
    "name": "ipython",
    "version": 3
   },
   "file_extension": ".py",
   "mimetype": "text/x-python",
   "name": "python",
   "nbconvert_exporter": "python",
   "pygments_lexer": "ipython3",
   "version": "3.9.13"
  }
 },
 "nbformat": 4,
 "nbformat_minor": 5
}
