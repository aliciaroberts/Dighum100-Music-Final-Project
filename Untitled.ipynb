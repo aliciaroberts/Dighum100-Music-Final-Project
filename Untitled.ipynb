{
 "cells": [
  {
   "cell_type": "code",
   "execution_count": 1,
   "id": "3793b0d7-8083-4e49-8cd6-f85caf088e84",
   "metadata": {},
   "outputs": [],
   "source": [
    "# let's use my python functions file: "
   ]
  },
  {
   "cell_type": "code",
   "execution_count": 1,
   "id": "2e61f47e-8b98-484c-a0e9-a0b0c41dd05e",
   "metadata": {},
   "outputs": [],
   "source": [
    "import project_functions as dh"
   ]
  },
  {
   "cell_type": "code",
   "execution_count": 2,
   "id": "1485bbea-2508-4a46-9393-2e1f9f729ff3",
   "metadata": {},
   "outputs": [
    {
     "data": {
      "text/plain": [
       "\"33 ContributorsTranslationsDeutschFrançaisHOT TO GO! Lyrics[Intro]\\nFive, six\\nFive, six, seven, eight\\n\\n[Verse 1]\\nI could be the one, or your new addiction\\nIt's all in my head but I want non-fiction\\nI don't want the world, but I'll take this city\\nWho can blame a girl? Call me hot, not pretty\\n\\n[Pre-Chorus]\\nBaby, do you like this beat?\\nI made it so you'd dance with me\\nIt's like a hundred ninety-nine degrees\\nWhen you're doing it with me, doing it with me\\n\\n[Chorus]\\nH-O-T-T-O-G-O\\nSnap and clap and touch your toes\\nRaise your hands, now body roll\\nDance it out, you're hot to go\\nH-O-T-T-O-G-O\\nSnap and clap and touch your toes\\nRaise your hands, now body roll\\nH-O-T-T-O-G-O\\nSee Chappell Roan LiveGet tickets as low as $222You might also like[Post-Chorus]\\nH-O-T-T-O-G-O\\nYou can take me hot to go\\nH-O-T-T-O-G-O\\nYou can take me hot to go\\n\\n[Verse 2]\\nWell, I woke up alone staring at my cеiling\\nI try not to care but it hurts my feelings\\nYou don't have to stare, comе here, get with it\\nNo one's touched me there in a damn hot minute\\n\\n[Pre-Chorus]\\nAnd baby, don't you like this beat?\\nI made it so you'd sleep with me\\nIt's like a hundred ninety-nine degrees\\nWhen you're doing it with me, doing it with me\\n\\n[Chorus]\\nH-O-T-T-O-G-O\\nSnap and clap and touch your toes\\nRaise your hands, now body roll\\nDance it out, you're hot to go\\nH-O-T-T-O-G-O\\nSnap and clap and touch your toes\\nRaise your hands, now body roll\\nH-O-T-T-O-G-O\\n[Post-Chorus]\\nH-O-T-T-O-G-O\\nYou can take me hot to go\\nH-O-T-T-O-G-O\\nYou can take me hot to go\\n\\n[Bridge]\\nWhat's it take to get your number?\\nWhat's it take to bring you home?\\nHurry up, it's time for supper\\nOrder up, I'm hot to go\\nWhat's it take to get your number?\\nHurry up, it's getting cold\\nHurry up, it's time for supper\\nOrder up, I'm hot to go\\n\\n[Chorus]\\nH-O-T-T-O-G-O\\nYou can take me hot to go (Oh, yeah)\\nH-O-T-T-O-G-O\\nYou can take me hot to go (Hot to go)\\nH-O-T-T-O-G-O\\nYou can take me hot to go (Oh, yeah)\\nH-O-T-T-O-G-O\\nYou can take me hot to go\\n[Outro]\\nWhew, it's hot in here\\nIs anyone else hot?\\nWoo, you coming home with me?\\nOkay, it's hot\\nI'll call the cab1Embed\""
      ]
     },
     "execution_count": 2,
     "metadata": {},
     "output_type": "execute_result"
    }
   ],
   "source": [
    "dh.get_lyrics('Chappell Roan','HOT TO GO!')"
   ]
  },
  {
   "cell_type": "code",
   "execution_count": null,
   "id": "bf7c49b1-b132-4546-9cc9-db7c1a996fb4",
   "metadata": {},
   "outputs": [],
   "source": [
    "# yayay so far so good! now let's get year information! "
   ]
  }
 ],
 "metadata": {
  "kernelspec": {
   "display_name": "Python 3 (ipykernel)",
   "language": "python",
   "name": "python3"
  },
  "language_info": {
   "codemirror_mode": {
    "name": "ipython",
    "version": 3
   },
   "file_extension": ".py",
   "mimetype": "text/x-python",
   "name": "python",
   "nbconvert_exporter": "python",
   "pygments_lexer": "ipython3",
   "version": "3.9.13"
  }
 },
 "nbformat": 4,
 "nbformat_minor": 5
}
