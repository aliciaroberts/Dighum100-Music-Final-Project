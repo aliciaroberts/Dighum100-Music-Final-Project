{
 "cells": [
  {
   "cell_type": "markdown",
   "id": "2d858175-f1c7-4028-b5b0-c2ff11f42ba2",
   "metadata": {},
   "source": [
    "# Genius Lyrics Data Mining \n",
    "\n",
    "goal: find a way to mine the necessary data efficiently and without much user input\n",
    "\n",
    "**areas of interest**\n",
    "1. can we query music by genre?\n",
    "2. if we give it a list of songs, is there an easy way to get certain elements from it:\n",
    "    > lyrics\n",
    "    \n",
    "    > artists \n",
    "    \n",
    "    > year released \n",
    "    \n",
    "    > where the artist is from \n",
    "3. can we get this information without downloading json files per artist?\n",
    "\n",
    "\n",
    "**current bugs**\n",
    "1. find a way to get artist and song id as opposed to the names and titles"
   ]
  },
  {
   "cell_type": "code",
   "execution_count": 96,
   "id": "98be93c3-8cfd-4e17-9fa4-c4b995032b3a",
   "metadata": {},
   "outputs": [],
   "source": [
    "# install if this next cell doesn't run:\n",
    "# !pip install lyricgenius"
   ]
  },
  {
   "cell_type": "code",
   "execution_count": 97,
   "id": "1e4df0c2-710c-4769-b3e1-a8da9d5e924c",
   "metadata": {},
   "outputs": [],
   "source": [
    "# importing libraries: \n",
    "\n",
    "import lyricsgenius\n",
    "import pandas as pd\n",
    "import json"
   ]
  },
  {
   "cell_type": "markdown",
   "id": "b7b3f810-eaff-4698-b088-a95c13694681",
   "metadata": {},
   "source": [
    "I told my group to give me a list of songs to refer to, so i think i'll create a sample table to work with. "
   ]
  },
  {
   "cell_type": "code",
   "execution_count": 98,
   "id": "eea964de-190d-442a-b346-f3944bad0746",
   "metadata": {},
   "outputs": [],
   "source": [
    "titles = {'Artist':['Queen','Taylor Swift','Cavetown','Ricky Montgomery','Cavetown'],\n",
    "          'Song':[\"Don't Stop Me Now\",'Blank Space','Juliet','Get Used to It','Bad Dream Baby']}"
   ]
  },
  {
   "cell_type": "code",
   "execution_count": 99,
   "id": "6c7ca2d2-8d2a-4f61-804b-031b2f0abd46",
   "metadata": {},
   "outputs": [
    {
     "data": {
      "text/html": [
       "<div>\n",
       "<style scoped>\n",
       "    .dataframe tbody tr th:only-of-type {\n",
       "        vertical-align: middle;\n",
       "    }\n",
       "\n",
       "    .dataframe tbody tr th {\n",
       "        vertical-align: top;\n",
       "    }\n",
       "\n",
       "    .dataframe thead th {\n",
       "        text-align: right;\n",
       "    }\n",
       "</style>\n",
       "<table border=\"1\" class=\"dataframe\">\n",
       "  <thead>\n",
       "    <tr style=\"text-align: right;\">\n",
       "      <th></th>\n",
       "      <th>Artist</th>\n",
       "      <th>Song</th>\n",
       "    </tr>\n",
       "  </thead>\n",
       "  <tbody>\n",
       "    <tr>\n",
       "      <th>0</th>\n",
       "      <td>Queen</td>\n",
       "      <td>Don't Stop Me Now</td>\n",
       "    </tr>\n",
       "    <tr>\n",
       "      <th>1</th>\n",
       "      <td>Taylor Swift</td>\n",
       "      <td>Blank Space</td>\n",
       "    </tr>\n",
       "    <tr>\n",
       "      <th>2</th>\n",
       "      <td>Cavetown</td>\n",
       "      <td>Juliet</td>\n",
       "    </tr>\n",
       "    <tr>\n",
       "      <th>3</th>\n",
       "      <td>Ricky Montgomery</td>\n",
       "      <td>Get Used to It</td>\n",
       "    </tr>\n",
       "    <tr>\n",
       "      <th>4</th>\n",
       "      <td>Cavetown</td>\n",
       "      <td>Bad Dream Baby</td>\n",
       "    </tr>\n",
       "  </tbody>\n",
       "</table>\n",
       "</div>"
      ],
      "text/plain": [
       "             Artist               Song\n",
       "0             Queen  Don't Stop Me Now\n",
       "1      Taylor Swift        Blank Space\n",
       "2          Cavetown             Juliet\n",
       "3  Ricky Montgomery     Get Used to It\n",
       "4          Cavetown     Bad Dream Baby"
      ]
     },
     "execution_count": 99,
     "metadata": {},
     "output_type": "execute_result"
    }
   ],
   "source": [
    "test_data = pd.DataFrame.from_dict(titles)\n",
    "\n",
    "test_data"
   ]
  },
  {
   "cell_type": "code",
   "execution_count": 100,
   "id": "d8feb48f-c675-45aa-868a-0fde8b1c6a45",
   "metadata": {},
   "outputs": [],
   "source": [
    "# now let's pass some of this into the genius thing: \n",
    "\n",
    "# !pip install lyricsgenius"
   ]
  },
  {
   "cell_type": "code",
   "execution_count": 101,
   "id": "7441bb6c-18ef-49d4-91fc-a3c8e60ee9c6",
   "metadata": {},
   "outputs": [],
   "source": [
    "# importing libraries\n",
    "\n",
    "import lyricsgenius\n",
    "\n",
    "# visualizations\n",
    "import matplotlib.pyplot as plt\n",
    "import seaborn as sns\n",
    "import plotly.express as px"
   ]
  },
  {
   "cell_type": "code",
   "execution_count": 102,
   "id": "c4bffdf3-db13-4514-b258-8e4e8c95c68c",
   "metadata": {},
   "outputs": [],
   "source": [
    "token = 'HLRORyLWz4776M-RCyF_dAOMBQe9q84xenZadvnQgSO-nO9XOhlqkz5Bc-LH5PlY'\n",
    "genius = (lyricsgenius.Genius(token, \n",
    "                              skip_non_songs = True, \n",
    "                              verbose = False, # turns on or off the text responses, should turn off when done debugging\n",
    "                              remove_section_headers = False, # for the lyrics: no chorus or bridge listed\n",
    "                              retries = 3) ) # the number of times search should try in event of crashes or timeouts "
   ]
  },
  {
   "cell_type": "markdown",
   "id": "5d26e215-9ff7-4a2c-9643-5a8d7b720380",
   "metadata": {},
   "source": [
    "**you can search by artist name:**\n",
    "\n",
    "\n",
    "genius.search_artist(_artists name_ )"
   ]
  },
  {
   "cell_type": "code",
   "execution_count": 103,
   "id": "007db30f-77b4-4b5c-acd1-8f82a2a5e392",
   "metadata": {},
   "outputs": [],
   "source": [
    "# lets use the artist class\n",
    "\n",
    "# genius.artist('00343')"
   ]
  },
  {
   "cell_type": "code",
   "execution_count": 104,
   "id": "609b9667-b740-4532-84ac-ce14cbbe103d",
   "metadata": {},
   "outputs": [],
   "source": [
    "test = genius.search_artist('Taylor Swift', max_songs = 0).id"
   ]
  },
  {
   "cell_type": "code",
   "execution_count": 105,
   "id": "ff08abc5-c268-4278-923c-ea2c72ca9059",
   "metadata": {},
   "outputs": [
    {
     "data": {
      "text/plain": [
       "1177"
      ]
     },
     "execution_count": 105,
     "metadata": {},
     "output_type": "execute_result"
    }
   ],
   "source": [
    "test"
   ]
  },
  {
   "cell_type": "code",
   "execution_count": 106,
   "id": "63aaf559-999d-4b08-8b34-52cc2c4e7af4",
   "metadata": {},
   "outputs": [],
   "source": [
    "def get_artistID(artist):\n",
    "    '''given the artist name return the artist ID'''\n",
    "    return genius.search_artist(artist, max_songs = 0).id"
   ]
  },
  {
   "cell_type": "code",
   "execution_count": 107,
   "id": "92d31db3-838d-4047-80da-7da1cb0974e8",
   "metadata": {},
   "outputs": [],
   "source": [
    "artists = test_data['Artist']"
   ]
  },
  {
   "cell_type": "code",
   "execution_count": 112,
   "id": "fcf68837-fbb4-4461-a701-8791df39ee18",
   "metadata": {},
   "outputs": [],
   "source": [
    "test_data.insert(loc = 1, column = 'Artist_ID', value = [get_artistID(a) for a in artists])"
   ]
  },
  {
   "cell_type": "code",
   "execution_count": 113,
   "id": "d5719195-551f-4189-b8a0-2a2e94c01e77",
   "metadata": {},
   "outputs": [
    {
     "data": {
      "text/html": [
       "<div>\n",
       "<style scoped>\n",
       "    .dataframe tbody tr th:only-of-type {\n",
       "        vertical-align: middle;\n",
       "    }\n",
       "\n",
       "    .dataframe tbody tr th {\n",
       "        vertical-align: top;\n",
       "    }\n",
       "\n",
       "    .dataframe thead th {\n",
       "        text-align: right;\n",
       "    }\n",
       "</style>\n",
       "<table border=\"1\" class=\"dataframe\">\n",
       "  <thead>\n",
       "    <tr style=\"text-align: right;\">\n",
       "      <th></th>\n",
       "      <th>Artist</th>\n",
       "      <th>Artist_ID</th>\n",
       "      <th>Song</th>\n",
       "    </tr>\n",
       "  </thead>\n",
       "  <tbody>\n",
       "    <tr>\n",
       "      <th>0</th>\n",
       "      <td>Queen</td>\n",
       "      <td>563</td>\n",
       "      <td>Don't Stop Me Now</td>\n",
       "    </tr>\n",
       "    <tr>\n",
       "      <th>1</th>\n",
       "      <td>Taylor Swift</td>\n",
       "      <td>1177</td>\n",
       "      <td>Blank Space</td>\n",
       "    </tr>\n",
       "    <tr>\n",
       "      <th>2</th>\n",
       "      <td>Cavetown</td>\n",
       "      <td>966969</td>\n",
       "      <td>Juliet</td>\n",
       "    </tr>\n",
       "    <tr>\n",
       "      <th>3</th>\n",
       "      <td>Ricky Montgomery</td>\n",
       "      <td>406321</td>\n",
       "      <td>Get Used to It</td>\n",
       "    </tr>\n",
       "    <tr>\n",
       "      <th>4</th>\n",
       "      <td>Cavetown</td>\n",
       "      <td>966969</td>\n",
       "      <td>Bad Dream Baby</td>\n",
       "    </tr>\n",
       "  </tbody>\n",
       "</table>\n",
       "</div>"
      ],
      "text/plain": [
       "             Artist  Artist_ID               Song\n",
       "0             Queen        563  Don't Stop Me Now\n",
       "1      Taylor Swift       1177        Blank Space\n",
       "2          Cavetown     966969             Juliet\n",
       "3  Ricky Montgomery     406321     Get Used to It\n",
       "4          Cavetown     966969     Bad Dream Baby"
      ]
     },
     "execution_count": 113,
     "metadata": {},
     "output_type": "execute_result"
    }
   ],
   "source": [
    "test_data"
   ]
  },
  {
   "cell_type": "code",
   "execution_count": 131,
   "id": "6955b68d-4ea8-428b-92da-88222487464d",
   "metadata": {},
   "outputs": [],
   "source": [
    "queen_dict = (genius.search_artist_songs(test_data['Artist_ID'][0], \n",
    "                            search_term = test_data[\"Song\"][0]))"
   ]
  },
  {
   "cell_type": "code",
   "execution_count": 214,
   "id": "364d0d47-f767-4200-affc-a2c08c2e53b0",
   "metadata": {},
   "outputs": [
    {
     "data": {
      "text/plain": [
       "[{'_type': 'song',\n",
       "  'annotation_count': 9,\n",
       "  'api_path': '/songs/205311',\n",
       "  'artist_names': 'Queen',\n",
       "  'full_title': \"Don't Stop Me Now by\\xa0Queen\",\n",
       "  'header_image_thumbnail_url': 'https://images.genius.com/aface99ac22323aec35a2841f57af5c1.300x298x1.jpg',\n",
       "  'header_image_url': 'https://images.genius.com/aface99ac22323aec35a2841f57af5c1.600x595x1.jpg',\n",
       "  'id': 205311,\n",
       "  'instrumental': False,\n",
       "  'lyrics_owner_id': 269746,\n",
       "  'lyrics_state': 'complete',\n",
       "  'lyrics_updated_at': 1663862595,\n",
       "  'path': '/Queen-dont-stop-me-now-lyrics',\n",
       "  'pyongs_count': 112,\n",
       "  'relationships_index_url': 'https://genius.com/Queen-dont-stop-me-now-sample',\n",
       "  'release_date_components': {'year': 1978, 'month': 11, 'day': 10},\n",
       "  'release_date_for_display': 'November 10, 1978',\n",
       "  'release_date_with_abbreviated_month_for_display': 'Nov. 10, 1978',\n",
       "  'song_art_image_thumbnail_url': 'https://images.genius.com/aface99ac22323aec35a2841f57af5c1.300x298x1.jpg',\n",
       "  'song_art_image_url': 'https://images.genius.com/aface99ac22323aec35a2841f57af5c1.600x595x1.jpg',\n",
       "  'stats': {'unreviewed_annotations': 0,\n",
       "   'concurrents': 3,\n",
       "   'hot': False,\n",
       "   'pageviews': 1778148},\n",
       "  'title': 'Don’t Stop Me Now',\n",
       "  'title_with_featured': \"Don't Stop Me Now\",\n",
       "  'updated_by_human_at': 1713623387,\n",
       "  'url': 'https://genius.com/Queen-dont-stop-me-now-lyrics',\n",
       "  'featured_artists': [],\n",
       "  'primary_artist': {'_type': 'artist',\n",
       "   'api_path': '/artists/563',\n",
       "   'header_image_url': 'https://images.genius.com/e7f111196181f254d6f1ea90a46cd308.999x425x1.jpg',\n",
       "   'id': 563,\n",
       "   'image_url': 'https://images.genius.com/3bc047e8b3c654ed28aedc69f93f8663.1000x1000x1.jpg',\n",
       "   'index_character': 'q',\n",
       "   'is_meme_verified': False,\n",
       "   'is_verified': False,\n",
       "   'name': 'Queen',\n",
       "   'slug': 'Queen',\n",
       "   'url': 'https://genius.com/artists/Queen'},\n",
       "  'primary_artists': [{'_type': 'artist',\n",
       "    'api_path': '/artists/563',\n",
       "    'header_image_url': 'https://images.genius.com/e7f111196181f254d6f1ea90a46cd308.999x425x1.jpg',\n",
       "    'id': 563,\n",
       "    'image_url': 'https://images.genius.com/3bc047e8b3c654ed28aedc69f93f8663.1000x1000x1.jpg',\n",
       "    'index_character': 'q',\n",
       "    'is_meme_verified': False,\n",
       "    'is_verified': False,\n",
       "    'name': 'Queen',\n",
       "    'slug': 'Queen',\n",
       "    'url': 'https://genius.com/artists/Queen'}]},\n",
       " {'_type': 'song',\n",
       "  'annotation_count': 1,\n",
       "  'api_path': '/songs/4006432',\n",
       "  'artist_names': 'Queen',\n",
       "  'full_title': \"Don't Stop Me Now (…revisited) by\\xa0Queen\",\n",
       "  'header_image_thumbnail_url': 'https://images.genius.com/8fd791fb92849656e641f558a8b539c6.300x300x1.png',\n",
       "  'header_image_url': 'https://images.genius.com/8fd791fb92849656e641f558a8b539c6.1000x1000x1.png',\n",
       "  'id': 4006432,\n",
       "  'instrumental': False,\n",
       "  'lyrics_owner_id': 4365014,\n",
       "  'lyrics_state': 'complete',\n",
       "  'lyrics_updated_at': 1689966926,\n",
       "  'path': '/Queen-dont-stop-me-now-revisited-lyrics',\n",
       "  'pyongs_count': 2,\n",
       "  'relationships_index_url': 'https://genius.com/Queen-dont-stop-me-now-revisited-sample',\n",
       "  'release_date_components': {'year': 2018, 'month': 10, 'day': 19},\n",
       "  'release_date_for_display': 'October 19, 2018',\n",
       "  'release_date_with_abbreviated_month_for_display': 'Oct. 19, 2018',\n",
       "  'song_art_image_thumbnail_url': 'https://images.genius.com/8fd791fb92849656e641f558a8b539c6.300x300x1.png',\n",
       "  'song_art_image_url': 'https://images.genius.com/8fd791fb92849656e641f558a8b539c6.1000x1000x1.png',\n",
       "  'stats': {'unreviewed_annotations': 1, 'hot': False, 'pageviews': 11119},\n",
       "  'title': 'Don’t Stop Me Now (…revisited)',\n",
       "  'title_with_featured': \"Don't Stop Me Now (…revisited)\",\n",
       "  'updated_by_human_at': 1689956618,\n",
       "  'url': 'https://genius.com/Queen-dont-stop-me-now-revisited-lyrics',\n",
       "  'featured_artists': [],\n",
       "  'primary_artist': {'_type': 'artist',\n",
       "   'api_path': '/artists/563',\n",
       "   'header_image_url': 'https://images.genius.com/e7f111196181f254d6f1ea90a46cd308.999x425x1.jpg',\n",
       "   'id': 563,\n",
       "   'image_url': 'https://images.genius.com/3bc047e8b3c654ed28aedc69f93f8663.1000x1000x1.jpg',\n",
       "   'index_character': 'q',\n",
       "   'is_meme_verified': False,\n",
       "   'is_verified': False,\n",
       "   'name': 'Queen',\n",
       "   'slug': 'Queen',\n",
       "   'url': 'https://genius.com/artists/Queen'},\n",
       "  'primary_artists': [{'_type': 'artist',\n",
       "    'api_path': '/artists/563',\n",
       "    'header_image_url': 'https://images.genius.com/e7f111196181f254d6f1ea90a46cd308.999x425x1.jpg',\n",
       "    'id': 563,\n",
       "    'image_url': 'https://images.genius.com/3bc047e8b3c654ed28aedc69f93f8663.1000x1000x1.jpg',\n",
       "    'index_character': 'q',\n",
       "    'is_meme_verified': False,\n",
       "    'is_verified': False,\n",
       "    'name': 'Queen',\n",
       "    'slug': 'Queen',\n",
       "    'url': 'https://genius.com/artists/Queen'}]},\n",
       " {'_type': 'song',\n",
       "  'annotation_count': 0,\n",
       "  'api_path': '/songs/5887859',\n",
       "  'artist_names': 'Queen (Ft. Adam Lambert)',\n",
       "  'full_title': 'Don’t Stop Me Now (Live at Rock in Rio Festival, Lisbon, 20th May 2016) by\\xa0Queen (Ft.\\xa0Adam\\xa0Lambert)',\n",
       "  'header_image_thumbnail_url': 'https://images.genius.com/cffc51362e3e207f438d9bc5c03e00b7.300x300x1.png',\n",
       "  'header_image_url': 'https://images.genius.com/cffc51362e3e207f438d9bc5c03e00b7.1000x1000x1.png',\n",
       "  'id': 5887859,\n",
       "  'instrumental': False,\n",
       "  'lyrics_owner_id': 9988521,\n",
       "  'lyrics_state': 'complete',\n",
       "  'lyrics_updated_at': 1610856016,\n",
       "  'path': '/Queen-dont-stop-me-now-live-at-rock-in-rio-festival-lisbon-20th-may-2016-lyrics',\n",
       "  'pyongs_count': None,\n",
       "  'relationships_index_url': 'https://genius.com/Queen-dont-stop-me-now-live-at-rock-in-rio-festival-lisbon-20th-may-2016-sample',\n",
       "  'release_date_components': {'year': 2020, 'month': 10, 'day': 2},\n",
       "  'release_date_for_display': 'October 2, 2020',\n",
       "  'release_date_with_abbreviated_month_for_display': 'Oct. 2, 2020',\n",
       "  'song_art_image_thumbnail_url': 'https://images.genius.com/cffc51362e3e207f438d9bc5c03e00b7.300x300x1.png',\n",
       "  'song_art_image_url': 'https://images.genius.com/cffc51362e3e207f438d9bc5c03e00b7.1000x1000x1.png',\n",
       "  'stats': {'unreviewed_annotations': 0, 'hot': False},\n",
       "  'title': 'Don’t Stop Me Now (Live at Rock in Rio Festival, Lisbon, 20th May 2016)',\n",
       "  'title_with_featured': 'Don’t Stop Me Now (Live at Rock in Rio Festival, Lisbon, 20th May 2016) (Ft.\\xa0Adam\\xa0Lambert)',\n",
       "  'updated_by_human_at': 1683282677,\n",
       "  'url': 'https://genius.com/Queen-dont-stop-me-now-live-at-rock-in-rio-festival-lisbon-20th-may-2016-lyrics',\n",
       "  'featured_artists': [{'_type': 'artist',\n",
       "    'api_path': '/artists/25136',\n",
       "    'header_image_url': 'https://images.genius.com/75277f366c480b84855a6d5aac52b6e2.1000x1000x1.jpg',\n",
       "    'id': 25136,\n",
       "    'image_url': 'https://images.genius.com/6c0de00df275302648aade43bb10adf1.1000x1000x1.jpg',\n",
       "    'index_character': 'a',\n",
       "    'is_meme_verified': False,\n",
       "    'is_verified': False,\n",
       "    'name': 'Adam Lambert',\n",
       "    'slug': 'Adam-lambert',\n",
       "    'url': 'https://genius.com/artists/Adam-lambert'}],\n",
       "  'primary_artist': {'_type': 'artist',\n",
       "   'api_path': '/artists/563',\n",
       "   'header_image_url': 'https://images.genius.com/e7f111196181f254d6f1ea90a46cd308.999x425x1.jpg',\n",
       "   'id': 563,\n",
       "   'image_url': 'https://images.genius.com/3bc047e8b3c654ed28aedc69f93f8663.1000x1000x1.jpg',\n",
       "   'index_character': 'q',\n",
       "   'is_meme_verified': False,\n",
       "   'is_verified': False,\n",
       "   'name': 'Queen',\n",
       "   'slug': 'Queen',\n",
       "   'url': 'https://genius.com/artists/Queen'},\n",
       "  'primary_artists': [{'_type': 'artist',\n",
       "    'api_path': '/artists/563',\n",
       "    'header_image_url': 'https://images.genius.com/e7f111196181f254d6f1ea90a46cd308.999x425x1.jpg',\n",
       "    'id': 563,\n",
       "    'image_url': 'https://images.genius.com/3bc047e8b3c654ed28aedc69f93f8663.1000x1000x1.jpg',\n",
       "    'index_character': 'q',\n",
       "    'is_meme_verified': False,\n",
       "    'is_verified': False,\n",
       "    'name': 'Queen',\n",
       "    'slug': 'Queen',\n",
       "    'url': 'https://genius.com/artists/Queen'}]},\n",
       " {'_type': 'song',\n",
       "  'annotation_count': 0,\n",
       "  'api_path': '/songs/5214663',\n",
       "  'artist_names': 'Queen',\n",
       "  'full_title': \"Don't Stop Me Now [Live Killers] by\\xa0Queen\",\n",
       "  'header_image_thumbnail_url': 'https://images.genius.com/5a7c0f1b67c83429a377a6ad3743b79b.300x300x1.png',\n",
       "  'header_image_url': 'https://images.genius.com/5a7c0f1b67c83429a377a6ad3743b79b.1000x1000x1.png',\n",
       "  'id': 5214663,\n",
       "  'instrumental': False,\n",
       "  'lyrics_owner_id': 3807492,\n",
       "  'lyrics_state': 'complete',\n",
       "  'lyrics_updated_at': 1674317141,\n",
       "  'path': '/Queen-dont-stop-me-now-live-killers-lyrics',\n",
       "  'pyongs_count': None,\n",
       "  'relationships_index_url': 'https://genius.com/Queen-dont-stop-me-now-live-killers-sample',\n",
       "  'release_date_components': {'year': 1979, 'month': 6, 'day': 22},\n",
       "  'release_date_for_display': 'June 22, 1979',\n",
       "  'release_date_with_abbreviated_month_for_display': 'Jun. 22, 1979',\n",
       "  'song_art_image_thumbnail_url': 'https://images.genius.com/5a7c0f1b67c83429a377a6ad3743b79b.300x300x1.png',\n",
       "  'song_art_image_url': 'https://images.genius.com/5a7c0f1b67c83429a377a6ad3743b79b.1000x1000x1.png',\n",
       "  'stats': {'unreviewed_annotations': 0, 'hot': False},\n",
       "  'title': 'Don’t Stop Me Now [Live Killers]',\n",
       "  'title_with_featured': \"Don't Stop Me Now [Live Killers]\",\n",
       "  'updated_by_human_at': 1674317267,\n",
       "  'url': 'https://genius.com/Queen-dont-stop-me-now-live-killers-lyrics',\n",
       "  'featured_artists': [],\n",
       "  'primary_artist': {'_type': 'artist',\n",
       "   'api_path': '/artists/563',\n",
       "   'header_image_url': 'https://images.genius.com/e7f111196181f254d6f1ea90a46cd308.999x425x1.jpg',\n",
       "   'id': 563,\n",
       "   'image_url': 'https://images.genius.com/3bc047e8b3c654ed28aedc69f93f8663.1000x1000x1.jpg',\n",
       "   'index_character': 'q',\n",
       "   'is_meme_verified': False,\n",
       "   'is_verified': False,\n",
       "   'name': 'Queen',\n",
       "   'slug': 'Queen',\n",
       "   'url': 'https://genius.com/artists/Queen'},\n",
       "  'primary_artists': [{'_type': 'artist',\n",
       "    'api_path': '/artists/563',\n",
       "    'header_image_url': 'https://images.genius.com/e7f111196181f254d6f1ea90a46cd308.999x425x1.jpg',\n",
       "    'id': 563,\n",
       "    'image_url': 'https://images.genius.com/3bc047e8b3c654ed28aedc69f93f8663.1000x1000x1.jpg',\n",
       "    'index_character': 'q',\n",
       "    'is_meme_verified': False,\n",
       "    'is_verified': False,\n",
       "    'name': 'Queen',\n",
       "    'slug': 'Queen',\n",
       "    'url': 'https://genius.com/artists/Queen'}]},\n",
       " {'_type': 'song',\n",
       "  'annotation_count': 0,\n",
       "  'api_path': '/songs/8670900',\n",
       "  'artist_names': 'Queen',\n",
       "  'full_title': \"Don't Stop Me Now (With Long-Lost Guitars) by\\xa0Queen\",\n",
       "  'header_image_thumbnail_url': 'https://images.genius.com/2a75e05dee916c6285669475fde1808c.300x300x1.jpg',\n",
       "  'header_image_url': 'https://images.genius.com/2a75e05dee916c6285669475fde1808c.1000x1000x1.jpg',\n",
       "  'id': 8670900,\n",
       "  'instrumental': False,\n",
       "  'lyrics_owner_id': 6959884,\n",
       "  'lyrics_state': 'complete',\n",
       "  'lyrics_updated_at': 1671923820,\n",
       "  'path': '/Queen-dont-stop-me-now-with-long-lost-guitars-lyrics',\n",
       "  'pyongs_count': None,\n",
       "  'relationships_index_url': 'https://genius.com/Queen-dont-stop-me-now-with-long-lost-guitars-sample',\n",
       "  'release_date_components': {'year': 2011, 'month': 6, 'day': 27},\n",
       "  'release_date_for_display': 'June 27, 2011',\n",
       "  'release_date_with_abbreviated_month_for_display': 'Jun. 27, 2011',\n",
       "  'song_art_image_thumbnail_url': 'https://images.genius.com/2a75e05dee916c6285669475fde1808c.300x300x1.jpg',\n",
       "  'song_art_image_url': 'https://images.genius.com/2a75e05dee916c6285669475fde1808c.1000x1000x1.jpg',\n",
       "  'stats': {'unreviewed_annotations': 0, 'hot': False},\n",
       "  'title': 'Don’t Stop Me Now (With Long-Lost Guitars)',\n",
       "  'title_with_featured': \"Don't Stop Me Now (With Long-Lost Guitars)\",\n",
       "  'updated_by_human_at': 1706335527,\n",
       "  'url': 'https://genius.com/Queen-dont-stop-me-now-with-long-lost-guitars-lyrics',\n",
       "  'featured_artists': [],\n",
       "  'primary_artist': {'_type': 'artist',\n",
       "   'api_path': '/artists/563',\n",
       "   'header_image_url': 'https://images.genius.com/e7f111196181f254d6f1ea90a46cd308.999x425x1.jpg',\n",
       "   'id': 563,\n",
       "   'image_url': 'https://images.genius.com/3bc047e8b3c654ed28aedc69f93f8663.1000x1000x1.jpg',\n",
       "   'index_character': 'q',\n",
       "   'is_meme_verified': False,\n",
       "   'is_verified': False,\n",
       "   'name': 'Queen',\n",
       "   'slug': 'Queen',\n",
       "   'url': 'https://genius.com/artists/Queen'},\n",
       "  'primary_artists': [{'_type': 'artist',\n",
       "    'api_path': '/artists/563',\n",
       "    'header_image_url': 'https://images.genius.com/e7f111196181f254d6f1ea90a46cd308.999x425x1.jpg',\n",
       "    'id': 563,\n",
       "    'image_url': 'https://images.genius.com/3bc047e8b3c654ed28aedc69f93f8663.1000x1000x1.jpg',\n",
       "    'index_character': 'q',\n",
       "    'is_meme_verified': False,\n",
       "    'is_verified': False,\n",
       "    'name': 'Queen',\n",
       "    'slug': 'Queen',\n",
       "    'url': 'https://genius.com/artists/Queen'}]},\n",
       " {'_type': 'song',\n",
       "  'annotation_count': 0,\n",
       "  'api_path': '/songs/9070022',\n",
       "  'artist_names': 'Queen (Ft. Wham!)',\n",
       "  'full_title': \"Don't Stop Me Now but PLEASE STOP HIM NOW by\\xa0Queen (Ft.\\xa0Wham!)\",\n",
       "  'header_image_thumbnail_url': 'https://images.genius.com/3bc047e8b3c654ed28aedc69f93f8663.300x300x1.jpg',\n",
       "  'header_image_url': 'https://images.genius.com/3bc047e8b3c654ed28aedc69f93f8663.1000x1000x1.jpg',\n",
       "  'id': 9070022,\n",
       "  'instrumental': False,\n",
       "  'lyrics_owner_id': 19981223,\n",
       "  'lyrics_state': 'complete',\n",
       "  'lyrics_updated_at': 1682800240,\n",
       "  'path': '/Queen-dont-stop-me-now-but-please-stop-him-now-lyrics',\n",
       "  'pyongs_count': None,\n",
       "  'relationships_index_url': 'https://genius.com/Queen-dont-stop-me-now-but-please-stop-him-now-sample',\n",
       "  'release_date_components': {'year': 2018, 'month': 11, 'day': 18},\n",
       "  'release_date_for_display': 'November 18, 2018',\n",
       "  'release_date_with_abbreviated_month_for_display': 'Nov. 18, 2018',\n",
       "  'song_art_image_thumbnail_url': 'https://images.genius.com/3bc047e8b3c654ed28aedc69f93f8663.300x300x1.jpg',\n",
       "  'song_art_image_url': 'https://images.genius.com/3bc047e8b3c654ed28aedc69f93f8663.1000x1000x1.jpg',\n",
       "  'stats': {'unreviewed_annotations': 0, 'hot': False},\n",
       "  'title': 'Don’t Stop Me Now but PLEASE STOP HIM NOW',\n",
       "  'title_with_featured': \"Don't Stop Me Now but PLEASE STOP HIM NOW (Ft.\\xa0Wham!)\",\n",
       "  'updated_by_human_at': 1682800537,\n",
       "  'url': 'https://genius.com/Queen-dont-stop-me-now-but-please-stop-him-now-lyrics',\n",
       "  'featured_artists': [{'_type': 'artist',\n",
       "    'api_path': '/artists/15441',\n",
       "    'header_image_url': 'https://images.genius.com/fa6ce11351527453835ceb3de8919140.928x523x1.jpg',\n",
       "    'id': 15441,\n",
       "    'image_url': 'https://images.genius.com/bc49df9ed7074d1dfafc697c4ed74735.670x670x1.jpg',\n",
       "    'index_character': 'w',\n",
       "    'is_meme_verified': False,\n",
       "    'is_verified': False,\n",
       "    'name': 'Wham!',\n",
       "    'slug': 'Wham',\n",
       "    'url': 'https://genius.com/artists/Wham'}],\n",
       "  'primary_artist': {'_type': 'artist',\n",
       "   'api_path': '/artists/563',\n",
       "   'header_image_url': 'https://images.genius.com/e7f111196181f254d6f1ea90a46cd308.999x425x1.jpg',\n",
       "   'id': 563,\n",
       "   'image_url': 'https://images.genius.com/3bc047e8b3c654ed28aedc69f93f8663.1000x1000x1.jpg',\n",
       "   'index_character': 'q',\n",
       "   'is_meme_verified': False,\n",
       "   'is_verified': False,\n",
       "   'name': 'Queen',\n",
       "   'slug': 'Queen',\n",
       "   'url': 'https://genius.com/artists/Queen'},\n",
       "  'primary_artists': [{'_type': 'artist',\n",
       "    'api_path': '/artists/563',\n",
       "    'header_image_url': 'https://images.genius.com/e7f111196181f254d6f1ea90a46cd308.999x425x1.jpg',\n",
       "    'id': 563,\n",
       "    'image_url': 'https://images.genius.com/3bc047e8b3c654ed28aedc69f93f8663.1000x1000x1.jpg',\n",
       "    'index_character': 'q',\n",
       "    'is_meme_verified': False,\n",
       "    'is_verified': False,\n",
       "    'name': 'Queen',\n",
       "    'slug': 'Queen',\n",
       "    'url': 'https://genius.com/artists/Queen'}]},\n",
       " {'_type': 'song',\n",
       "  'annotation_count': 0,\n",
       "  'api_path': '/songs/4088751',\n",
       "  'artist_names': 'Operación Triunfo 2018',\n",
       "  'full_title': \"Don't Stop Me Now by\\xa0Operación\\xa0Triunfo 2018\",\n",
       "  'header_image_thumbnail_url': 'https://images.genius.com/6799d862f46bcf24dee5d40042afd1c6.268x268x1.jpg',\n",
       "  'header_image_url': 'https://images.genius.com/6799d862f46bcf24dee5d40042afd1c6.268x268x1.jpg',\n",
       "  'id': 4088751,\n",
       "  'instrumental': False,\n",
       "  'lyrics_owner_id': 4958583,\n",
       "  'lyrics_state': 'complete',\n",
       "  'lyrics_updated_at': 1542136936,\n",
       "  'path': '/Operacion-triunfo-2018-dont-stop-me-now-lyrics',\n",
       "  'pyongs_count': None,\n",
       "  'relationships_index_url': 'https://genius.com/Operacion-triunfo-2018-dont-stop-me-now-sample',\n",
       "  'release_date_components': {'year': 2018, 'month': 11, 'day': 7},\n",
       "  'release_date_for_display': 'November 7, 2018',\n",
       "  'release_date_with_abbreviated_month_for_display': 'Nov. 7, 2018',\n",
       "  'song_art_image_thumbnail_url': 'https://images.genius.com/6799d862f46bcf24dee5d40042afd1c6.268x268x1.jpg',\n",
       "  'song_art_image_url': 'https://images.genius.com/6799d862f46bcf24dee5d40042afd1c6.268x268x1.jpg',\n",
       "  'stats': {'unreviewed_annotations': 0, 'hot': False},\n",
       "  'title': 'Don’t Stop Me Now',\n",
       "  'title_with_featured': \"Don't Stop Me Now\",\n",
       "  'updated_by_human_at': 1542136936,\n",
       "  'url': 'https://genius.com/Operacion-triunfo-2018-dont-stop-me-now-lyrics',\n",
       "  'featured_artists': [],\n",
       "  'primary_artist': {'_type': 'artist',\n",
       "   'api_path': '/artists/1601201',\n",
       "   'header_image_url': 'https://images.genius.com/0b30bd201e9fcce721a062c84c6e345e.567x567x1.jpg',\n",
       "   'id': 1601201,\n",
       "   'image_url': 'https://images.genius.com/0b30bd201e9fcce721a062c84c6e345e.567x567x1.jpg',\n",
       "   'index_character': 'o',\n",
       "   'is_meme_verified': False,\n",
       "   'is_verified': False,\n",
       "   'name': 'Operación Triunfo 2018',\n",
       "   'slug': 'Operacion-triunfo-2018',\n",
       "   'url': 'https://genius.com/artists/Operacion-triunfo-2018'},\n",
       "  'primary_artists': [{'_type': 'artist',\n",
       "    'api_path': '/artists/1601201',\n",
       "    'header_image_url': 'https://images.genius.com/0b30bd201e9fcce721a062c84c6e345e.567x567x1.jpg',\n",
       "    'id': 1601201,\n",
       "    'image_url': 'https://images.genius.com/0b30bd201e9fcce721a062c84c6e345e.567x567x1.jpg',\n",
       "    'index_character': 'o',\n",
       "    'is_meme_verified': False,\n",
       "    'is_verified': False,\n",
       "    'name': 'Operación Triunfo 2018',\n",
       "    'slug': 'Operacion-triunfo-2018',\n",
       "    'url': 'https://genius.com/artists/Operacion-triunfo-2018'}]}]"
      ]
     },
     "execution_count": 214,
     "metadata": {},
     "output_type": "execute_result"
    }
   ],
   "source": [
    "queen_dict.keys()\n",
    "queen_dict['songs']"
   ]
  },
  {
   "cell_type": "code",
   "execution_count": 145,
   "id": "666b4843-ca56-40d7-92d4-5f0bf7075258",
   "metadata": {},
   "outputs": [
    {
     "data": {
      "text/plain": [
       "{'_type': 'song',\n",
       " 'annotation_count': 9,\n",
       " 'api_path': '/songs/205311',\n",
       " 'artist_names': 'Queen',\n",
       " 'full_title': \"Don't Stop Me Now by\\xa0Queen\",\n",
       " 'header_image_thumbnail_url': 'https://images.genius.com/aface99ac22323aec35a2841f57af5c1.300x298x1.jpg',\n",
       " 'header_image_url': 'https://images.genius.com/aface99ac22323aec35a2841f57af5c1.600x595x1.jpg',\n",
       " 'id': 205311,\n",
       " 'instrumental': False,\n",
       " 'lyrics_owner_id': 269746,\n",
       " 'lyrics_state': 'complete',\n",
       " 'lyrics_updated_at': 1663862595,\n",
       " 'path': '/Queen-dont-stop-me-now-lyrics',\n",
       " 'pyongs_count': 112,\n",
       " 'relationships_index_url': 'https://genius.com/Queen-dont-stop-me-now-sample',\n",
       " 'release_date_components': {'year': 1978, 'month': 11, 'day': 10},\n",
       " 'release_date_for_display': 'November 10, 1978',\n",
       " 'release_date_with_abbreviated_month_for_display': 'Nov. 10, 1978',\n",
       " 'song_art_image_thumbnail_url': 'https://images.genius.com/aface99ac22323aec35a2841f57af5c1.300x298x1.jpg',\n",
       " 'song_art_image_url': 'https://images.genius.com/aface99ac22323aec35a2841f57af5c1.600x595x1.jpg',\n",
       " 'stats': {'unreviewed_annotations': 0,\n",
       "  'concurrents': 3,\n",
       "  'hot': False,\n",
       "  'pageviews': 1778148},\n",
       " 'title': 'Don’t Stop Me Now',\n",
       " 'title_with_featured': \"Don't Stop Me Now\",\n",
       " 'updated_by_human_at': 1713623387,\n",
       " 'url': 'https://genius.com/Queen-dont-stop-me-now-lyrics',\n",
       " 'featured_artists': [],\n",
       " 'primary_artist': {'_type': 'artist',\n",
       "  'api_path': '/artists/563',\n",
       "  'header_image_url': 'https://images.genius.com/e7f111196181f254d6f1ea90a46cd308.999x425x1.jpg',\n",
       "  'id': 563,\n",
       "  'image_url': 'https://images.genius.com/3bc047e8b3c654ed28aedc69f93f8663.1000x1000x1.jpg',\n",
       "  'index_character': 'q',\n",
       "  'is_meme_verified': False,\n",
       "  'is_verified': False,\n",
       "  'name': 'Queen',\n",
       "  'slug': 'Queen',\n",
       "  'url': 'https://genius.com/artists/Queen'},\n",
       " 'primary_artists': [{'_type': 'artist',\n",
       "   'api_path': '/artists/563',\n",
       "   'header_image_url': 'https://images.genius.com/e7f111196181f254d6f1ea90a46cd308.999x425x1.jpg',\n",
       "   'id': 563,\n",
       "   'image_url': 'https://images.genius.com/3bc047e8b3c654ed28aedc69f93f8663.1000x1000x1.jpg',\n",
       "   'index_character': 'q',\n",
       "   'is_meme_verified': False,\n",
       "   'is_verified': False,\n",
       "   'name': 'Queen',\n",
       "   'slug': 'Queen',\n",
       "   'url': 'https://genius.com/artists/Queen'}]}"
      ]
     },
     "execution_count": 145,
     "metadata": {},
     "output_type": "execute_result"
    }
   ],
   "source": [
    "queen_dict['songs'][0]"
   ]
  },
  {
   "cell_type": "code",
   "execution_count": 158,
   "id": "a0dec66f-f66b-4d7f-a3db-ce3a210f1df5",
   "metadata": {},
   "outputs": [
    {
     "name": "stdout",
     "output_type": "stream",
     "text": [
      "{'year': 1978, 'month': 11, 'day': 10}\n",
      "November 10, 1978\n"
     ]
    }
   ],
   "source": [
    "# getting the year released: \n",
    "print(queen_dict['songs'][0]['release_date_components']) # this one is better \n",
    "print(queen_dict['songs'][0]['release_date_for_display'])"
   ]
  },
  {
   "cell_type": "code",
   "execution_count": 177,
   "id": "0e9b8b47-f2f8-4328-bc75-5e17ac87d0a3",
   "metadata": {},
   "outputs": [],
   "source": [
    "def song_dictionary(artist_ID, song_title, most_popular_only = True):\n",
    "    '''returns the dictionary of keywords and information about a song\n",
    "    INPUTS: artist_ID: an integer value\n",
    "            song_title: the title of the song, not case sensitive\n",
    "    caveat: will return all songs of that artist with the same or similar title \n",
    "    (eg the 10 minute version or Taylor's version vs the original, new features, etc. . . \n",
    "    to account for this, the term: most_popular_only can be set to true to only return the most popular \n",
    "    version of the song we want''' \n",
    "    dictionary = (genius.search_artist_songs(artist_id = artist_ID, \n",
    "                            search_term =song_title, \n",
    "                                            sort = 'popular'))\n",
    "    if most_popular_only:\n",
    "        return dictionary['songs'][0]\n",
    "    return dictionary['songs']\n",
    "\n",
    "# tests:\n",
    "\n",
    "test_dict = song_dictionary(test_data['Artist_ID'][0], song_title = test_data['Song'][0])"
   ]
  },
  {
   "cell_type": "code",
   "execution_count": 181,
   "id": "80aafbcd-83c0-418d-9f68-ae450634e94d",
   "metadata": {},
   "outputs": [
    {
     "data": {
      "text/plain": [
       "({'year': 1978, 'month': 11, 'day': 10}, 'November 10, 1978')"
      ]
     },
     "execution_count": 181,
     "metadata": {},
     "output_type": "execute_result"
    }
   ],
   "source": [
    "def get_release_date(song_dict, form = 'd'):\n",
    "    '''given a song dictionary, return the date the song came out.\n",
    "    if form == r, then return the readable option\n",
    "    otherwise return the dictionary version\n",
    "    OUTPUT: either INT or DICT'''\n",
    "    if form == 'd':\n",
    "        return song_dict['release_date_components'] # this one is better\n",
    "    if form == 'r':\n",
    "        return song_dict['release_date_for_display']\n",
    "    else:\n",
    "        raise Exception('Wrong form selected, please choose d for DICTIONARY or r for plain text')\n",
    "        \n",
    "get_release_date(test_dict), get_release_date(test_dict, form = 'r')"
   ]
  },
  {
   "cell_type": "code",
   "execution_count": 192,
   "id": "368a179d-63aa-44e9-8d41-a9e58fe19118",
   "metadata": {},
   "outputs": [
    {
     "data": {
      "text/plain": [
       "1978"
      ]
     },
     "execution_count": 192,
     "metadata": {},
     "output_type": "execute_result"
    }
   ],
   "source": [
    "def get_year(song):\n",
    "    '''given SONG, return the year the song came out\n",
    "    OUTPUT: INT'''\n",
    "    year = get_release_date(song)['year']\n",
    "    return year\n",
    "    \n",
    "    \n",
    "get_year(test_dict)"
   ]
  },
  {
   "cell_type": "code",
   "execution_count": 187,
   "id": "1792f645-14d5-4ab5-9ba5-cc02fd8928f5",
   "metadata": {},
   "outputs": [],
   "source": [
    "def get_song_ID(song):\n",
    "    return song['id']\n",
    "\n",
    "\n",
    "test_song_ID = get_song_ID(test_dict)"
   ]
  },
  {
   "cell_type": "code",
   "execution_count": 209,
   "id": "1c111c9d-2485-49ed-89b2-e1f2721c4a6f",
   "metadata": {},
   "outputs": [
    {
     "data": {
      "text/plain": [
       "{'plain': 'Obviously they call him Mr. Fahrenheit because he’s so hot, duh!'}"
      ]
     },
     "execution_count": 209,
     "metadata": {},
     "output_type": "execute_result"
    }
   ],
   "source": [
    "# maybe let's see comments! \n",
    "\n",
    "def get_comments(song_ID, style = 'plain'):\n",
    "    comms = genius.song_comments(song_ID, text_format = style)\n",
    "    return comms\n",
    "    \n",
    "# this is the first comment (in this list), with no other information     \n",
    "get_comments(test_song_ID)['comments'][0]['body']\n",
    "# let's see if I can get more information:"
   ]
  },
  {
   "cell_type": "code",
   "execution_count": 210,
   "id": "c29f3177-d48e-4f3f-9d1f-dd33c2e0dcde",
   "metadata": {},
   "outputs": [
    {
     "data": {
      "text/plain": [
       "10"
      ]
     },
     "execution_count": 210,
     "metadata": {},
     "output_type": "execute_result"
    }
   ],
   "source": [
    "len(get_comments(test_song_ID, style = 'markdown')['comments'])"
   ]
  },
  {
   "cell_type": "code",
   "execution_count": 165,
   "id": "dc34b8e3-eaff-4a33-b8ce-e91dd09bc657",
   "metadata": {},
   "outputs": [
    {
     "data": {
      "text/plain": [
       "\"143 ContributorsTranslationsРусскийDeutschEspañolDon’t Stop Me Now Lyrics[Intro]\\nTonight I'm gonna have myself a real good time\\nI feel alive\\nAnd the world, I'll turn it inside out, yeah\\nI'm floating around in ecstasy\\nSo (Don't stop me now)\\n(Don't stop me)\\n'Cause I'm having a good time\\nHaving a good time\\n\\n[Verse 1]\\nI'm a shooting star, leaping through the sky like a tiger\\nDefying the laws of gravity\\nI'm a racing car, passing by like Lady Godiva\\nI'm gonna go, go, go, there's no stopping me\\n\\n[Pre-Chorus]\\nI'm burning through the sky, yeah\\nTwo hundred degrees, that's why they call me Mister Fahrenheit\\nI'm travelling at the speed of light\\nI wanna make a supersonic man outta you\\n\\n[Chorus]\\n(Don't stop me now)\\nI'm having such a good time, I'm having a ball\\n(Don't stop me now)\\nIf you wanna have a good time, just give me a call\\n(Don't stop me now)\\n'Cause I'm having a good time\\n(Don't stop me now)\\nYes, I'm having a good time\\nI don't wanna stop at all, yeah\\nYou might also like[Verse 2]\\nI'm a rocket ship on my way to Mars on a collision course\\nI am a satellite, I'm out of control\\nI'm a sex machine, ready to reload like an atom bomb\\nAbout to oh, oh, oh, oh, oh, explode\\n\\n[Pre-Chorus]\\nI'm burning through the sky, yeah\\nTwo hundred degrees, that's why they call me Mister Fahrenheit\\nI'm travelling at the speed of light\\nI wanna make a supersonic woman of you\\n\\n[Bridge]\\n(Don't stop me, don't stop me, don't stop me)\\nHey, hey, hey\\n(Don't stop me, don't stop me, ooh, ooh, ooh)\\nI like it\\n(Don't stop me, don't stop me)\\nHave a good time, good time\\n(Don't stop me, don't stop me) Woah\\nLet loose, honey, all right\\n\\n[Guitar Solo]\\n\\n[Pre-Chorus]\\nOh, I'm burning through the sky, yeah\\nTwo hundred degrees, that's why they call me Mister Fahrenheit (Hey)\\nTravelling at the speed of light\\nI wanna make a supersonic man outta you (Hey, hey)\\n[Chorus]\\n(Don't stop me now)\\nI'm having such a good time, I'm having a ball\\n(Don't stop me now)\\nIf you wanna have a good time, just give me a call (Ooh, alright)\\n(Don't stop me now)\\n'Cause I'm having a good time (Hey, hey)\\n(Don't stop me now)\\nYes, I'm having a good time\\nI don't wanna stop at all\\n\\n[Outro]\\nAh, da, da, da, da\\nDa, da, ah, ah\\nAh, da, da, ah, ah, ah\\nAh, da, da\\nAh, da, da, ah, ah\\nOoh, ooh-ooh, ooh-ooh112Embed\""
      ]
     },
     "execution_count": 165,
     "metadata": {},
     "output_type": "execute_result"
    }
   ],
   "source": [
    "# plain text lyrics, use print to see them nicer \n",
    "\n",
    "\n",
    "(genius.search_song(title = test_data['Song'][0], \n",
    "                    artist = test_data['Artist'][0],\n",
    "                   get_full_info = False) # can also do song_ID if you want a specific one\n",
    " .lyrics)"
   ]
  },
  {
   "cell_type": "code",
   "execution_count": 175,
   "id": "c2cacc23-05bc-4034-8955-cf26f9cf612d",
   "metadata": {},
   "outputs": [],
   "source": [
    "# queen_dict['songs']"
   ]
  },
  {
   "cell_type": "code",
   "execution_count": null,
   "id": "09f6c016-e9a0-41ae-80fd-c4e0f9e47a3d",
   "metadata": {},
   "outputs": [],
   "source": []
  }
 ],
 "metadata": {
  "kernelspec": {
   "display_name": "Python 3 (ipykernel)",
   "language": "python",
   "name": "python3"
  },
  "language_info": {
   "codemirror_mode": {
    "name": "ipython",
    "version": 3
   },
   "file_extension": ".py",
   "mimetype": "text/x-python",
   "name": "python",
   "nbconvert_exporter": "python",
   "pygments_lexer": "ipython3",
   "version": "3.9.13"
  }
 },
 "nbformat": 4,
 "nbformat_minor": 5
}
