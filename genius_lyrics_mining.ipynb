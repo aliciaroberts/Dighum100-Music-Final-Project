{
 "cells": [
  {
   "cell_type": "markdown",
   "id": "2d858175-f1c7-4028-b5b0-c2ff11f42ba2",
   "metadata": {},
   "source": [
    "# Genius Lyrics Data Mining \n",
    "\n",
    "goal: find a way to mine the necessary data efficiently and without much user input\n",
    "\n",
    "**areas of interest**\n",
    "1. can we query music by genre?\n",
    "2. if we give it a list of songs, is there an easy way to get certain elements from it:\n",
    "    > lyrics\n",
    "    \n",
    "    > artists \n",
    "    \n",
    "    > year released \n",
    "    \n",
    "    > where the artist is from \n",
    "3. can we get this information without downloading json files per artist?\n",
    "\n",
    "\n",
    "**current bugs**\n",
    "1. find a way to get artist and song id as opposed to the names and titles"
   ]
  },
  {
   "cell_type": "code",
   "execution_count": 1,
   "id": "98be93c3-8cfd-4e17-9fa4-c4b995032b3a",
   "metadata": {},
   "outputs": [],
   "source": [
    "# install if this next cell doesn't run:\n",
    "# !pip install lyricgenius"
   ]
  },
  {
   "cell_type": "code",
   "execution_count": 6,
   "id": "1e4df0c2-710c-4769-b3e1-a8da9d5e924c",
   "metadata": {},
   "outputs": [],
   "source": [
    "# importing libraries: \n",
    "\n",
    "import lyricsgenius\n",
    "import pandas as pd\n",
    "import json"
   ]
  },
  {
   "cell_type": "markdown",
   "id": "b7b3f810-eaff-4698-b088-a95c13694681",
   "metadata": {},
   "source": [
    "I told my group to give me a list of songs to refer to, so i think i'll create a sample table to work with. "
   ]
  },
  {
   "cell_type": "code",
   "execution_count": 3,
   "id": "eea964de-190d-442a-b346-f3944bad0746",
   "metadata": {},
   "outputs": [],
   "source": [
    "titles = {'Artist':['Queen','Taylor Swift','Cavetown','Ricky Montgomery','Cavetown'],\n",
    "          'Song':[\"Don't Stop Me Now\",'Blank Space','Juliet','Get Used to It','Bad Dream Baby']}"
   ]
  },
  {
   "cell_type": "code",
   "execution_count": 4,
   "id": "6c7ca2d2-8d2a-4f61-804b-031b2f0abd46",
   "metadata": {},
   "outputs": [
    {
     "data": {
      "text/html": [
       "<div>\n",
       "<style scoped>\n",
       "    .dataframe tbody tr th:only-of-type {\n",
       "        vertical-align: middle;\n",
       "    }\n",
       "\n",
       "    .dataframe tbody tr th {\n",
       "        vertical-align: top;\n",
       "    }\n",
       "\n",
       "    .dataframe thead th {\n",
       "        text-align: right;\n",
       "    }\n",
       "</style>\n",
       "<table border=\"1\" class=\"dataframe\">\n",
       "  <thead>\n",
       "    <tr style=\"text-align: right;\">\n",
       "      <th></th>\n",
       "      <th>Artist</th>\n",
       "      <th>Song</th>\n",
       "    </tr>\n",
       "  </thead>\n",
       "  <tbody>\n",
       "    <tr>\n",
       "      <th>0</th>\n",
       "      <td>Queen</td>\n",
       "      <td>Don't Stop Me Now</td>\n",
       "    </tr>\n",
       "    <tr>\n",
       "      <th>1</th>\n",
       "      <td>Taylor Swift</td>\n",
       "      <td>Blank Space</td>\n",
       "    </tr>\n",
       "    <tr>\n",
       "      <th>2</th>\n",
       "      <td>Cavetown</td>\n",
       "      <td>Juliet</td>\n",
       "    </tr>\n",
       "    <tr>\n",
       "      <th>3</th>\n",
       "      <td>Ricky Montgomery</td>\n",
       "      <td>Get Used to It</td>\n",
       "    </tr>\n",
       "    <tr>\n",
       "      <th>4</th>\n",
       "      <td>Cavetown</td>\n",
       "      <td>Bad Dream Baby</td>\n",
       "    </tr>\n",
       "  </tbody>\n",
       "</table>\n",
       "</div>"
      ],
      "text/plain": [
       "             Artist               Song\n",
       "0             Queen  Don't Stop Me Now\n",
       "1      Taylor Swift        Blank Space\n",
       "2          Cavetown             Juliet\n",
       "3  Ricky Montgomery     Get Used to It\n",
       "4          Cavetown     Bad Dream Baby"
      ]
     },
     "execution_count": 4,
     "metadata": {},
     "output_type": "execute_result"
    }
   ],
   "source": [
    "test_data = pd.DataFrame.from_dict(titles)\n",
    "\n",
    "test_data"
   ]
  },
  {
   "cell_type": "code",
   "execution_count": 5,
   "id": "d8feb48f-c675-45aa-868a-0fde8b1c6a45",
   "metadata": {},
   "outputs": [],
   "source": [
    "# now let's pass some of this into the genius thing: \n",
    "\n",
    "# !pip install lyricsgenius"
   ]
  },
  {
   "cell_type": "code",
   "execution_count": 6,
   "id": "7441bb6c-18ef-49d4-91fc-a3c8e60ee9c6",
   "metadata": {},
   "outputs": [],
   "source": [
    "# importing libraries\n",
    "\n",
    "import lyricsgenius\n",
    "\n",
    "# visualizations\n",
    "import matplotlib.pyplot as plt\n",
    "import seaborn as sns\n",
    "import plotly.express as px"
   ]
  },
  {
   "cell_type": "code",
   "execution_count": 7,
   "id": "c4bffdf3-db13-4514-b258-8e4e8c95c68c",
   "metadata": {},
   "outputs": [],
   "source": [
    "token = 'HLRORyLWz4776M-RCyF_dAOMBQe9q84xenZadvnQgSO-nO9XOhlqkz5Bc-LH5PlY'\n",
    "genius = (lyricsgenius.Genius(token, \n",
    "                              skip_non_songs = True, \n",
    "                              verbose = False, # turns on or off the text responses, should turn off when done debugging\n",
    "                              remove_section_headers = False, # for the lyrics: no chorus or bridge listed\n",
    "                              retries = 3) ) # the number of times search should try in event of crashes or timeouts "
   ]
  },
  {
   "cell_type": "markdown",
   "id": "5d26e215-9ff7-4a2c-9643-5a8d7b720380",
   "metadata": {},
   "source": [
    "**you can search by artist name:**\n",
    "\n",
    "\n",
    "genius.search_artist(_artists name_ )"
   ]
  },
  {
   "cell_type": "code",
   "execution_count": 8,
   "id": "007db30f-77b4-4b5c-acd1-8f82a2a5e392",
   "metadata": {},
   "outputs": [],
   "source": [
    "# lets use the artist class\n",
    "\n",
    "# genius.artist('00343')"
   ]
  },
  {
   "cell_type": "code",
   "execution_count": 9,
   "id": "609b9667-b740-4532-84ac-ce14cbbe103d",
   "metadata": {},
   "outputs": [],
   "source": [
    "test = genius.search_artist('Taylor Swift', max_songs = 0).id"
   ]
  },
  {
   "cell_type": "code",
   "execution_count": 10,
   "id": "ff08abc5-c268-4278-923c-ea2c72ca9059",
   "metadata": {},
   "outputs": [
    {
     "data": {
      "text/plain": [
       "1177"
      ]
     },
     "execution_count": 10,
     "metadata": {},
     "output_type": "execute_result"
    }
   ],
   "source": [
    "test"
   ]
  },
  {
   "cell_type": "code",
   "execution_count": 11,
   "id": "63aaf559-999d-4b08-8b34-52cc2c4e7af4",
   "metadata": {},
   "outputs": [],
   "source": [
    "def get_artistID(artist):\n",
    "    '''given the artist name return the artist ID'''\n",
    "    return genius.search_artist(artist, max_songs = 0).id"
   ]
  },
  {
   "cell_type": "code",
   "execution_count": 12,
   "id": "92d31db3-838d-4047-80da-7da1cb0974e8",
   "metadata": {},
   "outputs": [],
   "source": [
    "artists = test_data['Artist']"
   ]
  },
  {
   "cell_type": "code",
   "execution_count": 13,
   "id": "fcf68837-fbb4-4461-a701-8791df39ee18",
   "metadata": {},
   "outputs": [],
   "source": [
    "test_data.insert(loc = 1, column = 'Artist_ID', value = [get_artistID(a) for a in artists])"
   ]
  },
  {
   "cell_type": "code",
   "execution_count": 14,
   "id": "d5719195-551f-4189-b8a0-2a2e94c01e77",
   "metadata": {},
   "outputs": [
    {
     "data": {
      "text/html": [
       "<div>\n",
       "<style scoped>\n",
       "    .dataframe tbody tr th:only-of-type {\n",
       "        vertical-align: middle;\n",
       "    }\n",
       "\n",
       "    .dataframe tbody tr th {\n",
       "        vertical-align: top;\n",
       "    }\n",
       "\n",
       "    .dataframe thead th {\n",
       "        text-align: right;\n",
       "    }\n",
       "</style>\n",
       "<table border=\"1\" class=\"dataframe\">\n",
       "  <thead>\n",
       "    <tr style=\"text-align: right;\">\n",
       "      <th></th>\n",
       "      <th>Artist</th>\n",
       "      <th>Artist_ID</th>\n",
       "      <th>Song</th>\n",
       "    </tr>\n",
       "  </thead>\n",
       "  <tbody>\n",
       "    <tr>\n",
       "      <th>0</th>\n",
       "      <td>Queen</td>\n",
       "      <td>563</td>\n",
       "      <td>Don't Stop Me Now</td>\n",
       "    </tr>\n",
       "    <tr>\n",
       "      <th>1</th>\n",
       "      <td>Taylor Swift</td>\n",
       "      <td>1177</td>\n",
       "      <td>Blank Space</td>\n",
       "    </tr>\n",
       "    <tr>\n",
       "      <th>2</th>\n",
       "      <td>Cavetown</td>\n",
       "      <td>966969</td>\n",
       "      <td>Juliet</td>\n",
       "    </tr>\n",
       "    <tr>\n",
       "      <th>3</th>\n",
       "      <td>Ricky Montgomery</td>\n",
       "      <td>406321</td>\n",
       "      <td>Get Used to It</td>\n",
       "    </tr>\n",
       "    <tr>\n",
       "      <th>4</th>\n",
       "      <td>Cavetown</td>\n",
       "      <td>966969</td>\n",
       "      <td>Bad Dream Baby</td>\n",
       "    </tr>\n",
       "  </tbody>\n",
       "</table>\n",
       "</div>"
      ],
      "text/plain": [
       "             Artist  Artist_ID               Song\n",
       "0             Queen        563  Don't Stop Me Now\n",
       "1      Taylor Swift       1177        Blank Space\n",
       "2          Cavetown     966969             Juliet\n",
       "3  Ricky Montgomery     406321     Get Used to It\n",
       "4          Cavetown     966969     Bad Dream Baby"
      ]
     },
     "execution_count": 14,
     "metadata": {},
     "output_type": "execute_result"
    }
   ],
   "source": [
    "test_data"
   ]
  },
  {
   "cell_type": "code",
   "execution_count": 15,
   "id": "6955b68d-4ea8-428b-92da-88222487464d",
   "metadata": {},
   "outputs": [],
   "source": [
    "queen_dict = (genius.search_artist_songs(test_data['Artist_ID'][0], \n",
    "                            search_term = test_data[\"Song\"][0]))"
   ]
  },
  {
   "cell_type": "code",
   "execution_count": 16,
   "id": "364d0d47-f767-4200-affc-a2c08c2e53b0",
   "metadata": {},
   "outputs": [
    {
     "data": {
      "text/plain": [
       "dict_keys(['songs', 'next_page', 'total_entries'])"
      ]
     },
     "execution_count": 16,
     "metadata": {},
     "output_type": "execute_result"
    }
   ],
   "source": [
    "queen_dict.keys()\n",
    "# queen_dict['songs']"
   ]
  },
  {
   "cell_type": "code",
   "execution_count": 17,
   "id": "666b4843-ca56-40d7-92d4-5f0bf7075258",
   "metadata": {},
   "outputs": [],
   "source": [
    "# queen_dict['songs'][0]"
   ]
  },
  {
   "cell_type": "code",
   "execution_count": 18,
   "id": "a0dec66f-f66b-4d7f-a3db-ce3a210f1df5",
   "metadata": {},
   "outputs": [
    {
     "name": "stdout",
     "output_type": "stream",
     "text": [
      "{'year': 1978, 'month': 11, 'day': 10}\n",
      "November 10, 1978\n"
     ]
    }
   ],
   "source": [
    "# getting the year released: \n",
    "print(queen_dict['songs'][0]['release_date_components']) # this one is better \n",
    "print(queen_dict['songs'][0]['release_date_for_display'])"
   ]
  },
  {
   "cell_type": "code",
   "execution_count": 19,
   "id": "0e9b8b47-f2f8-4328-bc75-5e17ac87d0a3",
   "metadata": {},
   "outputs": [],
   "source": [
    "def song_dictionary(artist_ID, song_title, most_popular_only = True):\n",
    "    '''returns the dictionary of keywords and information about a song\n",
    "    INPUTS: artist_ID: an integer value\n",
    "            song_title: the title of the song, not case sensitive\n",
    "    caveat: will return all songs of that artist with the same or similar title \n",
    "    (eg the 10 minute version or Taylor's version vs the original, new features, etc. . . \n",
    "    to account for this, the term: most_popular_only can be set to true to only return the most popular \n",
    "    version of the song we want''' \n",
    "    dictionary = (genius.search_artist_songs(artist_id = artist_ID, \n",
    "                            search_term =song_title, \n",
    "                                            sort = 'popular'))\n",
    "    if most_popular_only:\n",
    "        return dictionary['songs'][0]\n",
    "    return dictionary['songs']\n",
    "\n",
    "# tests:\n",
    "\n",
    "test_dict = song_dictionary(test_data['Artist_ID'][0], song_title = test_data['Song'][0])"
   ]
  },
  {
   "cell_type": "code",
   "execution_count": 20,
   "id": "80aafbcd-83c0-418d-9f68-ae450634e94d",
   "metadata": {},
   "outputs": [
    {
     "data": {
      "text/plain": [
       "({'year': 1978, 'month': 11, 'day': 10}, 'November 10, 1978')"
      ]
     },
     "execution_count": 20,
     "metadata": {},
     "output_type": "execute_result"
    }
   ],
   "source": [
    "def get_release_date(song_dict, form = 'd'):\n",
    "    '''given a song dictionary, return the date the song came out.\n",
    "    if form == r, then return the readable option\n",
    "    otherwise return the dictionary version\n",
    "    OUTPUT: either INT or DICT'''\n",
    "    if form == 'd':\n",
    "        return song_dict['release_date_components'] # this one is better\n",
    "    if form == 'r':\n",
    "        return song_dict['release_date_for_display']\n",
    "    else:\n",
    "        raise Exception('Wrong form selected, please choose d for DICTIONARY or r for plain text')\n",
    "        \n",
    "get_release_date(test_dict), get_release_date(test_dict, form = 'r')"
   ]
  },
  {
   "cell_type": "code",
   "execution_count": 21,
   "id": "368a179d-63aa-44e9-8d41-a9e58fe19118",
   "metadata": {},
   "outputs": [
    {
     "data": {
      "text/plain": [
       "1978"
      ]
     },
     "execution_count": 21,
     "metadata": {},
     "output_type": "execute_result"
    }
   ],
   "source": [
    "def get_year(song):\n",
    "    '''given SONG, return the year the song came out\n",
    "    OUTPUT: INT'''\n",
    "    year = get_release_date(song)['year']\n",
    "    return year\n",
    "    \n",
    "    \n",
    "get_year(test_dict)"
   ]
  },
  {
   "cell_type": "code",
   "execution_count": 22,
   "id": "1792f645-14d5-4ab5-9ba5-cc02fd8928f5",
   "metadata": {},
   "outputs": [],
   "source": [
    "def get_song_ID(song):\n",
    "    return song['id']\n",
    "\n",
    "\n",
    "test_song_ID = get_song_ID(test_dict)"
   ]
  },
  {
   "cell_type": "code",
   "execution_count": 23,
   "id": "1c111c9d-2485-49ed-89b2-e1f2721c4a6f",
   "metadata": {},
   "outputs": [
    {
     "data": {
      "text/plain": [
       "{'plain': 'Obviously they call him Mr. Fahrenheit because he’s so hot, duh!'}"
      ]
     },
     "execution_count": 23,
     "metadata": {},
     "output_type": "execute_result"
    }
   ],
   "source": [
    "# maybe let's see comments! \n",
    "\n",
    "def get_comments(song_ID, style = 'plain'):\n",
    "    comms = genius.song_comments(song_ID, text_format = style)\n",
    "    return comms\n",
    "    \n",
    "# this is the first comment (in this list), with no other information     \n",
    "get_comments(test_song_ID)['comments'][0]['body']\n",
    "# let's see if I can get more information:"
   ]
  },
  {
   "cell_type": "code",
   "execution_count": 24,
   "id": "c29f3177-d48e-4f3f-9d1f-dd33c2e0dcde",
   "metadata": {},
   "outputs": [
    {
     "data": {
      "text/plain": [
       "10"
      ]
     },
     "execution_count": 24,
     "metadata": {},
     "output_type": "execute_result"
    }
   ],
   "source": [
    "len(get_comments(test_song_ID, style = 'markdown')['comments'])"
   ]
  },
  {
   "cell_type": "code",
   "execution_count": 25,
   "id": "dc34b8e3-eaff-4a33-b8ce-e91dd09bc657",
   "metadata": {},
   "outputs": [],
   "source": [
    "# plain text lyrics, use print to see them nicer \n",
    "\n",
    "# (genius.search_song(title = test_data['Song'][0], \n",
    "#                     artist = test_data['Artist'][0],\n",
    "#                    get_full_info = False) # can also do song_ID if you want a specific one\n",
    "#  .lyrics)"
   ]
  },
  {
   "cell_type": "code",
   "execution_count": 26,
   "id": "c2cacc23-05bc-4034-8955-cf26f9cf612d",
   "metadata": {},
   "outputs": [],
   "source": [
    "# queen_dict['songs']"
   ]
  },
  {
   "cell_type": "code",
   "execution_count": 27,
   "id": "09f6c016-e9a0-41ae-80fd-c4e0f9e47a3d",
   "metadata": {},
   "outputs": [],
   "source": [
    "# let's set up a cache so we don't keep querying into the API:"
   ]
  },
  {
   "cell_type": "code",
   "execution_count": 28,
   "id": "23527320-6ea8-4910-a2b1-12fc57c72450",
   "metadata": {},
   "outputs": [],
   "source": [
    "from functools import cache"
   ]
  },
  {
   "cell_type": "code",
   "execution_count": 29,
   "id": "646f08d5-0d51-4e21-a2de-8a91ebf65b4c",
   "metadata": {},
   "outputs": [
    {
     "data": {
      "text/html": [
       "<div>\n",
       "<style scoped>\n",
       "    .dataframe tbody tr th:only-of-type {\n",
       "        vertical-align: middle;\n",
       "    }\n",
       "\n",
       "    .dataframe tbody tr th {\n",
       "        vertical-align: top;\n",
       "    }\n",
       "\n",
       "    .dataframe thead th {\n",
       "        text-align: right;\n",
       "    }\n",
       "</style>\n",
       "<table border=\"1\" class=\"dataframe\">\n",
       "  <thead>\n",
       "    <tr style=\"text-align: right;\">\n",
       "      <th></th>\n",
       "      <th>Artist</th>\n",
       "      <th>Artist_ID</th>\n",
       "      <th>Song</th>\n",
       "    </tr>\n",
       "  </thead>\n",
       "  <tbody>\n",
       "    <tr>\n",
       "      <th>0</th>\n",
       "      <td>Queen</td>\n",
       "      <td>563</td>\n",
       "      <td>Don't Stop Me Now</td>\n",
       "    </tr>\n",
       "    <tr>\n",
       "      <th>1</th>\n",
       "      <td>Taylor Swift</td>\n",
       "      <td>1177</td>\n",
       "      <td>Blank Space</td>\n",
       "    </tr>\n",
       "    <tr>\n",
       "      <th>2</th>\n",
       "      <td>Cavetown</td>\n",
       "      <td>966969</td>\n",
       "      <td>Juliet</td>\n",
       "    </tr>\n",
       "    <tr>\n",
       "      <th>3</th>\n",
       "      <td>Ricky Montgomery</td>\n",
       "      <td>406321</td>\n",
       "      <td>Get Used to It</td>\n",
       "    </tr>\n",
       "    <tr>\n",
       "      <th>4</th>\n",
       "      <td>Cavetown</td>\n",
       "      <td>966969</td>\n",
       "      <td>Bad Dream Baby</td>\n",
       "    </tr>\n",
       "  </tbody>\n",
       "</table>\n",
       "</div>"
      ],
      "text/plain": [
       "             Artist  Artist_ID               Song\n",
       "0             Queen        563  Don't Stop Me Now\n",
       "1      Taylor Swift       1177        Blank Space\n",
       "2          Cavetown     966969             Juliet\n",
       "3  Ricky Montgomery     406321     Get Used to It\n",
       "4          Cavetown     966969     Bad Dream Baby"
      ]
     },
     "execution_count": 29,
     "metadata": {},
     "output_type": "execute_result"
    }
   ],
   "source": [
    "# let's see what object has the most information:\n",
    "\n",
    "test_data"
   ]
  },
  {
   "cell_type": "code",
   "execution_count": 30,
   "id": "ae4841ab-0092-45f9-9a6b-9a088dadb6bd",
   "metadata": {},
   "outputs": [],
   "source": [
    "sample_row = test_data.sample(1)"
   ]
  },
  {
   "cell_type": "code",
   "execution_count": 31,
   "id": "309016e0-47dd-4a6c-bf15-71306622b110",
   "metadata": {},
   "outputs": [
    {
     "data": {
      "text/html": [
       "<div>\n",
       "<style scoped>\n",
       "    .dataframe tbody tr th:only-of-type {\n",
       "        vertical-align: middle;\n",
       "    }\n",
       "\n",
       "    .dataframe tbody tr th {\n",
       "        vertical-align: top;\n",
       "    }\n",
       "\n",
       "    .dataframe thead th {\n",
       "        text-align: right;\n",
       "    }\n",
       "</style>\n",
       "<table border=\"1\" class=\"dataframe\">\n",
       "  <thead>\n",
       "    <tr style=\"text-align: right;\">\n",
       "      <th></th>\n",
       "      <th>Artist</th>\n",
       "      <th>Artist_ID</th>\n",
       "      <th>Song</th>\n",
       "    </tr>\n",
       "  </thead>\n",
       "  <tbody>\n",
       "    <tr>\n",
       "      <th>3</th>\n",
       "      <td>Ricky Montgomery</td>\n",
       "      <td>406321</td>\n",
       "      <td>Get Used to It</td>\n",
       "    </tr>\n",
       "  </tbody>\n",
       "</table>\n",
       "</div>"
      ],
      "text/plain": [
       "             Artist  Artist_ID            Song\n",
       "3  Ricky Montgomery     406321  Get Used to It"
      ]
     },
     "execution_count": 31,
     "metadata": {},
     "output_type": "execute_result"
    }
   ],
   "source": [
    "sample_row"
   ]
  },
  {
   "cell_type": "code",
   "execution_count": 32,
   "id": "75b97566-11bb-4f60-bcc6-a078165fa051",
   "metadata": {},
   "outputs": [],
   "source": [
    "# let's see what we can do: \n",
    "\n",
    "# the thing with this one is you can't ask for a specific song, so maybe not this one unless totally necessary:\n",
    "sample_artist = genius.search_artist(sample_row['Artist'].iloc[0], max_songs = 0) # returns DICTIONARY"
   ]
  },
  {
   "cell_type": "code",
   "execution_count": 33,
   "id": "4ee47ba9-508a-46e0-b9a0-760d42374930",
   "metadata": {},
   "outputs": [],
   "source": [
    "# okay so for this one you need the name and the song title. . . otherwise you muight get the wrong song \n",
    "sample_song = genius.search_song(title = sample_row['Song'].iloc[0], artist = sample_row['Artist'].iloc[0])\n",
    "# returns a song object \n",
    "\n",
    "# this could break on the wrong artist, so let's see what it does down below:"
   ]
  },
  {
   "cell_type": "code",
   "execution_count": 34,
   "id": "a461595b-a7f6-4ee1-95c9-ca9810e54d0f",
   "metadata": {},
   "outputs": [
    {
     "data": {
      "text/plain": [
       "{'_type': 'song',\n",
       " 'annotation_count': 10,\n",
       " 'api_path': '/songs/2045031',\n",
       " 'artist_names': 'Ricky Montgomery',\n",
       " 'full_title': 'Get Used to It by\\xa0Ricky\\xa0Montgomery',\n",
       " 'header_image_thumbnail_url': 'https://images.genius.com/cc976fa6827211e5fe62b1a0d637f21d.300x300x1.jpg',\n",
       " 'header_image_url': 'https://images.genius.com/cc976fa6827211e5fe62b1a0d637f21d.816x816x1.jpg',\n",
       " 'id': 2045031,\n",
       " 'instrumental': False,\n",
       " 'lyrics_owner_id': 2470755,\n",
       " 'lyrics_state': 'complete',\n",
       " 'lyrics_updated_at': 1686868931,\n",
       " 'path': '/Ricky-montgomery-get-used-to-it-lyrics',\n",
       " 'pyongs_count': 1,\n",
       " 'relationships_index_url': 'https://genius.com/Ricky-montgomery-get-used-to-it-sample',\n",
       " 'release_date_components': {'year': 2014, 'month': 11, 'day': 14},\n",
       " 'release_date_for_display': 'November 14, 2014',\n",
       " 'release_date_with_abbreviated_month_for_display': 'Nov. 14, 2014',\n",
       " 'song_art_image_thumbnail_url': 'https://images.genius.com/cc976fa6827211e5fe62b1a0d637f21d.300x300x1.jpg',\n",
       " 'song_art_image_url': 'https://images.genius.com/cc976fa6827211e5fe62b1a0d637f21d.816x816x1.jpg',\n",
       " 'stats': {'unreviewed_annotations': 10, 'hot': False, 'pageviews': 37629},\n",
       " 'title': 'Get Used to It',\n",
       " 'title_with_featured': 'Get Used to It',\n",
       " 'updated_by_human_at': 1709833595,\n",
       " 'url': 'https://genius.com/Ricky-montgomery-get-used-to-it-lyrics',\n",
       " 'featured_artists': [],\n",
       " 'primary_artist': {'_type': 'artist',\n",
       "  'api_path': '/artists/406321',\n",
       "  'header_image_url': 'https://images.genius.com/d877e5ac19b8d8c4c3337076058149b1.340x255x1.jpg',\n",
       "  'id': 406321,\n",
       "  'image_url': 'https://images.genius.com/19a995af558174c6599842a29c08b604.1000x1000x1.jpg',\n",
       "  'index_character': 'r',\n",
       "  'is_meme_verified': False,\n",
       "  'is_verified': True,\n",
       "  'name': 'Ricky Montgomery',\n",
       "  'slug': 'Ricky-montgomery',\n",
       "  'url': 'https://genius.com/artists/Ricky-montgomery',\n",
       "  'iq': 719},\n",
       " 'primary_artists': [{'_type': 'artist',\n",
       "   'api_path': '/artists/406321',\n",
       "   'header_image_url': 'https://images.genius.com/d877e5ac19b8d8c4c3337076058149b1.340x255x1.jpg',\n",
       "   'id': 406321,\n",
       "   'image_url': 'https://images.genius.com/19a995af558174c6599842a29c08b604.1000x1000x1.jpg',\n",
       "   'index_character': 'r',\n",
       "   'is_meme_verified': False,\n",
       "   'is_verified': True,\n",
       "   'name': 'Ricky Montgomery',\n",
       "   'slug': 'Ricky-montgomery',\n",
       "   'url': 'https://genius.com/artists/Ricky-montgomery',\n",
       "   'iq': 719}],\n",
       " 'artist': 'Ricky Montgomery',\n",
       " 'lyrics': \"27 ContributorsGet Used to It Lyrics[Verse 1]\\nUsed to live down by the beach\\nAnd I used to be good on my feet\\nAnd my fingers used to dance on every key\\nNow they're just pieces of meat\\nUsed to wear a suit and tie\\nAnd I used to grab a birdie every night\\nDrive down to the hotel parking lot\\nMake monkey love in the street\\n\\nUsed to go to university\\nUsed to be the head of varsity\\nUsed to live inside this box\\nWith everyone noticing me\\nI used to leave the evening feeling right\\nI'll be with you each and every night\\nChasing that horizon in our eyes\\n\\n[Chorus]\\nYou want a garden, but you got a balcony\\nAnd you're always lookin' for some company\\nYou want a say, well, what you got to say?\\nGive in to me, give in to me and see\\n\\n[Verse 2]\\nUsed to live down by Hyperion\\nUsed to be a Californian\\nWay back when before my Missouri\\nLeft not but this envy in my heart\\nHeart and soul\\nApropos, you're beautiful\\nYou're beautiful\\nSee Ricky Montgomery LiveGet tickets as low as $35You might also like[Chorus]\\nYou want a garden, but you got a balcony\\nAnd you're always lookin' for some company\\nYou want a say, well, what you gotta say?\\nGive in to me, give in to me\\nGive in to me\\n\\n[Chorus]\\nYou want a garden, but you got a balcony\\nAnd you're always lookin' for some company\\nYou want a say, well, what you gotta say?\\nGive in to me, give in to me and see\\n\\n[Chorus 2]\\nGarden, but you got a mouth to feed\\nAnd you're always looking for some company\\nYou want a say (say), well, what you gotta say?\\nWhat you gotta say? What you gotta say? (Say)\\nGive in to me\\n\\n[Outro]\\nGet used to it, get used to it\\n(Garden but you got a balcony, and)\\nGet used to it, get used to it\\nGet used to it, get used to it\\n(Garden but you got a balcony, and)\\nGet used to it, get used to it\\n(Garden but you got a balcony, and)\\nGet used to it, get used to it\\nGet used to it, get used to it\\n(Garden but you got a balcony, and)\\nGet used to it, get used to it\\nGet used to it, get used to it\\nGet used to it, get used to it1Embed\"}"
      ]
     },
     "execution_count": 34,
     "metadata": {},
     "output_type": "execute_result"
    }
   ],
   "source": [
    "sample_song.to_dict()"
   ]
  },
  {
   "cell_type": "code",
   "execution_count": 35,
   "id": "c9052247-e9cb-4533-8a6e-1a82f05052a8",
   "metadata": {},
   "outputs": [
    {
     "data": {
      "text/plain": [
       "dict_keys(['_type', 'annotation_count', 'api_path', 'artist_names', 'full_title', 'header_image_thumbnail_url', 'header_image_url', 'id', 'instrumental', 'lyrics_owner_id', 'lyrics_state', 'lyrics_updated_at', 'path', 'pyongs_count', 'relationships_index_url', 'release_date_components', 'release_date_for_display', 'release_date_with_abbreviated_month_for_display', 'song_art_image_thumbnail_url', 'song_art_image_url', 'stats', 'title', 'title_with_featured', 'updated_by_human_at', 'url', 'featured_artists', 'primary_artist', 'primary_artists', 'artist', 'lyrics'])"
      ]
     },
     "execution_count": 35,
     "metadata": {},
     "output_type": "execute_result"
    }
   ],
   "source": [
    "# cool, got song ID and lyrics out of this: but we're missing artist information \n",
    "\n",
    "sample_song.to_dict().keys()"
   ]
  },
  {
   "cell_type": "code",
   "execution_count": 36,
   "id": "bb42b6cf-e744-42b5-81e3-7b2af7cb2703",
   "metadata": {},
   "outputs": [],
   "source": [
    "sample_song = sample_song.to_dict()"
   ]
  },
  {
   "cell_type": "code",
   "execution_count": 37,
   "id": "7449df7e-80e5-4c1c-84df-feaeb8dedf6e",
   "metadata": {},
   "outputs": [
    {
     "data": {
      "text/plain": [
       "2045031"
      ]
     },
     "execution_count": 37,
     "metadata": {},
     "output_type": "execute_result"
    }
   ],
   "source": [
    "sample_song['id']"
   ]
  },
  {
   "cell_type": "code",
   "execution_count": 38,
   "id": "f886bd09-bd51-41b0-994f-68cdc5ec8dd7",
   "metadata": {},
   "outputs": [
    {
     "name": "stdout",
     "output_type": "stream",
     "text": [
      "27 ContributorsGet Used to It Lyrics[Verse 1]\n",
      "Used to live down by the beach\n",
      "And I used to be good on my feet\n",
      "And my fingers used to dance on every key\n",
      "Now they're just pieces of meat\n",
      "Used to wear a suit and tie\n",
      "And I used to grab a birdie every night\n",
      "Drive down to the hotel parking lot\n",
      "Make monkey love in the street\n",
      "\n",
      "Used to go to university\n",
      "Used to be the head of varsity\n",
      "Used to live inside this box\n",
      "With everyone noticing me\n",
      "I used to leave the evening feeling right\n",
      "I'll be with you each and every night\n",
      "Chasing that horizon in our eyes\n",
      "\n",
      "[Chorus]\n",
      "You want a garden, but you got a balcony\n",
      "And you're always lookin' for some company\n",
      "You want a say, well, what you got to say?\n",
      "Give in to me, give in to me and see\n",
      "\n",
      "[Verse 2]\n",
      "Used to live down by Hyperion\n",
      "Used to be a Californian\n",
      "Way back when before my Missouri\n",
      "Left not but this envy in my heart\n",
      "Heart and soul\n",
      "Apropos, you're beautiful\n",
      "You're beautiful\n",
      "See Ricky Montgomery LiveGet tickets as low as $35You might also like[Chorus]\n",
      "You want a garden, but you got a balcony\n",
      "And you're always lookin' for some company\n",
      "You want a say, well, what you gotta say?\n",
      "Give in to me, give in to me\n",
      "Give in to me\n",
      "\n",
      "[Chorus]\n",
      "You want a garden, but you got a balcony\n",
      "And you're always lookin' for some company\n",
      "You want a say, well, what you gotta say?\n",
      "Give in to me, give in to me and see\n",
      "\n",
      "[Chorus 2]\n",
      "Garden, but you got a mouth to feed\n",
      "And you're always looking for some company\n",
      "You want a say (say), well, what you gotta say?\n",
      "What you gotta say? What you gotta say? (Say)\n",
      "Give in to me\n",
      "\n",
      "[Outro]\n",
      "Get used to it, get used to it\n",
      "(Garden but you got a balcony, and)\n",
      "Get used to it, get used to it\n",
      "Get used to it, get used to it\n",
      "(Garden but you got a balcony, and)\n",
      "Get used to it, get used to it\n",
      "(Garden but you got a balcony, and)\n",
      "Get used to it, get used to it\n",
      "Get used to it, get used to it\n",
      "(Garden but you got a balcony, and)\n",
      "Get used to it, get used to it\n",
      "Get used to it, get used to it\n",
      "Get used to it, get used to it1Embed\n"
     ]
    }
   ],
   "source": [
    "print(sample_song['lyrics'])"
   ]
  },
  {
   "cell_type": "code",
   "execution_count": 39,
   "id": "84ea2764-2825-491d-8413-0eafd05f38dc",
   "metadata": {},
   "outputs": [
    {
     "data": {
      "text/plain": [
       "{'alternate_names': ['Richard Montgomery', 'Richard Owen Holmes Montgomery'],\n",
       " 'api_path': '/artists/406321',\n",
       " 'description': {'plain': 'Richard “Ricky” Owen Holmes Montgomery (born April 3, 1993) is an American singer and songwriter born and raised in Los Angeles, California, but moved to St. Louis with his mother in 2005.\\n\\nBefore his solo work, He began playing in local bands around West St. Louis County at 14, and he released music with indie bands like Adversary In Arms, Carpathia, and Henry On The Run.\\n\\nAfter achieving success on Vine, Ricky released his debut extended play, Caught On The Moon, on November 14, 2014, that were featured again two years later, in his full debut studio album, Montgomery Ricky on April 1, 2016.\\n\\nRicky soon created a band called, The Honeysticks, which was formed in 2018 with artists, Caleb Hurst, Benjamin Russin, and Ryan Fyffe. The group released three studio songs along with covers from other artists posted on YouTube. Unfortunately, in early 2019, the band decided to retire from the music spotlight which was concluded in the music video release of their last single, “Out Like A Light 2,” which Ricky also planned on his behalf to stop his creation of music altogether.\\n\\nUnexpectedly in 2020, Ricky gained massive success after his song “Mr. Loverman,” and “Line Without a Hook,” with the attractions of a brand new fanbase connecting and relating the track to a 2018 crime action anime, Banana Fish. Due to the song’s massive success, Ricky’s music career started to reprise, which led him to be signed with Warner Records in 2021.\\n\\nIn 2022, Ricky released his sophomore extended play, It’s 2016 Somewhere, which was the first project since his 2016 debut album release.\\n\\nApproximately a year passed by and Ricky began the process of teasing and releasing singles that would eventually become a fourteenth-track studio album titled, Rick, which was released on September 29, 2023. Surprisingly enough, Ricky started to release three more songs that led to the announcement of the sophomore album’s deluxe edition, Rick(y), released on May 10, 2024.'},\n",
       " 'facebook_name': None,\n",
       " 'followers_count': 252,\n",
       " 'header_image_url': 'https://images.genius.com/d877e5ac19b8d8c4c3337076058149b1.340x255x1.jpg',\n",
       " 'id': 406321,\n",
       " 'image_url': 'https://images.genius.com/19a995af558174c6599842a29c08b604.1000x1000x1.jpg',\n",
       " 'instagram_name': 'rohmontgomery',\n",
       " 'is_meme_verified': False,\n",
       " 'is_verified': True,\n",
       " 'name': 'Ricky Montgomery',\n",
       " 'translation_artist': False,\n",
       " 'twitter_name': 'rohmontgomery',\n",
       " 'url': 'https://genius.com/artists/Ricky-montgomery',\n",
       " 'current_user_metadata': {'permissions': ['view_activity_stream',\n",
       "   'view_discography'],\n",
       "  'excluded_permissions': ['edit',\n",
       "   'edit_images',\n",
       "   'edit_names',\n",
       "   'edit_anything',\n",
       "   'merge',\n",
       "   'sort_artist_songs',\n",
       "   'follow',\n",
       "   'view_contribution_opportunities',\n",
       "   'edit_translation_artist',\n",
       "   'see_short_id'],\n",
       "  'interactions': {'following': False}},\n",
       " 'iq': 719,\n",
       " 'description_annotation': {'_type': 'referent',\n",
       "  'annotator_id': 3239244,\n",
       "  'annotator_login': 'EstieSway',\n",
       "  'api_path': '/referents/7112321',\n",
       "  'classification': 'accepted',\n",
       "  'fragment': 'Ricky Montgomery',\n",
       "  'id': 7112321,\n",
       "  'is_description': True,\n",
       "  'path': '/7112321/Ricky-montgomery/Ricky-montgomery',\n",
       "  'range': {'content': 'Ricky Montgomery'},\n",
       "  'song_id': None,\n",
       "  'url': 'https://genius.com/7112321/Ricky-montgomery/Ricky-montgomery',\n",
       "  'verified_annotator_ids': [],\n",
       "  'annotatable': {'api_path': '/artists/406321',\n",
       "   'context': None,\n",
       "   'id': 406321,\n",
       "   'image_url': 'https://images.genius.com/19a995af558174c6599842a29c08b604.1000x1000x1.jpg',\n",
       "   'link_title': 'Ricky Montgomery',\n",
       "   'title': 'Ricky Montgomery',\n",
       "   'type': 'Artist',\n",
       "   'url': 'https://genius.com/artists/Ricky-montgomery'},\n",
       "  'annotations': [{'api_path': '/annotations/7112321',\n",
       "    'body': {'plain': 'Richard “Ricky” Owen Holmes Montgomery (born April 3, 1993) is an American singer and songwriter born and raised in Los Angeles, California, but moved to St. Louis with his mother in 2005.\\n\\nBefore his solo work, He began playing in local bands around West St. Louis County at 14, and he released music with indie bands like Adversary In Arms, Carpathia, and Henry On The Run.\\n\\nAfter achieving success on Vine, Ricky released his debut extended play, Caught On The Moon, on November 14, 2014, that were featured again two years later, in his full debut studio album, Montgomery Ricky on April 1, 2016.\\n\\nRicky soon created a band called, The Honeysticks, which was formed in 2018 with artists, Caleb Hurst, Benjamin Russin, and Ryan Fyffe. The group released three studio songs along with covers from other artists posted on YouTube. Unfortunately, in early 2019, the band decided to retire from the music spotlight which was concluded in the music video release of their last single, “Out Like A Light 2,” which Ricky also planned on his behalf to stop his creation of music altogether.\\n\\nUnexpectedly in 2020, Ricky gained massive success after his song “Mr. Loverman,” and “Line Without a Hook,” with the attractions of a brand new fanbase connecting and relating the track to a 2018 crime action anime, Banana Fish. Due to the song’s massive success, Ricky’s music career started to reprise, which led him to be signed with Warner Records in 2021.\\n\\nIn 2022, Ricky released his sophomore extended play, It’s 2016 Somewhere, which was the first project since his 2016 debut album release.\\n\\nApproximately a year passed by and Ricky began the process of teasing and releasing singles that would eventually become a fourteenth-track studio album titled, Rick, which was released on September 29, 2023. Surprisingly enough, Ricky started to release three more songs that led to the announcement of the sophomore album’s deluxe edition, Rick(y), released on May 10, 2024.'},\n",
       "    'comment_count': 0,\n",
       "    'community': True,\n",
       "    'custom_preview': None,\n",
       "    'has_voters': True,\n",
       "    'id': 7112321,\n",
       "    'pinned': False,\n",
       "    'share_url': 'https://genius.com/7112321',\n",
       "    'source': None,\n",
       "    'state': 'accepted',\n",
       "    'url': 'https://genius.com/7112321/Ricky-montgomery/Ricky-montgomery',\n",
       "    'verified': False,\n",
       "    'votes_total': 33,\n",
       "    'current_user_metadata': {'permissions': [],\n",
       "     'excluded_permissions': ['vote',\n",
       "      'edit',\n",
       "      'cosign',\n",
       "      'uncosign',\n",
       "      'destroy',\n",
       "      'accept',\n",
       "      'reject',\n",
       "      'see_unreviewed',\n",
       "      'clear_votes',\n",
       "      'propose_edit_to',\n",
       "      'pin_to_profile',\n",
       "      'unpin_from_profile',\n",
       "      'update_source',\n",
       "      'edit_custom_preview',\n",
       "      'create_comment'],\n",
       "     'interactions': {'cosign': False, 'pyong': False, 'vote': None},\n",
       "     'iq_by_action': {}},\n",
       "    'authors': [{'attribution': 0.7859327217125383,\n",
       "      'pinned_role': None,\n",
       "      'user': {'api_path': '/users/12101263',\n",
       "       'avatar': {'tiny': {'url': 'https://images.genius.com/avatars/tiny/0c017f9879904a0931a9d3ad97958679',\n",
       "         'bounding_box': {'width': 16, 'height': 16}},\n",
       "        'thumb': {'url': 'https://images.genius.com/avatars/thumb/0c017f9879904a0931a9d3ad97958679',\n",
       "         'bounding_box': {'width': 32, 'height': 32}},\n",
       "        'small': {'url': 'https://images.genius.com/avatars/small/0c017f9879904a0931a9d3ad97958679',\n",
       "         'bounding_box': {'width': 100, 'height': 100}},\n",
       "        'medium': {'url': 'https://images.genius.com/avatars/medium/0c017f9879904a0931a9d3ad97958679',\n",
       "         'bounding_box': {'width': 300, 'height': 400}}},\n",
       "       'header_image_url': 'https://images.genius.com/92f0c2d88d41afa398b802cb0f3bdfef.811x968x1.jpg',\n",
       "       'human_readable_role_for_display': 'Editor',\n",
       "       'id': 12101263,\n",
       "       'iq': 135379,\n",
       "       'login': 'mrshinywillow',\n",
       "       'name': '\\u200b\\u200b\\u200bmr\\u200bshinywillow',\n",
       "       'role_for_display': 'editor',\n",
       "       'url': 'https://genius.com/mrshinywillow',\n",
       "       'current_user_metadata': {'permissions': [],\n",
       "        'excluded_permissions': ['follow'],\n",
       "        'interactions': {'following': False}}}},\n",
       "     {'attribution': 0.1437308868501529,\n",
       "      'pinned_role': None,\n",
       "      'user': {'api_path': '/users/3239244',\n",
       "       'avatar': {'tiny': {'url': 'https://images.genius.com/avatars/tiny/4ae1516f5108b3587c359fe876236979',\n",
       "         'bounding_box': {'width': 16, 'height': 16}},\n",
       "        'thumb': {'url': 'https://images.genius.com/avatars/thumb/4ae1516f5108b3587c359fe876236979',\n",
       "         'bounding_box': {'width': 32, 'height': 32}},\n",
       "        'small': {'url': 'https://images.genius.com/avatars/small/4ae1516f5108b3587c359fe876236979',\n",
       "         'bounding_box': {'width': 100, 'height': 100}},\n",
       "        'medium': {'url': 'https://images.genius.com/avatars/medium/4ae1516f5108b3587c359fe876236979',\n",
       "         'bounding_box': {'width': 300, 'height': 400}}},\n",
       "       'header_image_url': 'https://images.genius.com/avatars/medium/4ae1516f5108b3587c359fe876236979',\n",
       "       'human_readable_role_for_display': 'Contributor',\n",
       "       'id': 3239244,\n",
       "       'iq': 589,\n",
       "       'login': 'EstieSway',\n",
       "       'name': 'EstieSway',\n",
       "       'role_for_display': 'contributor',\n",
       "       'url': 'https://genius.com/EstieSway',\n",
       "       'current_user_metadata': {'permissions': [],\n",
       "        'excluded_permissions': ['follow'],\n",
       "        'interactions': {'following': False}}}},\n",
       "     {'attribution': 0.07033639143730887,\n",
       "      'pinned_role': None,\n",
       "      'user': {'api_path': '/users/7604071',\n",
       "       'avatar': {'tiny': {'url': 'https://images.genius.com/avatars/tiny/32b05ae1ec7556f9162b10517dddd87d',\n",
       "         'bounding_box': {'width': 16, 'height': 16}},\n",
       "        'thumb': {'url': 'https://images.genius.com/avatars/thumb/32b05ae1ec7556f9162b10517dddd87d',\n",
       "         'bounding_box': {'width': 32, 'height': 32}},\n",
       "        'small': {'url': 'https://images.genius.com/avatars/small/32b05ae1ec7556f9162b10517dddd87d',\n",
       "         'bounding_box': {'width': 100, 'height': 100}},\n",
       "        'medium': {'url': 'https://images.genius.com/avatars/medium/32b05ae1ec7556f9162b10517dddd87d',\n",
       "         'bounding_box': {'width': 300, 'height': 400}}},\n",
       "       'header_image_url': 'https://images.genius.com/d877e5ac19b8d8c4c3337076058149b1.340x255x1.jpg',\n",
       "       'human_readable_role_for_display': 'Verified Artist',\n",
       "       'id': 7604071,\n",
       "       'iq': 719,\n",
       "       'login': 'RickyMontgomery',\n",
       "       'name': 'Ricky Montgomery',\n",
       "       'role_for_display': 'verified_artist',\n",
       "       'url': 'https://genius.com/RickyMontgomery',\n",
       "       'current_user_metadata': {'permissions': [],\n",
       "        'excluded_permissions': ['follow'],\n",
       "        'interactions': {'following': False}}}}],\n",
       "    'cosigned_by': [],\n",
       "    'rejection_comment': None,\n",
       "    'verified_by': None}]},\n",
       " 'user': {'api_path': '/users/7604071',\n",
       "  'avatar': {'tiny': {'url': 'https://images.genius.com/avatars/tiny/32b05ae1ec7556f9162b10517dddd87d',\n",
       "    'bounding_box': {'width': 16, 'height': 16}},\n",
       "   'thumb': {'url': 'https://images.genius.com/avatars/thumb/32b05ae1ec7556f9162b10517dddd87d',\n",
       "    'bounding_box': {'width': 32, 'height': 32}},\n",
       "   'small': {'url': 'https://images.genius.com/avatars/small/32b05ae1ec7556f9162b10517dddd87d',\n",
       "    'bounding_box': {'width': 100, 'height': 100}},\n",
       "   'medium': {'url': 'https://images.genius.com/avatars/medium/32b05ae1ec7556f9162b10517dddd87d',\n",
       "    'bounding_box': {'width': 300, 'height': 400}}},\n",
       "  'header_image_url': 'https://images.genius.com/d877e5ac19b8d8c4c3337076058149b1.340x255x1.jpg',\n",
       "  'human_readable_role_for_display': 'Verified Artist',\n",
       "  'id': 7604071,\n",
       "  'iq': 719,\n",
       "  'login': 'RickyMontgomery',\n",
       "  'name': 'Ricky Montgomery',\n",
       "  'role_for_display': 'verified_artist',\n",
       "  'url': 'https://genius.com/RickyMontgomery',\n",
       "  'current_user_metadata': {'permissions': [],\n",
       "   'excluded_permissions': ['follow'],\n",
       "   'interactions': {'following': False}}},\n",
       " 'songs': []}"
      ]
     },
     "execution_count": 39,
     "metadata": {},
     "output_type": "execute_result"
    }
   ],
   "source": [
    "# let's ssee if we can get artist infromation: \n",
    "\n",
    "sample_artist.to_dict()"
   ]
  },
  {
   "cell_type": "code",
   "execution_count": 40,
   "id": "cd71e006-136e-4a06-b3bf-336be0c39158",
   "metadata": {},
   "outputs": [
    {
     "data": {
      "text/plain": [
       "dict_keys(['alternate_names', 'api_path', 'description', 'facebook_name', 'followers_count', 'header_image_url', 'id', 'image_url', 'instagram_name', 'is_meme_verified', 'is_verified', 'name', 'translation_artist', 'twitter_name', 'url', 'current_user_metadata', 'iq', 'description_annotation', 'user', 'songs'])"
      ]
     },
     "execution_count": 40,
     "metadata": {},
     "output_type": "execute_result"
    }
   ],
   "source": [
    "sample_artist.to_dict().keys()"
   ]
  },
  {
   "cell_type": "code",
   "execution_count": 41,
   "id": "289b7c8e-51bd-464d-892c-9a06272c4c60",
   "metadata": {},
   "outputs": [],
   "source": [
    "sample_artist = sample_artist.to_dict()"
   ]
  },
  {
   "cell_type": "code",
   "execution_count": 42,
   "id": "b03e7d75-6f18-4642-9059-a1af9ecd07af",
   "metadata": {},
   "outputs": [],
   "source": [
    "description = sample_artist['description']['plain']"
   ]
  },
  {
   "cell_type": "code",
   "execution_count": 43,
   "id": "2deff50c-b6ab-46da-9758-d1945d6542fc",
   "metadata": {},
   "outputs": [],
   "source": [
    "# let's try to find geographical locations: \n",
    "# maybe split by sentence and then see if theres a sentence with geographic locations mentioned?\n",
    "\n",
    "import re "
   ]
  },
  {
   "cell_type": "code",
   "execution_count": 44,
   "id": "6c0fc8d3-72c1-4008-8d95-3045955d3c6d",
   "metadata": {},
   "outputs": [
    {
     "data": {
      "text/plain": [
       "['Richard “Ricky” Owen Holmes Montgomery (born April 3, 1993) is an American singer and songwriter born and raised in Los Angeles, California, but moved to St',\n",
       " ' Louis with his mother in 2005',\n",
       " '\\n\\nBefore his solo work, He began playing in local bands around West St',\n",
       " ' Louis County at 14, and he released music with indie bands like Adversary In Arms, Carpathia, and Henry On The Run']"
      ]
     },
     "execution_count": 44,
     "metadata": {},
     "output_type": "execute_result"
    }
   ],
   "source": [
    "re.split(pattern = r'\\.', string = description)[0:4]"
   ]
  },
  {
   "cell_type": "code",
   "execution_count": 7,
   "id": "40f4e5e6-72b3-44b7-bf81-6c1b3f64ef12",
   "metadata": {},
   "outputs": [
    {
     "ename": "FileNotFoundError",
     "evalue": "[Errno 2] No such file or directory: 'uscities.csv'",
     "output_type": "error",
     "traceback": [
      "\u001b[1;31m---------------------------------------------------------------------------\u001b[0m",
      "\u001b[1;31mFileNotFoundError\u001b[0m                         Traceback (most recent call last)",
      "\u001b[1;32m~\\AppData\\Local\\Temp\\ipykernel_1736\\1883576836.py\u001b[0m in \u001b[0;36m<module>\u001b[1;34m\u001b[0m\n\u001b[0;32m      1\u001b[0m \u001b[1;31m# okay so the period is NOT going to work :(( maybe I can relate it to the database? Keep sentences that have states in them? cities in them too?\u001b[0m\u001b[1;33m\u001b[0m\u001b[1;33m\u001b[0m\u001b[0m\n\u001b[0;32m      2\u001b[0m \u001b[1;33m\u001b[0m\u001b[0m\n\u001b[1;32m----> 3\u001b[1;33m \u001b[0mcity_data\u001b[0m \u001b[1;33m=\u001b[0m \u001b[0mpd\u001b[0m\u001b[1;33m.\u001b[0m\u001b[0mread_csv\u001b[0m\u001b[1;33m(\u001b[0m\u001b[1;34m'uscities.csv'\u001b[0m\u001b[1;33m)\u001b[0m\u001b[1;33m\u001b[0m\u001b[1;33m\u001b[0m\u001b[0m\n\u001b[0m",
      "\u001b[1;32m~\\anaconda3\\lib\\site-packages\\pandas\\util\\_decorators.py\u001b[0m in \u001b[0;36mwrapper\u001b[1;34m(*args, **kwargs)\u001b[0m\n\u001b[0;32m    309\u001b[0m                     \u001b[0mstacklevel\u001b[0m\u001b[1;33m=\u001b[0m\u001b[0mstacklevel\u001b[0m\u001b[1;33m,\u001b[0m\u001b[1;33m\u001b[0m\u001b[1;33m\u001b[0m\u001b[0m\n\u001b[0;32m    310\u001b[0m                 )\n\u001b[1;32m--> 311\u001b[1;33m             \u001b[1;32mreturn\u001b[0m \u001b[0mfunc\u001b[0m\u001b[1;33m(\u001b[0m\u001b[1;33m*\u001b[0m\u001b[0margs\u001b[0m\u001b[1;33m,\u001b[0m \u001b[1;33m**\u001b[0m\u001b[0mkwargs\u001b[0m\u001b[1;33m)\u001b[0m\u001b[1;33m\u001b[0m\u001b[1;33m\u001b[0m\u001b[0m\n\u001b[0m\u001b[0;32m    312\u001b[0m \u001b[1;33m\u001b[0m\u001b[0m\n\u001b[0;32m    313\u001b[0m         \u001b[1;32mreturn\u001b[0m \u001b[0mwrapper\u001b[0m\u001b[1;33m\u001b[0m\u001b[1;33m\u001b[0m\u001b[0m\n",
      "\u001b[1;32m~\\anaconda3\\lib\\site-packages\\pandas\\io\\parsers\\readers.py\u001b[0m in \u001b[0;36mread_csv\u001b[1;34m(filepath_or_buffer, sep, delimiter, header, names, index_col, usecols, squeeze, prefix, mangle_dupe_cols, dtype, engine, converters, true_values, false_values, skipinitialspace, skiprows, skipfooter, nrows, na_values, keep_default_na, na_filter, verbose, skip_blank_lines, parse_dates, infer_datetime_format, keep_date_col, date_parser, dayfirst, cache_dates, iterator, chunksize, compression, thousands, decimal, lineterminator, quotechar, quoting, doublequote, escapechar, comment, encoding, encoding_errors, dialect, error_bad_lines, warn_bad_lines, on_bad_lines, delim_whitespace, low_memory, memory_map, float_precision, storage_options)\u001b[0m\n\u001b[0;32m    676\u001b[0m     \u001b[0mkwds\u001b[0m\u001b[1;33m.\u001b[0m\u001b[0mupdate\u001b[0m\u001b[1;33m(\u001b[0m\u001b[0mkwds_defaults\u001b[0m\u001b[1;33m)\u001b[0m\u001b[1;33m\u001b[0m\u001b[1;33m\u001b[0m\u001b[0m\n\u001b[0;32m    677\u001b[0m \u001b[1;33m\u001b[0m\u001b[0m\n\u001b[1;32m--> 678\u001b[1;33m     \u001b[1;32mreturn\u001b[0m \u001b[0m_read\u001b[0m\u001b[1;33m(\u001b[0m\u001b[0mfilepath_or_buffer\u001b[0m\u001b[1;33m,\u001b[0m \u001b[0mkwds\u001b[0m\u001b[1;33m)\u001b[0m\u001b[1;33m\u001b[0m\u001b[1;33m\u001b[0m\u001b[0m\n\u001b[0m\u001b[0;32m    679\u001b[0m \u001b[1;33m\u001b[0m\u001b[0m\n\u001b[0;32m    680\u001b[0m \u001b[1;33m\u001b[0m\u001b[0m\n",
      "\u001b[1;32m~\\anaconda3\\lib\\site-packages\\pandas\\io\\parsers\\readers.py\u001b[0m in \u001b[0;36m_read\u001b[1;34m(filepath_or_buffer, kwds)\u001b[0m\n\u001b[0;32m    573\u001b[0m \u001b[1;33m\u001b[0m\u001b[0m\n\u001b[0;32m    574\u001b[0m     \u001b[1;31m# Create the parser.\u001b[0m\u001b[1;33m\u001b[0m\u001b[1;33m\u001b[0m\u001b[0m\n\u001b[1;32m--> 575\u001b[1;33m     \u001b[0mparser\u001b[0m \u001b[1;33m=\u001b[0m \u001b[0mTextFileReader\u001b[0m\u001b[1;33m(\u001b[0m\u001b[0mfilepath_or_buffer\u001b[0m\u001b[1;33m,\u001b[0m \u001b[1;33m**\u001b[0m\u001b[0mkwds\u001b[0m\u001b[1;33m)\u001b[0m\u001b[1;33m\u001b[0m\u001b[1;33m\u001b[0m\u001b[0m\n\u001b[0m\u001b[0;32m    576\u001b[0m \u001b[1;33m\u001b[0m\u001b[0m\n\u001b[0;32m    577\u001b[0m     \u001b[1;32mif\u001b[0m \u001b[0mchunksize\u001b[0m \u001b[1;32mor\u001b[0m \u001b[0miterator\u001b[0m\u001b[1;33m:\u001b[0m\u001b[1;33m\u001b[0m\u001b[1;33m\u001b[0m\u001b[0m\n",
      "\u001b[1;32m~\\anaconda3\\lib\\site-packages\\pandas\\io\\parsers\\readers.py\u001b[0m in \u001b[0;36m__init__\u001b[1;34m(self, f, engine, **kwds)\u001b[0m\n\u001b[0;32m    930\u001b[0m \u001b[1;33m\u001b[0m\u001b[0m\n\u001b[0;32m    931\u001b[0m         \u001b[0mself\u001b[0m\u001b[1;33m.\u001b[0m\u001b[0mhandles\u001b[0m\u001b[1;33m:\u001b[0m \u001b[0mIOHandles\u001b[0m \u001b[1;33m|\u001b[0m \u001b[1;32mNone\u001b[0m \u001b[1;33m=\u001b[0m \u001b[1;32mNone\u001b[0m\u001b[1;33m\u001b[0m\u001b[1;33m\u001b[0m\u001b[0m\n\u001b[1;32m--> 932\u001b[1;33m         \u001b[0mself\u001b[0m\u001b[1;33m.\u001b[0m\u001b[0m_engine\u001b[0m \u001b[1;33m=\u001b[0m \u001b[0mself\u001b[0m\u001b[1;33m.\u001b[0m\u001b[0m_make_engine\u001b[0m\u001b[1;33m(\u001b[0m\u001b[0mf\u001b[0m\u001b[1;33m,\u001b[0m \u001b[0mself\u001b[0m\u001b[1;33m.\u001b[0m\u001b[0mengine\u001b[0m\u001b[1;33m)\u001b[0m\u001b[1;33m\u001b[0m\u001b[1;33m\u001b[0m\u001b[0m\n\u001b[0m\u001b[0;32m    933\u001b[0m \u001b[1;33m\u001b[0m\u001b[0m\n\u001b[0;32m    934\u001b[0m     \u001b[1;32mdef\u001b[0m \u001b[0mclose\u001b[0m\u001b[1;33m(\u001b[0m\u001b[0mself\u001b[0m\u001b[1;33m)\u001b[0m\u001b[1;33m:\u001b[0m\u001b[1;33m\u001b[0m\u001b[1;33m\u001b[0m\u001b[0m\n",
      "\u001b[1;32m~\\anaconda3\\lib\\site-packages\\pandas\\io\\parsers\\readers.py\u001b[0m in \u001b[0;36m_make_engine\u001b[1;34m(self, f, engine)\u001b[0m\n\u001b[0;32m   1214\u001b[0m             \u001b[1;31m# \"Union[str, PathLike[str], ReadCsvBuffer[bytes], ReadCsvBuffer[str]]\"\u001b[0m\u001b[1;33m\u001b[0m\u001b[1;33m\u001b[0m\u001b[0m\n\u001b[0;32m   1215\u001b[0m             \u001b[1;31m# , \"str\", \"bool\", \"Any\", \"Any\", \"Any\", \"Any\", \"Any\"\u001b[0m\u001b[1;33m\u001b[0m\u001b[1;33m\u001b[0m\u001b[0m\n\u001b[1;32m-> 1216\u001b[1;33m             self.handles = get_handle(  # type: ignore[call-overload]\n\u001b[0m\u001b[0;32m   1217\u001b[0m                 \u001b[0mf\u001b[0m\u001b[1;33m,\u001b[0m\u001b[1;33m\u001b[0m\u001b[1;33m\u001b[0m\u001b[0m\n\u001b[0;32m   1218\u001b[0m                 \u001b[0mmode\u001b[0m\u001b[1;33m,\u001b[0m\u001b[1;33m\u001b[0m\u001b[1;33m\u001b[0m\u001b[0m\n",
      "\u001b[1;32m~\\anaconda3\\lib\\site-packages\\pandas\\io\\common.py\u001b[0m in \u001b[0;36mget_handle\u001b[1;34m(path_or_buf, mode, encoding, compression, memory_map, is_text, errors, storage_options)\u001b[0m\n\u001b[0;32m    784\u001b[0m         \u001b[1;32mif\u001b[0m \u001b[0mioargs\u001b[0m\u001b[1;33m.\u001b[0m\u001b[0mencoding\u001b[0m \u001b[1;32mand\u001b[0m \u001b[1;34m\"b\"\u001b[0m \u001b[1;32mnot\u001b[0m \u001b[1;32min\u001b[0m \u001b[0mioargs\u001b[0m\u001b[1;33m.\u001b[0m\u001b[0mmode\u001b[0m\u001b[1;33m:\u001b[0m\u001b[1;33m\u001b[0m\u001b[1;33m\u001b[0m\u001b[0m\n\u001b[0;32m    785\u001b[0m             \u001b[1;31m# Encoding\u001b[0m\u001b[1;33m\u001b[0m\u001b[1;33m\u001b[0m\u001b[0m\n\u001b[1;32m--> 786\u001b[1;33m             handle = open(\n\u001b[0m\u001b[0;32m    787\u001b[0m                 \u001b[0mhandle\u001b[0m\u001b[1;33m,\u001b[0m\u001b[1;33m\u001b[0m\u001b[1;33m\u001b[0m\u001b[0m\n\u001b[0;32m    788\u001b[0m                 \u001b[0mioargs\u001b[0m\u001b[1;33m.\u001b[0m\u001b[0mmode\u001b[0m\u001b[1;33m,\u001b[0m\u001b[1;33m\u001b[0m\u001b[1;33m\u001b[0m\u001b[0m\n",
      "\u001b[1;31mFileNotFoundError\u001b[0m: [Errno 2] No such file or directory: 'uscities.csv'"
     ]
    }
   ],
   "source": [
    "# okay so the period is NOT going to work :(( maybe I can relate it to the database? Keep sentences that have states in them? cities in them too?\n",
    "\n",
    "city_data = pd.read_csv('uscities.csv')"
   ]
  },
  {
   "cell_type": "code",
   "execution_count": null,
   "id": "af8f158a-c2ab-4239-b513-80d692e3cd07",
   "metadata": {},
   "outputs": [],
   "source": [
    "wrong_artist = genius.search_song(title = 'HOT TO GO!', artist = 'Justin Bieber')"
   ]
  },
  {
   "cell_type": "code",
   "execution_count": null,
   "id": "f9b65c4f-6488-407c-891a-6581903c28c0",
   "metadata": {},
   "outputs": [],
   "source": [
    "wrong_song_lyrics = wrong_artist.to_dict()['lyrics']"
   ]
  },
  {
   "cell_type": "code",
   "execution_count": null,
   "id": "b65bf414-015b-4d23-b6e1-e0dbf15fc3cc",
   "metadata": {},
   "outputs": [],
   "source": [
    "wrong_song_lyrics\n"
   ]
  },
  {
   "cell_type": "code",
   "execution_count": null,
   "id": "07620cbc-78e6-4b84-91db-0ca0e77ffa4a",
   "metadata": {},
   "outputs": [],
   "source": []
  }
 ],
 "metadata": {
  "kernelspec": {
   "display_name": "Python 3 (ipykernel)",
   "language": "python",
   "name": "python3"
  },
  "language_info": {
   "codemirror_mode": {
    "name": "ipython",
    "version": 3
   },
   "file_extension": ".py",
   "mimetype": "text/x-python",
   "name": "python",
   "nbconvert_exporter": "python",
   "pygments_lexer": "ipython3",
   "version": "3.9.13"
  }
 },
 "nbformat": 4,
 "nbformat_minor": 5
}
